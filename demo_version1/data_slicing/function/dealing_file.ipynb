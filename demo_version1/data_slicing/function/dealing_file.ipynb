{
 "cells": [
  {
   "cell_type": "markdown",
   "metadata": {},
   "source": [
    "## Dealing Part1\n",
    "- delete redundant/useless cols and rows after 1st slicing"
   ]
  },
  {
   "cell_type": "code",
   "execution_count": 19,
   "metadata": {},
   "outputs": [],
   "source": [
    "import pandas as pd"
   ]
  },
  {
   "cell_type": "code",
   "execution_count": 20,
   "metadata": {},
   "outputs": [
    {
     "data": {
      "text/html": [
       "<div>\n",
       "<style scoped>\n",
       "    .dataframe tbody tr th:only-of-type {\n",
       "        vertical-align: middle;\n",
       "    }\n",
       "\n",
       "    .dataframe tbody tr th {\n",
       "        vertical-align: top;\n",
       "    }\n",
       "\n",
       "    .dataframe thead th {\n",
       "        text-align: right;\n",
       "    }\n",
       "</style>\n",
       "<table border=\"1\" class=\"dataframe\">\n",
       "  <thead>\n",
       "    <tr style=\"text-align: right;\">\n",
       "      <th></th>\n",
       "      <th>X</th>\n",
       "      <th>Y</th>\n",
       "      <th>Z</th>\n",
       "      <th>Slice_Index</th>\n",
       "      <th>Adjusted_X</th>\n",
       "      <th>Adjusted_Y</th>\n",
       "      <th>Adjusted_Z</th>\n",
       "    </tr>\n",
       "  </thead>\n",
       "  <tbody>\n",
       "    <tr>\n",
       "      <th>0</th>\n",
       "      <td>-0.211594</td>\n",
       "      <td>-3.159180</td>\n",
       "      <td>0.292282</td>\n",
       "      <td>0.0</td>\n",
       "      <td>-0.211594</td>\n",
       "      <td>-3.159180</td>\n",
       "      <td>0.292282</td>\n",
       "    </tr>\n",
       "    <tr>\n",
       "      <th>1</th>\n",
       "      <td>-0.209300</td>\n",
       "      <td>-3.245606</td>\n",
       "      <td>0.538466</td>\n",
       "      <td>0.0</td>\n",
       "      <td>-0.209300</td>\n",
       "      <td>-3.245606</td>\n",
       "      <td>0.538466</td>\n",
       "    </tr>\n",
       "    <tr>\n",
       "      <th>2</th>\n",
       "      <td>-0.207960</td>\n",
       "      <td>-3.091518</td>\n",
       "      <td>0.086628</td>\n",
       "      <td>0.0</td>\n",
       "      <td>-0.207960</td>\n",
       "      <td>-3.091518</td>\n",
       "      <td>0.086628</td>\n",
       "    </tr>\n",
       "    <tr>\n",
       "      <th>3</th>\n",
       "      <td>-0.206295</td>\n",
       "      <td>-3.168202</td>\n",
       "      <td>0.330361</td>\n",
       "      <td>0.0</td>\n",
       "      <td>-0.206295</td>\n",
       "      <td>-3.168202</td>\n",
       "      <td>0.330361</td>\n",
       "    </tr>\n",
       "    <tr>\n",
       "      <th>4</th>\n",
       "      <td>-0.206170</td>\n",
       "      <td>-3.142314</td>\n",
       "      <td>0.273692</td>\n",
       "      <td>0.0</td>\n",
       "      <td>-0.206170</td>\n",
       "      <td>-3.142314</td>\n",
       "      <td>0.273692</td>\n",
       "    </tr>\n",
       "  </tbody>\n",
       "</table>\n",
       "</div>"
      ],
      "text/plain": [
       "          X         Y         Z  Slice_Index  Adjusted_X  Adjusted_Y  \\\n",
       "0 -0.211594 -3.159180  0.292282          0.0   -0.211594   -3.159180   \n",
       "1 -0.209300 -3.245606  0.538466          0.0   -0.209300   -3.245606   \n",
       "2 -0.207960 -3.091518  0.086628          0.0   -0.207960   -3.091518   \n",
       "3 -0.206295 -3.168202  0.330361          0.0   -0.206295   -3.168202   \n",
       "4 -0.206170 -3.142314  0.273692          0.0   -0.206170   -3.142314   \n",
       "\n",
       "   Adjusted_Z  \n",
       "0    0.292282  \n",
       "1    0.538466  \n",
       "2    0.086628  \n",
       "3    0.330361  \n",
       "4    0.273692  "
      ]
     },
     "execution_count": 20,
     "metadata": {},
     "output_type": "execute_result"
    }
   ],
   "source": [
    "df = pd.read_csv(\"points_slice_info_plane3.csv\")\n",
    "df.head()"
   ]
  },
  {
   "cell_type": "code",
   "execution_count": 21,
   "metadata": {},
   "outputs": [
    {
     "data": {
      "text/plain": [
       "(16048, 7)"
      ]
     },
     "execution_count": 21,
     "metadata": {},
     "output_type": "execute_result"
    }
   ],
   "source": [
    "df = df[~((df['X'] == 0) & (df['Y'] == 0) & (df['Z'] == 0))]\n",
    "df.shape"
   ]
  },
  {
   "cell_type": "code",
   "execution_count": 22,
   "metadata": {},
   "outputs": [
    {
     "data": {
      "text/plain": [
       "(16048, 4)"
      ]
     },
     "execution_count": 22,
     "metadata": {},
     "output_type": "execute_result"
    }
   ],
   "source": [
    "# 删除特定的列\n",
    "df = df.drop(['Adjusted_X', 'Adjusted_Y', 'Adjusted_Z'], axis=1)\n",
    "df.shape"
   ]
  },
  {
   "cell_type": "code",
   "execution_count": 24,
   "metadata": {},
   "outputs": [
    {
     "data": {
      "text/html": [
       "<div>\n",
       "<style scoped>\n",
       "    .dataframe tbody tr th:only-of-type {\n",
       "        vertical-align: middle;\n",
       "    }\n",
       "\n",
       "    .dataframe tbody tr th {\n",
       "        vertical-align: top;\n",
       "    }\n",
       "\n",
       "    .dataframe thead th {\n",
       "        text-align: right;\n",
       "    }\n",
       "</style>\n",
       "<table border=\"1\" class=\"dataframe\">\n",
       "  <thead>\n",
       "    <tr style=\"text-align: right;\">\n",
       "      <th></th>\n",
       "      <th>Adjusted_X</th>\n",
       "      <th>Adjusted_Y</th>\n",
       "      <th>Adjusted_Z</th>\n",
       "    </tr>\n",
       "  </thead>\n",
       "  <tbody>\n",
       "    <tr>\n",
       "      <th>0</th>\n",
       "      <td>-0.211594</td>\n",
       "      <td>-3.159180</td>\n",
       "      <td>0.292282</td>\n",
       "    </tr>\n",
       "    <tr>\n",
       "      <th>1</th>\n",
       "      <td>-0.209300</td>\n",
       "      <td>-3.245606</td>\n",
       "      <td>0.538466</td>\n",
       "    </tr>\n",
       "    <tr>\n",
       "      <th>2</th>\n",
       "      <td>-0.207960</td>\n",
       "      <td>-3.091518</td>\n",
       "      <td>0.086628</td>\n",
       "    </tr>\n",
       "    <tr>\n",
       "      <th>3</th>\n",
       "      <td>-0.206295</td>\n",
       "      <td>-3.168202</td>\n",
       "      <td>0.330361</td>\n",
       "    </tr>\n",
       "    <tr>\n",
       "      <th>4</th>\n",
       "      <td>-0.206170</td>\n",
       "      <td>-3.142314</td>\n",
       "      <td>0.273692</td>\n",
       "    </tr>\n",
       "  </tbody>\n",
       "</table>\n",
       "</div>"
      ],
      "text/plain": [
       "   Adjusted_X  Adjusted_Y  Adjusted_Z\n",
       "0   -0.211594   -3.159180    0.292282\n",
       "1   -0.209300   -3.245606    0.538466\n",
       "2   -0.207960   -3.091518    0.086628\n",
       "3   -0.206295   -3.168202    0.330361\n",
       "4   -0.206170   -3.142314    0.273692"
      ]
     },
     "execution_count": 24,
     "metadata": {},
     "output_type": "execute_result"
    }
   ],
   "source": [
    "df2 = pd.read_csv(\"points_adjusted_positions_plane3.csv\")\n",
    "df2.head()"
   ]
  },
  {
   "cell_type": "code",
   "execution_count": 25,
   "metadata": {},
   "outputs": [
    {
     "data": {
      "text/plain": [
       "(16048, 3)"
      ]
     },
     "execution_count": 25,
     "metadata": {},
     "output_type": "execute_result"
    }
   ],
   "source": [
    "df2 = df2[~((df2['Adjusted_X'] == 0) & (df2['Adjusted_Y'] == 0) & (df2['Adjusted_Z'] == 0))]\n",
    "df2.shape"
   ]
  },
  {
   "cell_type": "code",
   "execution_count": 26,
   "metadata": {},
   "outputs": [],
   "source": [
    "#to_csv\n",
    "df.to_csv(\"plane3_info.csv\",index=False)\n",
    "df2.to_csv(\"plane3_adjust1.csv\",index=False)"
   ]
  },
  {
   "cell_type": "code",
   "execution_count": 27,
   "metadata": {},
   "outputs": [
    {
     "data": {
      "text/plain": [
       "Adjusted_X    float64\n",
       "Adjusted_Y    float64\n",
       "Adjusted_Z    float64\n",
       "dtype: object"
      ]
     },
     "execution_count": 27,
     "metadata": {},
     "output_type": "execute_result"
    }
   ],
   "source": [
    "a = pd.read_csv(\"plane3_adjust1.csv\")\n",
    "a.dtypes"
   ]
  },
  {
   "cell_type": "code",
   "execution_count": 9,
   "metadata": {},
   "outputs": [
    {
     "data": {
      "text/plain": [
       "Adjusted_X     float64\n",
       "Adjusted_Y     float64\n",
       "Adjusted_Z     float64\n",
       "Slice_Index      int64\n",
       "dtype: object"
      ]
     },
     "execution_count": 9,
     "metadata": {},
     "output_type": "execute_result"
    }
   ],
   "source": [
    "b = pd.read_csv(\"./plane3_split/info/slice_0_slice_with_gap_000.csv\")\n",
    "b.dtypes"
   ]
  },
  {
   "cell_type": "code",
   "execution_count": null,
   "metadata": {},
   "outputs": [],
   "source": []
  }
 ],
 "metadata": {
  "kernelspec": {
   "display_name": "pointcloud",
   "language": "python",
   "name": "python3"
  },
  "language_info": {
   "codemirror_mode": {
    "name": "ipython",
    "version": 3
   },
   "file_extension": ".py",
   "mimetype": "text/x-python",
   "name": "python",
   "nbconvert_exporter": "python",
   "pygments_lexer": "ipython3",
   "version": "3.6.13"
  }
 },
 "nbformat": 4,
 "nbformat_minor": 2
}
