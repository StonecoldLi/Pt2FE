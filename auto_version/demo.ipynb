{
 "cells": [
  {
   "cell_type": "markdown",
   "metadata": {},
   "source": [
    "# Pt2FE\n",
    "- This is a demo for applying the Pt2FE method\n",
    "- The demo are arranged in the following steps:\n",
    "    - 1) Data Preparing\n",
    "    - 2) Data Processing\n",
    "    - 3) 3D Reconstruction\n",
    "    - 4) Convert into ANSYS APDL workflow (FE Model)\n",
    "- Although I called this demo as automatic, but somehow I have to admit that this demo was actually a semi-auto transforming process. Since some parameters you need to decide by yourself."
   ]
  },
  {
   "cell_type": "markdown",
   "metadata": {},
   "source": [
    "- So, just put your orginal pointcloud data into the data/org_data file.\n",
    "- Make sure that your file could be opened in the PointCloud software like CloudCompare or Geomagic Wrap...... in another word, make sure your file is .pcd(binary).\n",
    "    - During the further steps, we may need several kinds of data format (.pcd(binary),.pcd(ascii),.csv and so on), so we prepared the format transformation function in the same-name file.\n",
    "- The unit of your Pts data should consistent with the reality."
   ]
  },
  {
   "cell_type": "markdown",
   "metadata": {},
   "source": [
    "## Now, let's get started"
   ]
  },
  {
   "cell_type": "markdown",
   "metadata": {},
   "source": [
    "## PART 1 : DATA PREPARING"
   ]
  },
  {
   "cell_type": "markdown",
   "metadata": {},
   "source": [
    "#### let us use the open3d lib to have quick glance of your data."
   ]
  },
  {
   "cell_type": "code",
   "execution_count": null,
   "metadata": {},
   "outputs": [],
   "source": [
    "import open3d as o3d\n",
    "from data_preparing.visualize_pt import visualize_pcds"
   ]
  },
  {
   "cell_type": "code",
   "execution_count": null,
   "metadata": {},
   "outputs": [],
   "source": [
    "visualize_pcds(['data/org_data/jie5/jie5.pcd'])"
   ]
  },
  {
   "cell_type": "code",
   "execution_count": null,
   "metadata": {},
   "outputs": [],
   "source": [
    "file_name = \"jie5\""
   ]
  },
  {
   "cell_type": "markdown",
   "metadata": {},
   "source": [
    "- Compare the PointCloud data with your original one, make sure that they are formally same with each other"
   ]
  },
  {
   "cell_type": "markdown",
   "metadata": {},
   "source": [
    "- Then, we can transfer your orginal .pcd file into different format"
   ]
  },
  {
   "cell_type": "code",
   "execution_count": null,
   "metadata": {},
   "outputs": [],
   "source": [
    "# transfer your original file\n",
    "from format_transformation.ascii_to_binary import ascii_to_binary\n",
    "from format_transformation.binary_to_ascii import binary_to_ascii\n",
    "from format_transformation.pcd2txt import pcd_to_txt\n",
    "from format_transformation.txt_2_csv import txt_to_csv\n",
    "from format_transformation.asc_adjust import process_ascii_pcd, process_ascii_pcd_rgb"
   ]
  },
  {
   "cell_type": "code",
   "execution_count": null,
   "metadata": {},
   "outputs": [],
   "source": [
    "#ascii_to_binary(f\"./data/org_data/{file_name}.pcd\",f\"./data/org_data/data_{file_name}_b.pcd\")"
   ]
  },
  {
   "cell_type": "code",
   "execution_count": null,
   "metadata": {},
   "outputs": [],
   "source": [
    "binary_to_ascii(f\"./data/org_data/{file_name}/{file_name}.pcd\",f\"./data/org_data/{file_name}/{file_name}_asc_temp.pcd\")"
   ]
  },
  {
   "cell_type": "code",
   "execution_count": null,
   "metadata": {},
   "outputs": [],
   "source": [
    "#adjust the asc_data in order to make the format of the file are the same\n",
    "process_ascii_pcd_rgb(f\"./data/org_data/{file_name}/{file_name}_asc_temp.pcd\",f\"./data/org_data/{file_name}/{file_name}_asc.pcd\")"
   ]
  },
  {
   "cell_type": "code",
   "execution_count": null,
   "metadata": {},
   "outputs": [],
   "source": [
    "ascii_to_binary(f\"./data/org_data/{file_name}/{file_name}_asc.pcd\",f\"./data/org_data/{file_name}/{file_name}_b.pcd\")"
   ]
  },
  {
   "cell_type": "code",
   "execution_count": null,
   "metadata": {},
   "outputs": [],
   "source": [
    "pcd_to_txt(f\"./data/org_data/{file_name}/{file_name}_asc.pcd\", f\"./data/org_data/{file_name}/{file_name}_txt.txt\")"
   ]
  },
  {
   "cell_type": "code",
   "execution_count": null,
   "metadata": {},
   "outputs": [],
   "source": [
    "txt_to_csv(f\"./data/org_data/{file_name}/{file_name}_txt.txt\", f\"./data/org_data/{file_name}/{file_name}_csv.csv\")"
   ]
  },
  {
   "cell_type": "code",
   "execution_count": null,
   "metadata": {},
   "outputs": [],
   "source": [
    "import pandas as pd"
   ]
  },
  {
   "cell_type": "code",
   "execution_count": null,
   "metadata": {},
   "outputs": [],
   "source": [
    "csv_file = pd.read_csv(f\"./data/org_data/{file_name}/{file_name}_csv.csv\")\n",
    "csv_file.drop(0,inplace=True)\n",
    "#csv_file.reset_index(drop=True, inplace=True)\n",
    "csv_file.to_csv(f\"./data/org_data/{file_name}/{file_name}_csv.csv\", index=False)"
   ]
  },
  {
   "cell_type": "markdown",
   "metadata": {},
   "source": [
    "## PART 2 : DATA PROCESSING"
   ]
  },
  {
   "cell_type": "markdown",
   "metadata": {},
   "source": [
    "- Now, we are going to the data processing step."
   ]
  },
  {
   "cell_type": "markdown",
   "metadata": {},
   "source": [
    "### 2.1 : Coordinate Adjustment"
   ]
  },
  {
   "cell_type": "markdown",
   "metadata": {},
   "source": [
    "- If your data are offset with the reality, you may could apply this part\n",
    "- In this section, we may also use plane fitting method, which we would discuss later in section 2.2"
   ]
  },
  {
   "cell_type": "markdown",
   "metadata": {},
   "source": [
    "- 2.1.1 clustering the data in order to find the different planes in your data"
   ]
  },
  {
   "cell_type": "code",
   "execution_count": null,
   "metadata": {},
   "outputs": [],
   "source": [
    "#2.1.1 clustering the data in order to find the different planes in your data\n",
    "import numpy as np\n",
    "\n",
    "from data_processing.algorithm_clustering.points_to_surface3 import initialize_planes_with_kmeans, refine_planes"
   ]
  },
  {
   "cell_type": "code",
   "execution_count": null,
   "metadata": {},
   "outputs": [],
   "source": [
    "points_sample = np.loadtxt(f'./data/org_data/{file_name}/{file_name}_txt.txt',skiprows=1)\n",
    "n_planes = 3"
   ]
  },
  {
   "cell_type": "code",
   "execution_count": null,
   "metadata": {},
   "outputs": [],
   "source": [
    "initial_planes = initialize_planes_with_kmeans(points_sample, n_planes)\n",
    "refined_planes, refined_assignments = refine_planes(points_sample, initial_planes)"
   ]
  },
  {
   "cell_type": "code",
   "execution_count": null,
   "metadata": {},
   "outputs": [],
   "source": [
    "#visualization\n",
    "from data_processing.algorithm_clustering.points_to_surface3 import plot_points_by_group"
   ]
  },
  {
   "cell_type": "code",
   "execution_count": null,
   "metadata": {},
   "outputs": [],
   "source": [
    "plot_points_by_group(points_sample, refined_assignments)"
   ]
  },
  {
   "cell_type": "markdown",
   "metadata": {},
   "source": [
    "- To see whether if the result does make sense to the reality. (Each color represent to a plane) \n",
    "- The Relationship between color and plane number:\n",
    "    - ['r', 'g', 'b','orange','purple','black']"
   ]
  },
  {
   "cell_type": "code",
   "execution_count": null,
   "metadata": {},
   "outputs": [],
   "source": [
    "#将结果存入.csv文件\n",
    "import pandas as pd\n",
    "ass_series = pd.Series(refined_assignments)\n",
    "csv_file = f'./data/org_data/{file_name}/{file_name}_csv.csv'\n",
    "df = pd.read_csv(csv_file)\n",
    "df['cluster'] = ass_series\n",
    "df.to_csv(f\"./data/org_data/{file_name}/{file_name}_clu.csv\", index=False)"
   ]
  },
  {
   "cell_type": "markdown",
   "metadata": {},
   "source": [
    "- visualize the planes"
   ]
  },
  {
   "cell_type": "code",
   "execution_count": null,
   "metadata": {},
   "outputs": [],
   "source": [
    "import matplotlib.pyplot as plt\n",
    "import numpy as np\n",
    "from mpl_toolkits.mplot3d import Axes3D"
   ]
  },
  {
   "cell_type": "code",
   "execution_count": null,
   "metadata": {},
   "outputs": [],
   "source": [
    "#visualize the planes that we fitted\n",
    "planes_fig = refined_planes\n",
    "\n",
    "# 创建数据点\n",
    "x = np.linspace(-10, 10, 100) #绘图范围\n",
    "y = np.linspace(-10, 10, 100)\n",
    "x, y = np.meshgrid(x, y)\n",
    "\n",
    "# 创建3D图形\n",
    "fig = plt.figure()\n",
    "plt3d = fig.add_subplot(111, projection='3d')\n",
    "\n",
    "# 绘制多个平面\n",
    "for plane in planes_fig:\n",
    "    A, B, C, D = plane\n",
    "    z = (-A * x - B * y - D) / C\n",
    "    plt3d.plot_surface(x, y, z, alpha=0.5)\n",
    "\n",
    "# 设置坐标轴标签\n",
    "plt3d.set_xlabel('X')\n",
    "plt3d.set_ylabel('Y')\n",
    "plt3d.set_zlabel('Z')\n",
    "\n",
    "# 显示图形\n",
    "plt.show()"
   ]
  },
  {
   "cell_type": "markdown",
   "metadata": {},
   "source": [
    "- 补充：\n",
    "    - 因为有时候计算整体点云数据的主方向有误差，因此我们借助底面（cluster=1）的点进行主方向计算"
   ]
  },
  {
   "cell_type": "code",
   "execution_count": null,
   "metadata": {},
   "outputs": [],
   "source": [
    "import pandas as pd"
   ]
  },
  {
   "cell_type": "code",
   "execution_count": null,
   "metadata": {},
   "outputs": [],
   "source": [
    "adj_file = pd.read_csv(f'./data/org_data/{file_name}/{file_name}_clu.csv')\n",
    "adj_file.head()"
   ]
  },
  {
   "cell_type": "code",
   "execution_count": null,
   "metadata": {},
   "outputs": [],
   "source": [
    "points_file = adj_file.loc[adj_file.cluster==1,:]\n",
    "points_file.iloc[:,:3].to_csv(f'./data/org_data/{file_name}/{file_name}_dimian.csv',index=False) #底面数据"
   ]
  },
  {
   "cell_type": "code",
   "execution_count": null,
   "metadata": {},
   "outputs": [],
   "source": [
    "from format_transformation.csv2txt import csv_to_txt\n",
    "from format_transformation.txt2pcd import txt_to_pcd"
   ]
  },
  {
   "cell_type": "code",
   "execution_count": null,
   "metadata": {},
   "outputs": [],
   "source": [
    "csv_to_txt(f'./data/org_data/{file_name}/{file_name}_dimian.csv',f'./data/org_data/{file_name}/{file_name}_dimian_txt.txt')"
   ]
  },
  {
   "cell_type": "code",
   "execution_count": null,
   "metadata": {},
   "outputs": [],
   "source": [
    "txt_to_pcd(f'./data/org_data/{file_name}/{file_name}_dimian_txt.txt',f'./data/org_data/{file_name}/{file_name}_dimian_pcd_asc.pcd')"
   ]
  },
  {
   "cell_type": "code",
   "execution_count": null,
   "metadata": {},
   "outputs": [],
   "source": [
    "ascii_to_binary(f'./data/org_data/{file_name}/{file_name}_dimian_pcd_asc.pcd',f'./data/org_data/{file_name}/{file_name}_dimian_pcd_b.pcd')"
   ]
  },
  {
   "cell_type": "code",
   "execution_count": null,
   "metadata": {},
   "outputs": [],
   "source": [
    "from data_processing.coordinate_transformation.show_pt_pca import visualize_point_cloud_with_pca_svd"
   ]
  },
  {
   "cell_type": "code",
   "execution_count": null,
   "metadata": {},
   "outputs": [],
   "source": [
    "visualize_point_cloud_with_pca_svd(f'./data/org_data/{file_name}/{file_name}_dimian_pcd_b.pcd') #see the main_direction"
   ]
  },
  {
   "cell_type": "markdown",
   "metadata": {},
   "source": [
    "- 2.1.2 Transform the Point Clouds data\n",
    "    - literally contains 2 steps:\n",
    "        - Find a vector (main_direction), which tis projection on surface X=0 will align to the (0,1,0) Y-axis\n",
    "        - Find Which point are going to transform to (0,0,0)\n",
    "        - ~~Let the bottom surface align with the standard surrface Z=0 (ignore this step in this demo)~~\n",
    "    - However, if the model do not have a original bottom surface, using the intersection line to be the transformation object is also OK "
   ]
  },
  {
   "cell_type": "code",
   "execution_count": null,
   "metadata": {},
   "outputs": [],
   "source": [
    "#from data_processing.transformation_PT import transform_points v1版本:仅平移\n",
    "#from data_processing.coordinate_transformation.trans import align_and_translate_point_cloud #v2版本:主成分分析找旋转方向；平移\n",
    "from data_processing.coordinate_transformation.trans_v3 import transform_point_cloud #v3:底面主成分对齐Y轴 + 平移"
   ]
  },
  {
   "cell_type": "code",
   "execution_count": null,
   "metadata": {},
   "outputs": [],
   "source": [
    "import os\n",
    "# 假设 rotated_points 是你需要保存的numpy数组\n",
    "# rotated_points = np.array(...) \n",
    "\n",
    "output_path = f\"./data/rotated_data/{file_name}\"\n",
    "output_file = f\"{file_name}_rot_pcd_b.pcd\"\n",
    "full_path = os.path.join(output_path, output_file) #创建相应文件夹和.txt文件\n",
    "\n",
    "# 确保目标路径存在\n",
    "os.makedirs(output_path, exist_ok=True)"
   ]
  },
  {
   "cell_type": "code",
   "execution_count": null,
   "metadata": {},
   "outputs": [],
   "source": [
    "input_points_path = f\"./data/org_data/{file_name}/{file_name}_b.pcd\"\n",
    "#points_to_origin = np.array([-2.107190,-6.126470,0.653520]) #select by human\n",
    "\n",
    "vector = np.array([0.38257343, 0.92391709, 0.00384504])\n",
    "specific_point = np.array([-2.107190,-6.126470,0.653520])\n",
    "\n",
    "transformation_matrix = transform_point_cloud(input_points_path, vector, specific_point, full_path)\n",
    "\n",
    "#np.savetxt(\"./data/rotated_data/data_rot_txt.txt\", rotated_points)\n",
    "#pd.DataFrame(rotated_points,columns=[\"x\",\"y\",\"z\"]).to_csv(\"./data/rotated_data/data_rot_csv.csv\",index=False)\n",
    "print(f\"Transformation Matrix for {file_name}:\\n\", transformation_matrix)"
   ]
  },
  {
   "cell_type": "code",
   "execution_count": null,
   "metadata": {},
   "outputs": [],
   "source": [
    "#binary ----> ascii\n",
    "from format_transformation.binary_to_ascii import binary_to_ascii"
   ]
  },
  {
   "cell_type": "code",
   "execution_count": null,
   "metadata": {},
   "outputs": [],
   "source": [
    "binary_to_ascii(full_path, output_path+f\"/{file_name}_rot_pcd_asc.pcd\")"
   ]
  },
  {
   "cell_type": "code",
   "execution_count": null,
   "metadata": {},
   "outputs": [],
   "source": [
    "from format_transformation.pcd2txt import pcd_to_txt_without_xyz,pcd_to_txt"
   ]
  },
  {
   "cell_type": "code",
   "execution_count": null,
   "metadata": {},
   "outputs": [],
   "source": [
    "pcd_to_txt_without_xyz(output_path+f\"/{file_name}_rot_pcd_asc.pcd\", output_path+f\"/{file_name}_rot_txt.txt\")"
   ]
  },
  {
   "cell_type": "code",
   "execution_count": null,
   "metadata": {},
   "outputs": [],
   "source": [
    "#csv版本\n",
    "pcd_to_txt(output_path+f\"/{file_name}_rot_pcd_asc.pcd\", output_path+f\"/{file_name}_rot_txt_xyz.txt\")\n",
    "txt_to_csv(output_path+f\"/{file_name}_rot_txt_xyz.txt\", output_path+f\"/{file_name}_rot_csv.csv\")"
   ]
  },
  {
   "cell_type": "markdown",
   "metadata": {},
   "source": [
    "- OPTIMIZE THE ROTATED FUNCTION\n",
    "    - By using the PCA to find out the main direction\n",
    "    - Then select the point which is aiming to transform to (0,0,0) "
   ]
  },
  {
   "cell_type": "code",
   "execution_count": null,
   "metadata": {},
   "outputs": [],
   "source": [
    "#import pandas as pd\n",
    "#pd.DataFrame(rotated_points,columns=[\"x\",\"y\",\"z\"]).to_csv(output_path+\"/data_rot_csv.csv\",index=False)"
   ]
  },
  {
   "cell_type": "markdown",
   "metadata": {},
   "source": [
    "- P.S. : Sometimes, the transformation funtion might not be the same with the above ones!!!"
   ]
  },
  {
   "cell_type": "markdown",
   "metadata": {},
   "source": [
    "- 2.1.3 Now, we can have a quick glance of what the point cloud model looks like after the format transformation"
   ]
  },
  {
   "cell_type": "code",
   "execution_count": null,
   "metadata": {},
   "outputs": [],
   "source": [
    "# from format_transformation.txt2pcd import txt_to_pcd"
   ]
  },
  {
   "cell_type": "code",
   "execution_count": null,
   "metadata": {},
   "outputs": [],
   "source": [
    "# txt_file_path = './data/rotated_data/data_rot_txt.txt'  # Replace with your .txt file path\n",
    "# pcd_file_path = './data/rotated_data/data_rot_asc.pcd'     # The path for the output .pcd file\n",
    "\n",
    "# txt_to_pcd(txt_file_path, pcd_file_path)"
   ]
  },
  {
   "cell_type": "code",
   "execution_count": null,
   "metadata": {},
   "outputs": [],
   "source": [
    "# file_a = 'data/org_data/data_org.pcd'\n",
    "# file_b = 'data/rotated_data/data_rot_asc.pcd'\n",
    "# visualize_pcds([file_a, file_b])"
   ]
  },
  {
   "cell_type": "markdown",
   "metadata": {},
   "source": [
    "- Now, we get the model after coordinate correlation!"
   ]
  },
  {
   "cell_type": "markdown",
   "metadata": {},
   "source": [
    "### 2.2 : Plane Fitting (Clustering)\n",
    "- We use the model that after coordinate correlation"
   ]
  },
  {
   "cell_type": "code",
   "execution_count": null,
   "metadata": {},
   "outputs": [],
   "source": [
    "file_name=\"jie5\""
   ]
  },
  {
   "cell_type": "code",
   "execution_count": null,
   "metadata": {},
   "outputs": [],
   "source": [
    "import numpy as np"
   ]
  },
  {
   "cell_type": "code",
   "execution_count": null,
   "metadata": {},
   "outputs": [],
   "source": [
    "#重新用一遍空间拟合平面操作\n",
    "points_sample = np.loadtxt(f'./data/rotated_data/{file_name}/{file_name}_rot_txt.txt',skiprows=1)\n",
    "n_planes = 3"
   ]
  },
  {
   "cell_type": "code",
   "execution_count": null,
   "metadata": {},
   "outputs": [],
   "source": [
    "points_sample"
   ]
  },
  {
   "cell_type": "code",
   "execution_count": null,
   "metadata": {},
   "outputs": [],
   "source": [
    "#simple k-means:\n",
    "from data_processing.algorithm_clustering.kmeans import kmeans_clustering,plot_points_by_cluster"
   ]
  },
  {
   "cell_type": "code",
   "execution_count": null,
   "metadata": {},
   "outputs": [],
   "source": [
    "labels, centers = kmeans_clustering(points_sample, n_planes)"
   ]
  },
  {
   "cell_type": "code",
   "execution_count": null,
   "metadata": {},
   "outputs": [],
   "source": [
    "plot_points_by_cluster(points_sample, labels)"
   ]
  },
  {
   "cell_type": "code",
   "execution_count": null,
   "metadata": {},
   "outputs": [],
   "source": [
    "#points_to_cloud\n",
    "from data_processing.algorithm_clustering.points_to_surface3 import initialize_planes_with_kmeans, refine_planes"
   ]
  },
  {
   "cell_type": "code",
   "execution_count": null,
   "metadata": {},
   "outputs": [],
   "source": [
    "initial_planes = initialize_planes_with_kmeans(points_sample, n_planes)\n",
    "refined_planes, refined_assignments = refine_planes(points_sample, initial_planes)"
   ]
  },
  {
   "cell_type": "code",
   "execution_count": null,
   "metadata": {},
   "outputs": [],
   "source": [
    "from data_processing.algorithm_clustering.points_to_surface3 import plot_points_by_group"
   ]
  },
  {
   "cell_type": "code",
   "execution_count": null,
   "metadata": {},
   "outputs": [],
   "source": [
    "#visualize again\n",
    "plot_points_by_group(points_sample, refined_assignments)"
   ]
  },
  {
   "cell_type": "code",
   "execution_count": null,
   "metadata": {},
   "outputs": [],
   "source": [
    "refined_planes"
   ]
  },
  {
   "cell_type": "code",
   "execution_count": null,
   "metadata": {},
   "outputs": [],
   "source": [
    "refined_assignments"
   ]
  },
  {
   "cell_type": "code",
   "execution_count": null,
   "metadata": {},
   "outputs": [],
   "source": [
    "import pandas as pd\n",
    "ass_series = pd.Series(refined_assignments)"
   ]
  },
  {
   "cell_type": "code",
   "execution_count": null,
   "metadata": {},
   "outputs": [],
   "source": [
    "csv_file = f'./data/rotated_data/{file_name}/{file_name}_rot_csv.csv'\n",
    "df = pd.read_csv(csv_file)\n",
    "df.drop(0,inplace=True)\n",
    "df.to_csv(f\"./data/rotated_data/{file_name}/{file_name}_rot_csv.csv\", index=False) #这nm太坑了，删完0行后编号从1开始？？？？\n",
    "#df.shape\n",
    "#df['cluster'] = ass_series\n",
    "#df.to_csv(f\"./data/rotated_data/{file_name}_rot_clu.csv\", index=False)\n",
    "#df.tail()"
   ]
  },
  {
   "cell_type": "code",
   "execution_count": null,
   "metadata": {},
   "outputs": [],
   "source": [
    "csv_file = f'./data/rotated_data/{file_name}/{file_name}_rot_csv.csv'\n",
    "df = pd.read_csv(csv_file)\n",
    "#df.head()\n",
    "df['cluster'] = ass_series\n",
    "df.to_csv(f\"./data/rotated_data/{file_name}/{file_name}_rot_clu.csv\", index=False)"
   ]
  },
  {
   "cell_type": "markdown",
   "metadata": {},
   "source": [
    "- Honestly Speaking, we can simply just copy the column \"cluster\"'s value that we got from step 2.1.1"
   ]
  },
  {
   "cell_type": "code",
   "execution_count": null,
   "metadata": {},
   "outputs": [],
   "source": [
    "# 再求面方程\n",
    "# plane_coef = fit_planes_from_csv(f\"./data/rotated_data/{file_name}_rot_clu.csv\")\n",
    "# plane_coef"
   ]
  },
  {
   "cell_type": "code",
   "execution_count": null,
   "metadata": {},
   "outputs": [],
   "source": [
    "import matplotlib.pyplot as plt\n",
    "import numpy as np\n",
    "from mpl_toolkits.mplot3d import Axes3D"
   ]
  },
  {
   "cell_type": "code",
   "execution_count": null,
   "metadata": {},
   "outputs": [],
   "source": [
    "#visualize the planes that we fitted\n",
    "#planes_fig = list(plane_coef.values())\n",
    "planes_fig = refined_planes\n",
    "\n",
    "# 创建数据点\n",
    "x = np.linspace(-10, 10, 100) #绘图范围\n",
    "y = np.linspace(-10, 10, 100)\n",
    "x, y = np.meshgrid(x, y)\n",
    "\n",
    "# 创建3D图形\n",
    "fig = plt.figure()\n",
    "plt3d = fig.add_subplot(111, projection='3d')\n",
    "\n",
    "# 绘制多个平面\n",
    "for plane in planes_fig:\n",
    "    A, B, C, D = plane\n",
    "    z = (-A * x - B * y - D) / C\n",
    "    plt3d.plot_surface(x, y, z, alpha=0.5)\n",
    "\n",
    "# 设置坐标轴标签\n",
    "plt3d.set_xlabel('X')\n",
    "plt3d.set_ylabel('Y')\n",
    "plt3d.set_zlabel('Z')\n",
    "\n",
    "# 显示图形\n",
    "plt.show()"
   ]
  },
  {
   "cell_type": "markdown",
   "metadata": {},
   "source": [
    "- Each surface, we got a group of file to save the data. (每个面用一组数据进行单独储存)"
   ]
  },
  {
   "cell_type": "code",
   "execution_count": null,
   "metadata": {},
   "outputs": [],
   "source": [
    "from data_processing.save_by_dif_csv import save_clusters_to_csv"
   ]
  },
  {
   "cell_type": "code",
   "execution_count": null,
   "metadata": {},
   "outputs": [],
   "source": [
    "f = pd.read_csv(f\"./data/rotated_data/{file_name}/{file_name}_rot_clu.csv\")\n",
    "f['cluster'] = f['cluster'].astype(int)\n",
    "f.to_csv(f\"./data/rotated_data/{file_name}/{file_name}_rot_clu.csv\")"
   ]
  },
  {
   "cell_type": "code",
   "execution_count": null,
   "metadata": {},
   "outputs": [],
   "source": [
    "import os\n",
    "# 假设 rotated_points 是你需要保存的numpy数组\n",
    "# rotated_points = np.array(...) \n",
    "\n",
    "output_path = f\"./data/rotated_data/{file_name}\"\n",
    "\n",
    "# 确保目标路径存在\n",
    "os.makedirs(output_path, exist_ok=True)"
   ]
  },
  {
   "cell_type": "code",
   "execution_count": null,
   "metadata": {},
   "outputs": [],
   "source": [
    "save_clusters_to_csv(f\"./data/rotated_data/{file_name}/{file_name}_rot_clu.csv\",f\"{file_name}/\",\"jie5\")"
   ]
  },
  {
   "cell_type": "code",
   "execution_count": null,
   "metadata": {},
   "outputs": [],
   "source": [
    "from format_transformation.csv2txt import csv_to_txt"
   ]
  },
  {
   "cell_type": "code",
   "execution_count": null,
   "metadata": {},
   "outputs": [],
   "source": [
    "n_planes = 3\n",
    "#csv ----> txt\n",
    "for i in range (0, n_planes):\n",
    "    input = f'./data/rotated_data/{file_name}/{file_name}_plane_{i}/plane_{i}.csv'\n",
    "    output = f'./data/rotated_data/{file_name}/{file_name}_plane_{i}/plane_{i}.txt'\n",
    "\n",
    "    csv_to_txt(input,output)   "
   ]
  },
  {
   "cell_type": "code",
   "execution_count": null,
   "metadata": {},
   "outputs": [],
   "source": [
    "# txt ----> pcd\n",
    "for i in range (0, n_planes):\n",
    "    input = f'./data/rotated_data/{file_name}/{file_name}_plane_{i}/plane_{i}.txt'\n",
    "    output = f'./data/rotated_data/{file_name}/{file_name}_plane_{i}/plane_{i}_acs.pcd'\n",
    "\n",
    "    txt_to_pcd(input,output)   "
   ]
  },
  {
   "cell_type": "markdown",
   "metadata": {},
   "source": [
    "- python.open3d处理binary编码的点云文件,故因此需要格式转化"
   ]
  },
  {
   "cell_type": "code",
   "execution_count": null,
   "metadata": {},
   "outputs": [],
   "source": [
    "#ascii ----> binary\n",
    "for i in range (0, n_planes):\n",
    "    input = f'./data/rotated_data/{file_name}/{file_name}_plane_{i}/plane_{i}_acs.pcd'\n",
    "    output = f'./data/rotated_data/{file_name}/{file_name}_plane_{i}/plane_{i}_bin.pcd'\n",
    "\n",
    "    ascii_to_binary(input,output)   "
   ]
  },
  {
   "cell_type": "markdown",
   "metadata": {},
   "source": [
    "### 2.3 : Extract Key Point "
   ]
  },
  {
   "cell_type": "markdown",
   "metadata": {},
   "source": [
    "- In this section, we find the key point (centroid point) individually from each plane\n",
    "- This procedure contains 8 steps:\n",
    "    - Get the .pcd file (which we already generated in 2.2)\n",
    "    - Use \"slicing_pt_multi_v2\" get the first direction sliced\n",
    "    - Use \"slicing_pt_multi_2_v2\"\n",
    "    - dealing with the split data\n",
    "    - ~~final_info_process to combine the above steps~~\n",
    "    - ~~generate final parts~~\n",
    "    - Calculate the regional-centroid point\n",
    "    - Move back to the original position (base on the direction and slice_distance) ----> this step saves millions of times lol"
   ]
  },
  {
   "cell_type": "markdown",
   "metadata": {},
   "source": [
    "- 2.3.1 Slicing in first direction"
   ]
  },
  {
   "cell_type": "code",
   "execution_count": null,
   "metadata": {},
   "outputs": [],
   "source": [
    "from data_processing.extract_key_point.slicing_pt_multi_v2 import slice_and_save_point_clouds"
   ]
  },
  {
   "cell_type": "code",
   "execution_count": null,
   "metadata": {},
   "outputs": [],
   "source": [
    "import open3d as o3d\n",
    "import os\n",
    "import numpy as np"
   ]
  },
  {
   "cell_type": "code",
   "execution_count": null,
   "metadata": {},
   "outputs": [],
   "source": [
    "#处理哪个面 (从面0开始计数！)\n",
    "flag = 2\n",
    "file_name = \"jie5\""
   ]
  },
  {
   "cell_type": "code",
   "execution_count": null,
   "metadata": {},
   "outputs": [],
   "source": [
    "#define the slicing params (direction, distance)\n",
    "direction = np.array([1, 0, 0]) #沿X轴切\n",
    "slice_distance = 0.2 #切分距离\n",
    "gap_distance = 1"
   ]
  },
  {
   "cell_type": "code",
   "execution_count": null,
   "metadata": {},
   "outputs": [],
   "source": [
    "#define some params\n",
    "pcd = o3d.io.read_point_cloud(f\"./data/rotated_data/{file_name}/{file_name}_plane_{flag}/plane_{flag}_bin.pcd\")\n",
    "\n",
    "output_path_pcd = f\"./data/slicing_data/{file_name}/{file_name}_plane_{flag}/data_slicing_1\"\n",
    "output_path_csv = f\"./data/slicing_data/{file_name}/{file_name}_plane_{flag}/data_csv\"\n",
    "#output_file = f\"plane{flag}_split\"\n",
    "#full_path = os.path.join(output_path, output_file) #创建相应文件夹和.txt文件\n",
    "\n",
    "# 确保目标路径存在\n",
    "os.makedirs(output_path_pcd, exist_ok=True)\n",
    "os.makedirs(output_path_csv, exist_ok=True)"
   ]
  },
  {
   "cell_type": "code",
   "execution_count": null,
   "metadata": {},
   "outputs": [],
   "source": [
    "slice_and_save_point_clouds(pcd, direction, slice_distance, gap_distance, output_path_pcd, output_path_csv, flag)"
   ]
  },
  {
   "cell_type": "markdown",
   "metadata": {},
   "source": [
    "- Until now, we got the slicing data in first direction"
   ]
  },
  {
   "cell_type": "markdown",
   "metadata": {},
   "source": [
    "- 2.3.2 Slicing in second direction"
   ]
  },
  {
   "cell_type": "code",
   "execution_count": null,
   "metadata": {},
   "outputs": [],
   "source": [
    "#from data_processing.extract_key_point.slicing_pt_multi_2_v2 import process_folder\n",
    "from data_processing.extract_key_point.slicing_pt_multi_2_v3 import process_folder"
   ]
  },
  {
   "cell_type": "code",
   "execution_count": null,
   "metadata": {},
   "outputs": [],
   "source": [
    "import numpy as np\n",
    "#direction = np.array([0, 0, 1])\n",
    "direction = np.array([0,1,0]) #水平面专用\n",
    "slice_distance = 0.2\n",
    "gap_distance = 1"
   ]
  },
  {
   "cell_type": "code",
   "execution_count": null,
   "metadata": {},
   "outputs": [],
   "source": [
    "#define path 2\n",
    "import os\n",
    "input_folder = f\"./data/slicing_data/{file_name}/{file_name}_plane_{flag}/data_slicing_1\"\n",
    "\n",
    "output_path = f\"./data/slicing_data/{file_name}/{file_name}_plane_{flag}/data_slicing_2\"\n",
    "info_path = f\"./data/slicing_data/{file_name}/{file_name}_plane_{flag}/data_slicing_2/info\"\n",
    "#output_file = f\"plane{flag}_split\"\n",
    "#full_path = os.path.join(output_path, output_file) #创建相应文件夹和.txt文件\n",
    "\n",
    "# 确保目标路径存在\n",
    "os.makedirs(output_path, exist_ok=True)\n",
    "os.makedirs(info_path, exist_ok=True)"
   ]
  },
  {
   "cell_type": "code",
   "execution_count": null,
   "metadata": {},
   "outputs": [],
   "source": [
    "process_folder(input_folder, direction, slice_distance, gap_distance, output_path)\n",
    "#slice_and_save_point_clouds(pcd, direction, slice_distance, gap_distance, output_path_pcd, output_path_csv, flag)"
   ]
  },
  {
   "cell_type": "code",
   "execution_count": null,
   "metadata": {},
   "outputs": [],
   "source": [
    "#可选操作\n",
    "import os\n",
    "\n",
    "def delete_files_starting_with(prefix, directory):\n",
    "    # 遍历目录中的所有文件\n",
    "    for filename in os.listdir(directory):\n",
    "        if filename.startswith(prefix):\n",
    "            file_path = os.path.join(directory, filename)\n",
    "            os.remove(file_path)  # 删除文件\n",
    "            print(f\"Deleted {file_path}\")"
   ]
  },
  {
   "cell_type": "code",
   "execution_count": null,
   "metadata": {},
   "outputs": [],
   "source": [
    "directory_path = f\"./data/slicing_data/{file_name}/{file_name}_plane_{flag}/data_slicing_2\"\n",
    "delete_files_starting_with('slice_65', directory_path)\n",
    "# delete_files_starting_with('slice_9', directory_path)\n",
    "# delete_files_starting_with('slice_39', directory_path)"
   ]
  },
  {
   "cell_type": "markdown",
   "metadata": {},
   "source": [
    "- Now, we finished splitting the Point Cloud data!"
   ]
  },
  {
   "cell_type": "markdown",
   "metadata": {},
   "source": [
    "- 2.3.3 Deal with the split data\n",
    "    - 去掉 0 行（无效行）\n",
    "    - 匹配对应行数据到原模型中 （因为在求质心时，我们使用原模型坐标进行求解）"
   ]
  },
  {
   "cell_type": "code",
   "execution_count": null,
   "metadata": {},
   "outputs": [],
   "source": [
    "# from data_processing.extract_key_point.deal_split_data import process_csv_files"
   ]
  },
  {
   "cell_type": "code",
   "execution_count": null,
   "metadata": {},
   "outputs": [],
   "source": [
    "# input_folder = f'./data/slicing_data/{file_name}/{file_name}_plane_{flag}/data_slicing_2/info/'"
   ]
  },
  {
   "cell_type": "code",
   "execution_count": null,
   "metadata": {},
   "outputs": [],
   "source": [
    "# process_csv_files(input_folder)"
   ]
  },
  {
   "cell_type": "code",
   "execution_count": null,
   "metadata": {},
   "outputs": [],
   "source": [
    "# import pandas as pd"
   ]
  },
  {
   "cell_type": "code",
   "execution_count": null,
   "metadata": {},
   "outputs": [],
   "source": [
    "# #得到plane_sli_info_1.csv文件 (第一次切分区域匹配)\n",
    "# slice1_data = pd.read_csv(f\"./data/slicing_data/{file_name}/{file_name}_plane_{flag}/data_csv/points_slice_info_plane{flag}.csv\")\n",
    "# plane_sli_info = slice1_data.iloc[:,0:4]\n",
    "# plane_sli_info.to_csv(f\"./data/slicing_data/{file_name}/{file_name}_plane_{flag}/data_csv/plane_sli_info_1.csv\",index=False)"
   ]
  },
  {
   "cell_type": "code",
   "execution_count": null,
   "metadata": {},
   "outputs": [],
   "source": [
    "# from data_processing.extract_key_point.deal_split_data import update_target_with_p_XY\n",
    "# from data_processing.extract_key_point.deal_split_data import update_target_with_p_XZ"
   ]
  },
  {
   "cell_type": "markdown",
   "metadata": {},
   "source": [
    "- 立面应用update_target_with_p_XZ， 水平面应用update_target_with_p_XY"
   ]
  },
  {
   "cell_type": "code",
   "execution_count": null,
   "metadata": {},
   "outputs": [],
   "source": [
    "# slice2_data = pd.read_csv(f\"./data/slicing_data/{file_name}/{file_name}_plane_{flag}/data_csv/points_adjusted_positions_plane{flag}.csv\")\n",
    "# slice2_data.to_csv(f\"./data/slicing_data/{file_name}/{file_name}_plane_{flag}/data_csv/plane_sli_info_2.csv\",index=False)"
   ]
  },
  {
   "cell_type": "code",
   "execution_count": null,
   "metadata": {},
   "outputs": [],
   "source": [
    "# #得到plane_sli_info_2.csv文件\n",
    "# folder_path = f'./data/slicing_data/{file_name}/{file_name}_plane_{flag}/data_slicing_2/info'  # 替换为实际的文件夹路径\n",
    "# target_csv_path = f'./data/slicing_data/{file_name}/{file_name}_plane_{flag}/data_csv/plane_sli_info_2.csv'  # 替换为实际的目标CSV文件路径"
   ]
  },
  {
   "cell_type": "code",
   "execution_count": null,
   "metadata": {},
   "outputs": [],
   "source": [
    "#水平面\n",
    "#update_target_with_p_XY(folder_path, target_csv_path)\n",
    "\n",
    "#立面\n",
    "#update_target_with_p_XZ(folder_path, target_csv_path)"
   ]
  },
  {
   "cell_type": "code",
   "execution_count": null,
   "metadata": {},
   "outputs": [],
   "source": [
    "from data_processing.extract_key_point.centroid_point import compute_and_save_centroids"
   ]
  },
  {
   "cell_type": "code",
   "execution_count": null,
   "metadata": {},
   "outputs": [],
   "source": [
    "input_path = f'./data/slicing_data/{file_name}/{file_name}_plane_{flag}/data_slicing_2'\n",
    "output_path = f'./data/slicing_data/{file_name}/{file_name}_plane_{flag}/data_centroid'\n",
    "compute_and_save_centroids(input_path, output_path)"
   ]
  },
  {
   "cell_type": "code",
   "execution_count": null,
   "metadata": {},
   "outputs": [],
   "source": [
    "from data_processing.extract_key_point.move_centroids_pcd import translate_and_save_centroids"
   ]
  },
  {
   "cell_type": "code",
   "execution_count": null,
   "metadata": {},
   "outputs": [],
   "source": [
    "input_folder = f'./data/slicing_data/{file_name}/{file_name}_plane_{flag}/data_centroid'\n",
    "output_folder = f'./data/slicing_data/{file_name}/{file_name}_plane_{flag}/data_centroid_adj'\n",
    "vector_z = [0,0,-1]\n",
    "vector_y = [0,-1,0]\n",
    "vector_x = [-1,0,0]"
   ]
  },
  {
   "cell_type": "code",
   "execution_count": null,
   "metadata": {},
   "outputs": [],
   "source": [
    "translate_and_save_centroids(input_folder, output_folder, vector_z, vector_x) #竖直面\n",
    "#translate_and_save_centroids(input_folder, output_folder, vector_y, vector_x) #水平面"
   ]
  },
  {
   "cell_type": "code",
   "execution_count": null,
   "metadata": {},
   "outputs": [],
   "source": [
    "#merge the pcd_data\n",
    "from data_processing.extract_key_point.merge_pcd import merge_pcd_files"
   ]
  },
  {
   "cell_type": "code",
   "execution_count": null,
   "metadata": {},
   "outputs": [],
   "source": [
    "input_pcd_path =  f'./data/slicing_data/{file_name}/{file_name}_plane_{flag}/data_centroid_adj'\n",
    "output_pcd_path = f'./data/slicing_data/{file_name}/{file_name}_plane_{flag}/{file_name}_plane{flag}_centroids.pcd'\n",
    "\n",
    "merge_pcd_files(input_pcd_path, output_pcd_path)"
   ]
  },
  {
   "cell_type": "code",
   "execution_count": null,
   "metadata": {},
   "outputs": [],
   "source": [
    "from data_processing.move_files import move_specified_files"
   ]
  },
  {
   "cell_type": "code",
   "execution_count": null,
   "metadata": {},
   "outputs": [],
   "source": [
    "move_files(f'./data/slicing_data/{file_name}/{file_name}_plane_{flag}'\n",
    "           ,f'./data/centroid_data/{file_name}'\n",
    "           ,['{file_name}_plane{flag}_centroids.pcd'])"
   ]
  },
  {
   "cell_type": "markdown",
   "metadata": {},
   "source": [
    "##### 以下内容为旧版本垃圾~"
   ]
  },
  {
   "cell_type": "markdown",
   "metadata": {},
   "source": [
    "- 2.3.4 Combine 2 slicing_data.csv\n",
    "    - Combine plane_sli_info_1.csv & plane_sli_info_2.csv"
   ]
  },
  {
   "cell_type": "markdown",
   "metadata": {},
   "source": [
    "- 2.3.6 Calculate the Centroid Point"
   ]
  },
  {
   "cell_type": "markdown",
   "metadata": {},
   "source": [
    "- By then, we got the centroid point of the target plane!"
   ]
  },
  {
   "cell_type": "markdown",
   "metadata": {},
   "source": [
    "- By doing this for n times, we can get the centroid points for each plane"
   ]
  },
  {
   "cell_type": "markdown",
   "metadata": {},
   "source": [
    "### 2.4 : Supplementary operation"
   ]
  },
  {
   "cell_type": "markdown",
   "metadata": {},
   "source": [
    "- We also need to do some extra works for acquiring a better model"
   ]
  },
  {
   "cell_type": "markdown",
   "metadata": {},
   "source": [
    "- 2.4.1 calculate the intersection line of each 2 planes & generate virtual point cloud for connecting planes"
   ]
  },
  {
   "cell_type": "code",
   "execution_count": null,
   "metadata": {},
   "outputs": [],
   "source": [
    "from data_processing.surface_intersection_line import find_intersection_point, cross_product"
   ]
  },
  {
   "cell_type": "code",
   "execution_count": null,
   "metadata": {},
   "outputs": [],
   "source": [
    "refined_planes"
   ]
  },
  {
   "cell_type": "code",
   "execution_count": null,
   "metadata": {},
   "outputs": [],
   "source": [
    "#该模块不需要重复执行！\n",
    "start_point_list = []\n",
    "last_point_list = []\n",
    "direction_list = []"
   ]
  },
  {
   "cell_type": "markdown",
   "metadata": {},
   "source": [
    "- 以下板块，每处理一个面，则需更改a,b值，进行重新执行"
   ]
  },
  {
   "cell_type": "code",
   "execution_count": null,
   "metadata": {},
   "outputs": [],
   "source": [
    "#哪两个面进行求交线操作\n",
    "a = 0\n",
    "b = 2"
   ]
  },
  {
   "cell_type": "code",
   "execution_count": null,
   "metadata": {},
   "outputs": [],
   "source": [
    "direction = cross_product(np.array(refined_planes[a][:3]), np.array(refined_planes[b][:3]))\n",
    "point_on_line = find_intersection_point(refined_planes[a], refined_planes[b], direction)\n",
    "print(f\"平面{a}和平面{b}的交线方向向量：\",direction)\n",
    "print(f\"平面{a}和平面{b}的交线上的一点：\",point_on_line)\n",
    "direction_list.append(direction)"
   ]
  },
  {
   "cell_type": "code",
   "execution_count": null,
   "metadata": {},
   "outputs": [],
   "source": [
    "from data_processing.calculate_pt_on_line import calculate_point_on_line"
   ]
  },
  {
   "cell_type": "code",
   "execution_count": null,
   "metadata": {},
   "outputs": [],
   "source": [
    "#x=-(64.870583) #自行替换相应数据,为底部线数据点中距YOZ平面最远的一个点\n",
    "x = -(64.860901)\n",
    "calculate_point_on_line(x, point_on_line, direction) "
   ]
  },
  {
   "cell_type": "code",
   "execution_count": null,
   "metadata": {},
   "outputs": [],
   "source": [
    "start_point = np.array(calculate_point_on_line(x, point_on_line, direction))\n",
    "direction = np.array(direction)\n",
    "\n",
    "# 归一化方向向量\n",
    "direction_normalized = direction / np.linalg.norm(direction)\n",
    "# 设定p_max的值\n",
    "p_max = 13  # 假设值，根据需要调整\n",
    "# 每隔0.5的距离\n",
    "distance = 0.2"
   ]
  },
  {
   "cell_type": "code",
   "execution_count": null,
   "metadata": {},
   "outputs": [],
   "source": [
    "start_point"
   ]
  },
  {
   "cell_type": "code",
   "execution_count": null,
   "metadata": {},
   "outputs": [],
   "source": [
    "from data_processing.calculate_pt_on_line import generate_points_and_save_as_pcd"
   ]
  },
  {
   "cell_type": "code",
   "execution_count": null,
   "metadata": {},
   "outputs": [],
   "source": [
    "# import os\n",
    "# points_array = np.array(points)\n",
    "# #print(points)\n",
    "\n",
    "# # 创建点云对象\n",
    "# point_cloud = o3d.geometry.PointCloud()\n",
    "\n",
    "# # 将NumPy数组中的点添加到点云中\n",
    "# point_cloud.points = o3d.utility.Vector3dVector(points_array)\n",
    "import os\n",
    "output_path = f\"./data/extra_data/{file_name}\"\n",
    "os.makedirs(output_path, exist_ok=True)\n",
    "# 保存点云到PCD文件\n",
    "#o3d.io.write_point_cloud(output_path + f\"/extra_{file_name}_plane{a}_plane{b}.pcd\", point_cloud, write_ascii=False)\n",
    "output_file = output_path + f\"/extra_{file_name}_plane{a}_plane{b}.pcd\""
   ]
  },
  {
   "cell_type": "code",
   "execution_count": null,
   "metadata": {},
   "outputs": [],
   "source": [
    "#generate底面点\n",
    "last_point = generate_points_and_save_as_pcd(start_point, direction, distance, p_max, output_file)"
   ]
  },
  {
   "cell_type": "code",
   "execution_count": null,
   "metadata": {},
   "outputs": [],
   "source": [
    "print(last_point)"
   ]
  },
  {
   "cell_type": "markdown",
   "metadata": {},
   "source": [
    "- 底面点生成完毕后，为使得模型与结构形式相似，应当对顶部点也进行统一化处理"
   ]
  },
  {
   "cell_type": "code",
   "execution_count": null,
   "metadata": {},
   "outputs": [],
   "source": [
    "#generate顶点\n",
    "#start_point_2 = np.array([-64.883835,4.447664,4.555674]) #需要自行通过cloudcompare查找相应的点!\n",
    "start_point_2 = np.array([-64.813934,-4.978764,4.467955])\n",
    "output_file_2 = output_path + f\"/extra_{file_name}_plane{a}_plane{b}_ding.pcd\""
   ]
  },
  {
   "cell_type": "code",
   "execution_count": null,
   "metadata": {},
   "outputs": [],
   "source": [
    "last_point_2 = generate_points_and_save_as_pcd(start_point_2, direction, distance, p_max, output_file_2)"
   ]
  },
  {
   "cell_type": "code",
   "execution_count": null,
   "metadata": {},
   "outputs": [],
   "source": [
    "visualize_pcds([f'data/extra_data/{file_name}/extra_{file_name}_plane{a}_plane{b}.pcd'\n",
    "               ,f'data/extra_data/{file_name}/extra_{file_name}_plane{a}_plane{b}_ding.pcd'\n",
    "               #,f'./data/slicing_data/{file_name}/{file_name}_plane_{a}/{file_name}_plane{a}_centroids_modified.pcd'\n",
    "               #,f'./data/slicing_data/{file_name}/{file_name}_plane_{b}/{file_name}_plane{b}_centroids_modified.pcd'\n",
    "               ,f'./data/centroid_data/jie5/{file_name}_plane{b}_centroids.pcd'\n",
    "                ]\n",
    "                )"
   ]
  },
  {
   "cell_type": "markdown",
   "metadata": {},
   "source": [
    "- 手动删除两侧边缘位置的点！\n",
    "- 所有边缘位置都应当进行“新线生成”操作"
   ]
  },
  {
   "cell_type": "code",
   "execution_count": null,
   "metadata": {},
   "outputs": [],
   "source": [
    "from data_processing.calculate_pt_on_line import generate_points_along_vector"
   ]
  },
  {
   "cell_type": "code",
   "execution_count": null,
   "metadata": {},
   "outputs": [],
   "source": [
    "output_file_3 = output_path + f\"/extra_{file_name}_plane{a}_plane{b}_c1.pcd\"\n",
    "output_file_4 = output_path + f\"/extra_{file_name}_plane{a}_plane{b}_c2.pcd\""
   ]
  },
  {
   "cell_type": "code",
   "execution_count": null,
   "metadata": {},
   "outputs": [],
   "source": [
    "#存入数组，为后续底面拟合给定依据\n",
    "start_point_list.append(start_point)"
   ]
  },
  {
   "cell_type": "code",
   "execution_count": null,
   "metadata": {},
   "outputs": [],
   "source": [
    "last_point_list.append(last_point)"
   ]
  },
  {
   "cell_type": "code",
   "execution_count": null,
   "metadata": {},
   "outputs": [],
   "source": [
    "generate_points_along_vector(start_point_2,start_point,distance,output_file_3)"
   ]
  },
  {
   "cell_type": "code",
   "execution_count": null,
   "metadata": {},
   "outputs": [],
   "source": [
    "generate_points_along_vector(last_point_2,last_point,distance,output_file_4)"
   ]
  },
  {
   "cell_type": "markdown",
   "metadata": {},
   "source": [
    "- 如果与实际情况不相符，请尝试调转面a,b的赋值\n",
    "- 若想求指定x数值的在交线上的起始点，请尝试调用find_point_on_line函数\n",
    "- 若要求多组平面的相交线，请更改a,b值进行并重新运行本模块的代码"
   ]
  },
  {
   "cell_type": "code",
   "execution_count": null,
   "metadata": {},
   "outputs": [],
   "source": [
    "#start_point_list = start_point_list[1:3]\n",
    "start_point_list"
   ]
  },
  {
   "cell_type": "code",
   "execution_count": null,
   "metadata": {},
   "outputs": [],
   "source": [
    "last_point_list"
   ]
  },
  {
   "cell_type": "code",
   "execution_count": null,
   "metadata": {},
   "outputs": [],
   "source": [
    "direction_list"
   ]
  },
  {
   "cell_type": "code",
   "execution_count": null,
   "metadata": {},
   "outputs": [],
   "source": [
    "from supplement_function.supplementary_operation import move_point_along_vector"
   ]
  },
  {
   "cell_type": "code",
   "execution_count": null,
   "metadata": {},
   "outputs": [],
   "source": [
    "# def move_point_along_vector(point, vector, distance):\n",
    "#     \"\"\"\n",
    "#     Moves a point along the negative direction of a given vector by a specified distance.\n",
    "\n",
    "#     Args:\n",
    "#     point (np.array): The starting point (x, y, z).\n",
    "#     vector (np.array): The direction vector (t, p, q).\n",
    "#     distance (float): The distance to move along the vector's negative direction.\n",
    "\n",
    "#     Returns:\n",
    "#     np.array: The new point after moving.\n",
    "#     \"\"\"\n",
    "#     # Normalize the direction vector\n",
    "#     normalized_vector = vector / np.linalg.norm(vector)\n",
    "    \n",
    "#     # Calculate the new point by moving in the negative direction of the vector\n",
    "#     new_point = point - distance * normalized_vector\n",
    "    \n",
    "#     return new_point"
   ]
  },
  {
   "cell_type": "code",
   "execution_count": null,
   "metadata": {},
   "outputs": [],
   "source": [
    "new_sp_list = []\n",
    "new_lp_list = []"
   ]
  },
  {
   "cell_type": "code",
   "execution_count": null,
   "metadata": {},
   "outputs": [],
   "source": [
    "sp_1 = move_point_along_vector(start_point_list[0], direction_list[0], distance)\n",
    "new_sp_list.append(sp_1)"
   ]
  },
  {
   "cell_type": "code",
   "execution_count": null,
   "metadata": {},
   "outputs": [],
   "source": [
    "sp_2 = move_point_along_vector(start_point_list[1], direction_list[1], distance)\n",
    "new_sp_list.append(sp_2)"
   ]
  },
  {
   "cell_type": "code",
   "execution_count": null,
   "metadata": {},
   "outputs": [],
   "source": [
    "lp_1 = move_point_along_vector(last_point_list[0], direction_list[0], distance)\n",
    "new_lp_list.append(lp_1)"
   ]
  },
  {
   "cell_type": "code",
   "execution_count": null,
   "metadata": {},
   "outputs": [],
   "source": [
    "lp_2 = move_point_along_vector(last_point_list[1], direction_list[1], distance)\n",
    "new_lp_list.append(lp_2)"
   ]
  },
  {
   "cell_type": "code",
   "execution_count": null,
   "metadata": {},
   "outputs": [],
   "source": [
    "new_sp_list"
   ]
  },
  {
   "cell_type": "code",
   "execution_count": null,
   "metadata": {},
   "outputs": [],
   "source": [
    "#水平面执行下述板块！\n",
    "output_file_3 = output_path + f\"/extra_{file_name}_plane{a}_c1.pcd\"\n",
    "output_file_4 = output_path + f\"/extra_{file_name}_plane{a}_c2.pcd\""
   ]
  },
  {
   "cell_type": "code",
   "execution_count": null,
   "metadata": {},
   "outputs": [],
   "source": [
    "generate_points_along_vector(new_sp_list[0],new_sp_list[1],distance,output_file_3)"
   ]
  },
  {
   "cell_type": "code",
   "execution_count": null,
   "metadata": {},
   "outputs": [],
   "source": [
    "generate_points_along_vector(new_lp_list[0],new_lp_list[1],distance,output_file_4)"
   ]
  },
  {
   "cell_type": "markdown",
   "metadata": {},
   "source": [
    "- 2.4.2 合并上述点云数据"
   ]
  },
  {
   "cell_type": "code",
   "execution_count": null,
   "metadata": {},
   "outputs": [],
   "source": [
    "from data_processing.extract_key_point.merge_pcd import merge_pcd_files"
   ]
  },
  {
   "cell_type": "code",
   "execution_count": null,
   "metadata": {},
   "outputs": [],
   "source": [
    "#merged centroid points\n",
    "pcd_file_dir = f\"./data/centroid_data/{file_name}\"\n",
    "output_pcd_file = f'./data/centroid_data/{file_name}/{file_name}_merged_centroid.pcd'\n",
    "\n",
    "merge_pcd_files(pcd_file_dir, output_pcd_file)"
   ]
  },
  {
   "cell_type": "code",
   "execution_count": null,
   "metadata": {},
   "outputs": [],
   "source": [
    "#merged extra generated data (lines)\n",
    "pcd_file_dir = f\"./data/extra_data/{file_name}\"\n",
    "output_pcd_file = f'./data/extra_data/{file_name}/{file_name}_merged_extra.pcd'\n",
    "\n",
    "merge_pcd_files(pcd_file_dir, output_pcd_file)"
   ]
  },
  {
   "cell_type": "code",
   "execution_count": null,
   "metadata": {},
   "outputs": [],
   "source": [
    "merged_pcd = o3d.geometry.PointCloud()\n",
    "\n",
    "pcd_1 = o3d.io.read_point_cloud(f\"./data/centroid_data/{file_name}/{file_name}_merged_centroid.pcd\")\n",
    "pcd_2 = o3d.io.read_point_cloud(f\"./data/extra_data/{file_name}/{file_name}_merged_extra.pcd\")\n",
    "\n",
    "output_path = f\"./data/final_data/{file_name}\"\n",
    "file_name_t = f\"/{file_name}_final_point_cloud.pcd\"\n",
    "output_file = output_path + file_name_t\n",
    "\n",
    "os.makedirs(output_path, exist_ok=True)"
   ]
  },
  {
   "cell_type": "code",
   "execution_count": null,
   "metadata": {},
   "outputs": [],
   "source": [
    "merged_pcd = pcd_1 + pcd_2\n",
    "\n",
    "o3d.io.write_point_cloud(output_file, merged_pcd)\n",
    "print(f\"Saved merged point cloud to {output_file}\")"
   ]
  },
  {
   "cell_type": "code",
   "execution_count": null,
   "metadata": {},
   "outputs": [],
   "source": [
    "a = 2\n",
    "b = 0\n",
    "c = 1"
   ]
  },
  {
   "cell_type": "code",
   "execution_count": null,
   "metadata": {},
   "outputs": [],
   "source": [
    "file_name='jie5'"
   ]
  },
  {
   "cell_type": "code",
   "execution_count": null,
   "metadata": {},
   "outputs": [],
   "source": [
    "#分平面的点云数据\n",
    "merged_pcd = o3d.geometry.PointCloud()\n",
    "\n",
    "pcd_1 = o3d.io.read_point_cloud(f\"./data/centroid_data/{file_name}/{file_name}_plane{a}_centroids_modified_4.pcd\")\n",
    "pcd_2 = o3d.io.read_point_cloud(f\"./data/extra_data/{file_name}/extra_{file_name}_plane{b}_plane{a}.pcd\")\n",
    "pcd_3 = o3d.io.read_point_cloud(f\"./data/extra_data/{file_name}/extra_{file_name}_plane{b}_plane{a}_ding.pcd\")\n",
    "pcd_4 = o3d.io.read_point_cloud(f\"./data/extra_data/{file_name}/extra_{file_name}_plane{b}_plane{a}_c1.pcd\")\n",
    "pcd_5 = o3d.io.read_point_cloud(f\"./data/extra_data/{file_name}/extra_{file_name}_plane{b}_plane{a}_c2.pcd\")\n",
    "\n",
    "merged_pcd = pcd_1 + pcd_2 + pcd_3 + pcd_4 + pcd_5\n",
    "\n",
    "output_path = f\"./data/final_data/{file_name}\"\n",
    "file_name_t = f\"/{file_name}_final_point_cloud_p{a}.pcd\"\n",
    "output_file = output_path + file_name_t\n",
    "\n",
    "o3d.io.write_point_cloud(output_file, merged_pcd)\n",
    "print(f\"Saved merged point cloud to {output_file}\")"
   ]
  },
  {
   "cell_type": "markdown",
   "metadata": {},
   "source": [
    "- 水平面"
   ]
  },
  {
   "cell_type": "code",
   "execution_count": null,
   "metadata": {},
   "outputs": [],
   "source": [
    "from supplement_function.supplementary_operation import move_pcd_points"
   ]
  },
  {
   "cell_type": "code",
   "execution_count": null,
   "metadata": {},
   "outputs": [],
   "source": [
    "pcd_file_path2 = f\"./data/extra_data/{file_name}/extra_{file_name}_plane{b}_plane{a}.pcd\" #先处理的哪个面，要记住！！！\n",
    "pcd_file_path1 = f\"./data/extra_data/{file_name}/extra_{file_name}_plane{b}_plane{c}.pcd\"\n",
    "\n",
    "output_file_path2 = f\"./data/extra_data/{file_name}/extra_{file_name}_plane{b}_plane{a}_20.pcd\"\n",
    "output_file_path1 = f\"./data/extra_data/{file_name}/extra_{file_name}_plane{b}_plane{c}_20.pcd\""
   ]
  },
  {
   "cell_type": "code",
   "execution_count": null,
   "metadata": {},
   "outputs": [],
   "source": [
    "move_pcd_points(pcd_file_path1, direction_list[0], distance, output_file_path1)"
   ]
  },
  {
   "cell_type": "code",
   "execution_count": null,
   "metadata": {},
   "outputs": [],
   "source": [
    "move_pcd_points(pcd_file_path2, direction_list[1], distance, output_file_path2)"
   ]
  },
  {
   "cell_type": "code",
   "execution_count": null,
   "metadata": {},
   "outputs": [],
   "source": [
    "#水平面\n",
    "merged_pcd = o3d.geometry.PointCloud()\n",
    "\n",
    "pcd_1 = o3d.io.read_point_cloud(f\"./data/centroid_data/{file_name}/{file_name}_plane{b}_centroids_modified_4.pcd\")\n",
    "pcd_2 = o3d.io.read_point_cloud(f\"./data/extra_data/{file_name}/extra_{file_name}_plane{b}_plane{a}_20.pcd\")\n",
    "pcd_3 = o3d.io.read_point_cloud(f\"./data/extra_data/{file_name}/extra_{file_name}_plane{b}_plane{c}_20.pcd\")\n",
    "pcd_4 = o3d.io.read_point_cloud(f\"./data/extra_data/{file_name}/extra_{file_name}_plane{b}_c1.pcd\")\n",
    "pcd_5 = o3d.io.read_point_cloud(f\"./data/extra_data/{file_name}/extra_{file_name}_plane{b}_c2.pcd\")\n",
    "\n",
    "\n",
    "merged_pcd = pcd_1 + pcd_2 + pcd_3 + pcd_4 + pcd_5\n",
    "\n",
    "output_path = f\"./data/final_data/{file_name}\"\n",
    "file_name_t = f\"/{file_name}_final_point_cloud_p{b}.pcd\"\n",
    "output_file = output_path + file_name_t\n",
    "\n",
    "o3d.io.write_point_cloud(output_file, merged_pcd)\n",
    "print(f\"Saved merged point cloud to {output_file}\")"
   ]
  },
  {
   "cell_type": "code",
   "execution_count": null,
   "metadata": {},
   "outputs": [],
   "source": [
    "merged_pcd = o3d.geometry.PointCloud()\n",
    "\n",
    "pcd_1 = o3d.io.read_point_cloud(f\"./data/centroid_data/{file_name}/{file_name}_plane{c}_centroids_modified_4.pcd\")\n",
    "pcd_2 = o3d.io.read_point_cloud(f\"./data/extra_data/{file_name}/extra_{file_name}_plane{b}_plane{c}.pcd\")\n",
    "pcd_3 = o3d.io.read_point_cloud(f\"./data/extra_data/{file_name}/extra_{file_name}_plane{b}_plane{c}_ding.pcd\")\n",
    "pcd_4 = o3d.io.read_point_cloud(f\"./data/extra_data/{file_name}/extra_{file_name}_plane{b}_plane{c}_c1.pcd\")\n",
    "pcd_5 = o3d.io.read_point_cloud(f\"./data/extra_data/{file_name}/extra_{file_name}_plane{b}_plane{c}_c2.pcd\")\n",
    "\n",
    "merged_pcd = pcd_1 + pcd_2 + pcd_3 + pcd_4 + pcd_5\n",
    "\n",
    "output_path = f\"./data/final_data/{file_name}\"\n",
    "file_name_t = f\"/{file_name}_final_point_cloud_p{c}.pcd\"\n",
    "output_file = output_path + file_name_t\n",
    "\n",
    "o3d.io.write_point_cloud(output_file, merged_pcd)\n",
    "print(f\"Saved merged point cloud to {output_file}\")"
   ]
  },
  {
   "cell_type": "markdown",
   "metadata": {},
   "source": [
    "- 2.4.3 Format Transformation"
   ]
  },
  {
   "cell_type": "code",
   "execution_count": null,
   "metadata": {},
   "outputs": [],
   "source": [
    "flag = 2 #处理哪个面"
   ]
  },
  {
   "cell_type": "code",
   "execution_count": null,
   "metadata": {},
   "outputs": [],
   "source": [
    "file_name='jie5'"
   ]
  },
  {
   "cell_type": "code",
   "execution_count": null,
   "metadata": {},
   "outputs": [],
   "source": [
    "from format_transformation.binary_to_ascii import binary_to_ascii"
   ]
  },
  {
   "cell_type": "code",
   "execution_count": null,
   "metadata": {},
   "outputs": [],
   "source": [
    "#.pcd ----> .csv\n",
    "filename = f\"./data/final_data/{file_name}/{file_name}_final_point_cloud_p{flag}_modified.pcd\"\n",
    "output_filename = f\"./data/final_data/{file_name}/{file_name}_final_point_cloud_p{flag}_ascii.pcd\"\n",
    "\n",
    "binary_to_ascii(filename, output_filename)"
   ]
  },
  {
   "cell_type": "code",
   "execution_count": null,
   "metadata": {},
   "outputs": [],
   "source": [
    "from format_transformation.pcd2txt import pcd_to_txt"
   ]
  },
  {
   "cell_type": "code",
   "execution_count": null,
   "metadata": {},
   "outputs": [],
   "source": [
    "pcd_file = f\"./data/final_data/{file_name}/{file_name}_final_point_cloud_p{flag}_ascii.pcd\"\n",
    "txt_file = f\"./data/final_data/{file_name}/{file_name}_final_point_cloud_p{flag}_txt.txt\"\n",
    "pcd_to_txt(pcd_file, txt_file)"
   ]
  },
  {
   "cell_type": "code",
   "execution_count": null,
   "metadata": {},
   "outputs": [],
   "source": [
    "from format_transformation.txt_2_csv import txt_to_csv_with_columns"
   ]
  },
  {
   "cell_type": "code",
   "execution_count": null,
   "metadata": {},
   "outputs": [],
   "source": [
    "txt_file = f\"./data/final_data/{file_name}/{file_name}_final_point_cloud_p{flag}_txt.txt\"\n",
    "csv_file = f\"./data/final_data/{file_name}/{file_name}_final_point_cloud_p{flag}_csv.csv\"\n",
    "\n",
    "txt_to_csv_with_columns(txt_file, csv_file)"
   ]
  },
  {
   "cell_type": "markdown",
   "metadata": {},
   "source": [
    "- For now, we finished the data processing part!"
   ]
  },
  {
   "cell_type": "markdown",
   "metadata": {},
   "source": [
    "## PART 3 : 3D Reconstruction "
   ]
  },
  {
   "cell_type": "code",
   "execution_count": 15,
   "metadata": {},
   "outputs": [],
   "source": [
    "import os"
   ]
  },
  {
   "cell_type": "code",
   "execution_count": 16,
   "metadata": {},
   "outputs": [],
   "source": [
    "file_name=\"jie5\""
   ]
  },
  {
   "cell_type": "code",
   "execution_count": 17,
   "metadata": {},
   "outputs": [],
   "source": [
    "jie=5"
   ]
  },
  {
   "cell_type": "code",
   "execution_count": 18,
   "metadata": {},
   "outputs": [],
   "source": [
    "td_path = f\"./data/TDR_data/{file_name}\"\n",
    "os.makedirs(td_path, exist_ok=True)"
   ]
  },
  {
   "cell_type": "code",
   "execution_count": 19,
   "metadata": {},
   "outputs": [],
   "source": [
    "from TD_Reconstruction.bpa_plane import bpa_rec"
   ]
  },
  {
   "cell_type": "code",
   "execution_count": 20,
   "metadata": {},
   "outputs": [],
   "source": [
    "from TD_Reconstruction.add_id import add_id"
   ]
  },
  {
   "cell_type": "code",
   "execution_count": 21,
   "metadata": {},
   "outputs": [],
   "source": [
    "flag = 2 #处理哪个面"
   ]
  },
  {
   "cell_type": "code",
   "execution_count": 22,
   "metadata": {},
   "outputs": [],
   "source": [
    "csv_file = f\"./data/final_data/{file_name}/{file_name}_final_point_cloud_p{flag}_csv.csv\"\n",
    "updated_csv_file_path = f\"./data/final_data/{file_name}/{file_name}_final_point_cloud_p{flag}_csv_id.csv\" #用不用改成TD 文件夹？\n",
    "\n",
    "add_id(csv_file, jie, flag, updated_csv_file_path)"
   ]
  },
  {
   "cell_type": "markdown",
   "metadata": {},
   "source": [
    "- id命名规则：面编号（从1开始）+ 点编号"
   ]
  },
  {
   "cell_type": "code",
   "execution_count": 23,
   "metadata": {},
   "outputs": [
    {
     "name": "stdout",
     "output_type": "stream",
     "text": [
      "2858\n"
     ]
    }
   ],
   "source": [
    "csv_file = f\"./data/final_data/{file_name}/{file_name}_final_point_cloud_p{flag}_csv_id.csv\"\n",
    "output_csv = f\"./data/TDR_data/{file_name}/{file_name}_plane{flag}_REC.csv\"\n",
    "radii = [0.05, 0.2, 0.5, 2]\n",
    "\n",
    "bpa_rec(csv_file, output_csv, radii)"
   ]
  },
  {
   "cell_type": "markdown",
   "metadata": {},
   "source": [
    "## PART 4 : Convert into ANSYS APDL"
   ]
  },
  {
   "cell_type": "code",
   "execution_count": 24,
   "metadata": {},
   "outputs": [],
   "source": [
    "flag = 2"
   ]
  },
  {
   "cell_type": "code",
   "execution_count": 25,
   "metadata": {},
   "outputs": [],
   "source": [
    "from TD_Reconstruction.csv2ansys import Generate_KP, Generate_AREA"
   ]
  },
  {
   "cell_type": "code",
   "execution_count": 26,
   "metadata": {},
   "outputs": [],
   "source": [
    "output_path = f\"./data/TDR_data/ball_pivoting/{file_name}\"\n",
    "os.makedirs(output_path, exist_ok=True)"
   ]
  },
  {
   "cell_type": "markdown",
   "metadata": {},
   "source": [
    "- 4.1 Generate Keypoints"
   ]
  },
  {
   "cell_type": "code",
   "execution_count": 27,
   "metadata": {},
   "outputs": [],
   "source": [
    "csv_file = f\"./data/final_data/{file_name}/{file_name}_final_point_cloud_p{flag}_csv_id.csv\"\n",
    "output_txt = f\"./data/TDR_data/ball_pivoting/{file_name}/{file_name}_plane{flag}_KP.txt\"\n",
    "\n",
    "Generate_KP(csv_file, output_txt)"
   ]
  },
  {
   "cell_type": "markdown",
   "metadata": {},
   "source": [
    "- 4.2 Generate AREA"
   ]
  },
  {
   "cell_type": "code",
   "execution_count": 28,
   "metadata": {},
   "outputs": [],
   "source": [
    "csv_file = f\"./data/TDR_data/{file_name}/{file_name}_plane{flag}_REC.csv\"\n",
    "output_txt = f\"./data/TDR_data/ball_pivoting/{file_name}/{file_name}_plane{flag}_AREA.txt\"\n",
    "\n",
    "Generate_AREA(csv_file, output_txt)"
   ]
  },
  {
   "cell_type": "markdown",
   "metadata": {},
   "source": [
    "- Now you may get 2*number of planes' ANSYS APDL File. That's what we need to build up the model in ANSYS. Just copy those file into your ANSYS APDL .txt file, and then add the material definition part and restraint part and load part ......."
   ]
  },
  {
   "cell_type": "code",
   "execution_count": null,
   "metadata": {},
   "outputs": [],
   "source": []
  }
 ],
 "metadata": {
  "kernelspec": {
   "display_name": "pointcloud",
   "language": "python",
   "name": "python3"
  },
  "language_info": {
   "codemirror_mode": {
    "name": "ipython",
    "version": 3
   },
   "file_extension": ".py",
   "mimetype": "text/x-python",
   "name": "python",
   "nbconvert_exporter": "python",
   "pygments_lexer": "ipython3",
   "version": "3.6.13"
  }
 },
 "nbformat": 4,
 "nbformat_minor": 2
}
