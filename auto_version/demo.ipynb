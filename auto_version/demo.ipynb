{
 "cells": [
  {
   "cell_type": "markdown",
   "metadata": {},
   "source": [
    "# Pt2FE\n",
    "- This is a demo for applying the Pt2FE method\n",
    "- The demo are arranged in the following steps:\n",
    "    - 1) Data Preparing\n",
    "    - 2) Data Processing\n",
    "    - 3) 3D Reconstruction\n",
    "    - 4) Convert into ANSYS APDL workflow (FE Model)\n",
    "- Although I called this demo as automatic, but somehow I have to admit that this demo was actually semi-auto to use. Since some parameters you need to decide by yourself."
   ]
  },
  {
   "cell_type": "markdown",
   "metadata": {},
   "source": [
    "## Now, let's get started"
   ]
  },
  {
   "cell_type": "markdown",
   "metadata": {},
   "source": [
    "## PART 1 : DATA PREPARING"
   ]
  },
  {
   "cell_type": "markdown",
   "metadata": {},
   "source": [
    "- So, just put your orginal pointcloud data into the data/org_data file.\n",
    "- Make sure that your file could be opened in the PointCloud software like CloudCompare or Geomagic Wrap...... in another word, make sure your file is .pcd(binary).\n",
    "    - During the further steps, we may need several kinds of data format (.pcd(binary),.pcd(ascii),.csv and so on), so we prepared the format transformation function in the same-name file.\n",
    "- The unit of your Pts data should consistent with the reality."
   ]
  },
  {
   "cell_type": "markdown",
   "metadata": {},
   "source": [
    "#### let us use the open3d lib to have quick glance of your data."
   ]
  },
  {
   "cell_type": "code",
   "execution_count": 5,
   "metadata": {},
   "outputs": [],
   "source": [
    "import open3d as o3d\n",
    "from data_preparing.visualize_pt import visualize_pcds"
   ]
  },
  {
   "cell_type": "code",
   "execution_count": 2,
   "metadata": {},
   "outputs": [],
   "source": [
    "visualize_pcds(['data/org_data/data_org.pcd'])"
   ]
  },
  {
   "cell_type": "markdown",
   "metadata": {},
   "source": [
    "- Compare the PointCloud data with your original one, make sure that they are formally same with each other"
   ]
  },
  {
   "cell_type": "markdown",
   "metadata": {},
   "source": [
    "- Then, we can transfer your orginal .pcd file into different format"
   ]
  },
  {
   "cell_type": "code",
   "execution_count": 8,
   "metadata": {},
   "outputs": [
    {
     "name": "stdout",
     "output_type": "stream",
     "text": [
      "Jupyter environment detected. Enabling Open3D WebVisualizer.\n",
      "[Open3D INFO] WebRTC GUI backend enabled.\n",
      "[Open3D INFO] WebRTCWindowSystem: HTTP handshake server disabled.\n"
     ]
    }
   ],
   "source": [
    "# transfer your original file\n",
    "from format_transformation.ascii_to_binary import ascii_to_binary\n",
    "from format_transformation.pcd2txt import pcd_to_txt\n",
    "from format_transformation.txt_2_csv import txt_to_csv"
   ]
  },
  {
   "cell_type": "code",
   "execution_count": 4,
   "metadata": {},
   "outputs": [],
   "source": [
    "ascii_to_binary(\"./data/org_data/data_org.pcd\",\"./data/org_data/data_org_b.pcd\")"
   ]
  },
  {
   "cell_type": "code",
   "execution_count": 5,
   "metadata": {},
   "outputs": [],
   "source": [
    "pcd_to_txt(\"./data/org_data/data_org.pcd\", \"./data/org_data/data_org_txt.txt\")"
   ]
  },
  {
   "cell_type": "code",
   "execution_count": 10,
   "metadata": {},
   "outputs": [],
   "source": [
    "txt_to_csv(\"./data/org_data/data_org_txt.txt\", \"./data/org_data/data_org_csv.csv\")"
   ]
  },
  {
   "cell_type": "markdown",
   "metadata": {},
   "source": [
    "## PART 2 : DATA PROCESSING"
   ]
  },
  {
   "cell_type": "markdown",
   "metadata": {},
   "source": [
    "- Now, we are going to the data processing step."
   ]
  },
  {
   "cell_type": "markdown",
   "metadata": {},
   "source": [
    "### 2.1 : Coordinate Adjustment"
   ]
  },
  {
   "cell_type": "markdown",
   "metadata": {},
   "source": [
    "- If your data are offset with the reality, you may could apply this part\n",
    "- In this section, we may also use plane fitting method, which we would discuss later in section 2.2"
   ]
  },
  {
   "cell_type": "markdown",
   "metadata": {},
   "source": [
    "- 2.1.1 clustering the data in order to find the different planes in your data"
   ]
  },
  {
   "cell_type": "code",
   "execution_count": 63,
   "metadata": {},
   "outputs": [],
   "source": [
    "#2.1.1 clustering the data in order to find the different planes in your data\n",
    "import numpy as np\n",
    "\n",
    "from data_processing.algorithm_clustering.points_to_surface3 import initialize_planes_with_kmeans, refine_planes"
   ]
  },
  {
   "cell_type": "code",
   "execution_count": 20,
   "metadata": {},
   "outputs": [],
   "source": [
    "points_sample = np.loadtxt('./data/org_data/data_org_txt.txt')\n",
    "n_planes = 3"
   ]
  },
  {
   "cell_type": "code",
   "execution_count": 21,
   "metadata": {},
   "outputs": [],
   "source": [
    "initial_planes = initialize_planes_with_kmeans(points_sample, n_planes)\n",
    "refined_planes, refined_assignments = refine_planes(points_sample, initial_planes)"
   ]
  },
  {
   "cell_type": "code",
   "execution_count": 68,
   "metadata": {},
   "outputs": [],
   "source": [
    "#visualization\n",
    "from data_processing.algorithm_clustering.points_to_surface3 import plot_points_by_group"
   ]
  },
  {
   "cell_type": "code",
   "execution_count": 23,
   "metadata": {},
   "outputs": [
    {
     "data": {
      "image/png": "[encoded data removed]",
      "text/plain": [
       "<Figure size 432x288 with 1 Axes>"
      ]
     },
     "metadata": {
      "needs_background": "light"
     },
     "output_type": "display_data"
    }
   ],
   "source": [
    "plot_points_by_group(points_sample, refined_assignments)"
   ]
  },
  {
   "cell_type": "markdown",
   "metadata": {},
   "source": [
    "- To see whether if the result does make sense to the reality. (Each color represent to a plane) \n",
    "- The Relationship between color and plane number:\n",
    "    - ['r', 'g', 'b','orange','purple','black']"
   ]
  },
  {
   "cell_type": "code",
   "execution_count": 24,
   "metadata": {},
   "outputs": [],
   "source": [
    "#将结果存入.csv文件\n",
    "import pandas as pd\n",
    "ass_series = pd.Series(refined_assignments)\n",
    "csv_file = './data/org_data/data_org_csv.csv'\n",
    "df = pd.read_csv(csv_file)\n",
    "df['cluster'] = ass_series\n",
    "df.to_csv(\"./data/org_data/data_org_clu.csv\", index=False)"
   ]
  },
  {
   "cell_type": "code",
   "execution_count": 25,
   "metadata": {},
   "outputs": [],
   "source": [
    "from data_processing.get_plane_function import fit_planes_from_csv"
   ]
  },
  {
   "cell_type": "code",
   "execution_count": 26,
   "metadata": {},
   "outputs": [
    {
     "data": {
      "text/plain": [
       "{0: [-0.0008456303936024522,\n",
       "  -0.9507986367134567,\n",
       "  0.30980838809346267,\n",
       "  3.106131703611295],\n",
       " 1: [0.0032200564433458342,\n",
       "  0.001112339072155001,\n",
       "  -0.9999941969523075,\n",
       "  1.807367171956793],\n",
       " 2: [-0.0010334793720475908,\n",
       "  0.9470367198419729,\n",
       "  0.32112362602484434,\n",
       "  1.8795968954619093]}"
      ]
     },
     "execution_count": 26,
     "metadata": {},
     "output_type": "execute_result"
    }
   ],
   "source": [
    "plane_coef = fit_planes_from_csv(\"./data/org_data/data_org_clu.csv\")\n",
    "plane_coef"
   ]
  },
  {
   "cell_type": "markdown",
   "metadata": {},
   "source": [
    "- visualize the planes"
   ]
  },
  {
   "cell_type": "code",
   "execution_count": 27,
   "metadata": {},
   "outputs": [],
   "source": [
    "import matplotlib.pyplot as plt\n",
    "import numpy as np\n",
    "from mpl_toolkits.mplot3d import Axes3D"
   ]
  },
  {
   "cell_type": "code",
   "execution_count": 28,
   "metadata": {},
   "outputs": [
    {
     "data": {
      "image/png": "[encoded data removed]",
      "text/plain": [
       "<Figure size 432x288 with 1 Axes>"
      ]
     },
     "metadata": {
      "needs_background": "light"
     },
     "output_type": "display_data"
    }
   ],
   "source": [
    "#visualize the planes that we fitted\n",
    "planes_fig = list(plane_coef.values())\n",
    "\n",
    "# 创建数据点\n",
    "x = np.linspace(-10, 10, 100) #绘图范围\n",
    "y = np.linspace(-10, 10, 100)\n",
    "x, y = np.meshgrid(x, y)\n",
    "\n",
    "# 创建3D图形\n",
    "fig = plt.figure()\n",
    "plt3d = fig.add_subplot(111, projection='3d')\n",
    "\n",
    "# 绘制多个平面\n",
    "for plane in planes_fig:\n",
    "    A, B, C, D = plane\n",
    "    z = (-A * x - B * y - D) / C\n",
    "    plt3d.plot_surface(x, y, z, alpha=0.5)\n",
    "\n",
    "# 设置坐标轴标签\n",
    "plt3d.set_xlabel('X')\n",
    "plt3d.set_ylabel('Y')\n",
    "plt3d.set_zlabel('Z')\n",
    "\n",
    "# 显示图形\n",
    "plt.show()"
   ]
  },
  {
   "cell_type": "markdown",
   "metadata": {},
   "source": [
    "- 2.1.2 define the y direction\n",
    "    - the purpose of this step is to select which the direction align with Y direction ( OR Other Standard Direction)"
   ]
  },
  {
   "cell_type": "code",
   "execution_count": 29,
   "metadata": {},
   "outputs": [],
   "source": [
    "#2.1.2 定义底边方向\n",
    "a = 0\n",
    "b = 1\n",
    "\n",
    "plane_a = plane_coef[a] #选取需要求交线的两个面\n",
    "plane_b = plane_coef[b]"
   ]
  },
  {
   "cell_type": "code",
   "execution_count": 30,
   "metadata": {},
   "outputs": [],
   "source": [
    "from data_processing.surface_intersection_line import find_intersection_point, cross_product"
   ]
  },
  {
   "cell_type": "code",
   "execution_count": 31,
   "metadata": {},
   "outputs": [
    {
     "name": "stdout",
     "output_type": "stream",
     "text": [
      "平面1和平面2的交线方向向量： [9.50448507e-01 1.51975010e-04 3.06068465e-03]\n",
      "平面1和平面2的交线上的一点： [0.         3.85718023 1.81166818]\n"
     ]
    }
   ],
   "source": [
    "direction = cross_product(np.array(plane_a[:3]), np.array(plane_b[:3]))\n",
    "point_on_line = find_intersection_point(plane_a, plane_b, direction)\n",
    "print(\"平面1和平面2的交线方向向量：\",direction)\n",
    "print(\"平面1和平面2的交线上的一点：\",point_on_line)"
   ]
  },
  {
   "cell_type": "code",
   "execution_count": 66,
   "metadata": {},
   "outputs": [],
   "source": [
    "#visualize the intersection line\n",
    "from data_processing.surface_intersection_line import plot_planes_and_line"
   ]
  },
  {
   "cell_type": "code",
   "execution_count": null,
   "metadata": {},
   "outputs": [],
   "source": [
    "plot_planes_and_line(plane_a, plane_b, direction, point_on_line)"
   ]
  },
  {
   "cell_type": "markdown",
   "metadata": {},
   "source": [
    "- 2.1.2 Transform the Point Clouds data\n",
    "    - literally contains 2 steps:\n",
    "        - Find Which point are going to transform to (0,0,0)\n",
    "        - Let the bottom surface align with the standard surrface Z=0 (ignore this step in this demo)\n",
    "    - However, if the model do not have a original bottom surface, using the intersection line to be the transformation object is also OK "
   ]
  },
  {
   "cell_type": "code",
   "execution_count": 33,
   "metadata": {},
   "outputs": [],
   "source": [
    "from data_processing.transformation_PT import transform_points"
   ]
  },
  {
   "cell_type": "code",
   "execution_count": 34,
   "metadata": {},
   "outputs": [],
   "source": [
    "points = np.loadtxt('.\\data\\org_data\\data_org_txt.txt')\n",
    "points_to_origin = [-0.129960,0.448177,1.787794] #select by human\n",
    "plane_normal = [0.0032200564433458342,\n",
    "                0.001112339072155001,\n",
    "                -0.9999941969523075]\n",
    "\n",
    "rotated_points = transform_points(points, plane_normal, points_to_origin)\n",
    "#np.savetxt(\"./data/rotated_data/data_rot_txt.txt\", rotated_points)\n",
    "#pd.DataFrame(rotated_points,columns=[\"x\",\"y\",\"z\"]).to_csv(\"./data/rotated_data/data_rot_csv.csv\",index=False)"
   ]
  },
  {
   "cell_type": "code",
   "execution_count": 35,
   "metadata": {},
   "outputs": [],
   "source": [
    "import os\n",
    "# 假设 rotated_points 是你需要保存的numpy数组\n",
    "# rotated_points = np.array(...) \n",
    "\n",
    "output_path = \"./data/rotated_data\"\n",
    "output_file = \"data_rot_txt.txt\"\n",
    "full_path = os.path.join(output_path, output_file) #创建相应文件夹和.txt文件\n",
    "\n",
    "# 确保目标路径存在\n",
    "os.makedirs(output_path, exist_ok=True)\n",
    "\n",
    "np.savetxt(full_path, rotated_points)"
   ]
  },
  {
   "cell_type": "code",
   "execution_count": 36,
   "metadata": {},
   "outputs": [],
   "source": [
    "import pandas as pd\n",
    "pd.DataFrame(rotated_points,columns=[\"x\",\"y\",\"z\"]).to_csv(output_path+\"/data_rot_csv.csv\",index=False)"
   ]
  },
  {
   "cell_type": "markdown",
   "metadata": {},
   "source": [
    "- P.S. : Sometimes, the transformation funtion might not be the same with the above ones!!!"
   ]
  },
  {
   "cell_type": "markdown",
   "metadata": {},
   "source": [
    "- 2.1.3 Now, we can have a quick glance of what the point cloud model looks like after the format transformation"
   ]
  },
  {
   "cell_type": "code",
   "execution_count": 6,
   "metadata": {},
   "outputs": [],
   "source": [
    "from format_transformation.txt2pcd import txt_to_pcd"
   ]
  },
  {
   "cell_type": "code",
   "execution_count": 38,
   "metadata": {},
   "outputs": [],
   "source": [
    "txt_file_path = './data/rotated_data/data_rot_txt.txt'  # Replace with your .txt file path\n",
    "pcd_file_path = './data/rotated_data/data_rot_asc.pcd'     # The path for the output .pcd file\n",
    "\n",
    "txt_to_pcd(txt_file_path, pcd_file_path)"
   ]
  },
  {
   "cell_type": "code",
   "execution_count": 39,
   "metadata": {},
   "outputs": [],
   "source": [
    "file_a = 'data/org_data/data_org.pcd'\n",
    "file_b = 'data/rotated_data/data_rot_asc.pcd'\n",
    "visualize_pcds([file_a, file_b])"
   ]
  },
  {
   "cell_type": "markdown",
   "metadata": {},
   "source": [
    "- Now, we get the model after coordinate correlation!"
   ]
  },
  {
   "cell_type": "markdown",
   "metadata": {},
   "source": [
    "### 2.2 : Plane Fitting (Clustering)\n",
    "- We use the model that after coordinate correlation"
   ]
  },
  {
   "cell_type": "code",
   "execution_count": 61,
   "metadata": {},
   "outputs": [],
   "source": [
    "#重新用一遍空间拟合平面操作\n",
    "points_sample = np.loadtxt('./data/rotated_data/data_rot_txt.txt')\n",
    "n_planes = 3"
   ]
  },
  {
   "cell_type": "code",
   "execution_count": 64,
   "metadata": {},
   "outputs": [],
   "source": [
    "initial_planes = initialize_planes_with_kmeans(points_sample, n_planes)\n",
    "refined_planes, refined_assignments = refine_planes(points_sample, initial_planes)"
   ]
  },
  {
   "cell_type": "code",
   "execution_count": 69,
   "metadata": {},
   "outputs": [
    {
     "data": {
      "image/png": "[encoded data removed]",
      "text/plain": [
       "<Figure size 432x288 with 1 Axes>"
      ]
     },
     "metadata": {
      "needs_background": "light"
     },
     "output_type": "display_data"
    }
   ],
   "source": [
    "#visualize again\n",
    "plot_points_by_group(points_sample, refined_assignments)"
   ]
  },
  {
   "cell_type": "code",
   "execution_count": 73,
   "metadata": {},
   "outputs": [
    {
     "data": {
      "text/plain": [
       "[array([-8.45630394e-04, -9.50798637e-01,  3.09808388e-01,  3.23398910e+00]),\n",
       " array([-0.00322006, -0.00111234,  0.9999942 , -0.01966359]),\n",
       " array([ 1.03347937e-03, -9.47036720e-01, -3.21123626e-01, -2.87827417e+00])]"
      ]
     },
     "execution_count": 73,
     "metadata": {},
     "output_type": "execute_result"
    }
   ],
   "source": [
    "refined_planes"
   ]
  },
  {
   "cell_type": "code",
   "execution_count": 43,
   "metadata": {},
   "outputs": [],
   "source": [
    "#将结果存入.csv文件\n",
    "import pandas as pd\n",
    "ass_series = pd.Series(refined_assignments)\n",
    "csv_file = './data/rotated_data/data_rot_csv.csv'\n",
    "df = pd.read_csv(csv_file)\n",
    "df['cluster'] = ass_series\n",
    "df.to_csv(\"./data/rotated_data/data_rot_clu.csv\", index=False)"
   ]
  },
  {
   "cell_type": "markdown",
   "metadata": {},
   "source": [
    "- Honestly Speaking, we can simply just copy the column \"cluster\"'s value that we got from step 2.1.1"
   ]
  },
  {
   "cell_type": "code",
   "execution_count": 44,
   "metadata": {},
   "outputs": [
    {
     "data": {
      "text/plain": [
       "{0: [-0.0008456303936024496,\n",
       "  -0.9507986367134565,\n",
       "  0.3098083880934628,\n",
       "  3.233989098514085],\n",
       " 1: [0.003220056443345831,\n",
       "  0.001112339072155008,\n",
       "  -0.9999941969523075,\n",
       "  0.01966359286360319],\n",
       " 2: [-0.0010334793720475886,\n",
       "  0.9470367198419727,\n",
       "  0.32112362602484446,\n",
       "  2.8782741742951754]}"
      ]
     },
     "execution_count": 44,
     "metadata": {},
     "output_type": "execute_result"
    }
   ],
   "source": [
    "# 再求面方程\n",
    "plane_coef = fit_planes_from_csv(\"./data/rotated_data/data_rot_clu.csv\")\n",
    "plane_coef"
   ]
  },
  {
   "cell_type": "markdown",
   "metadata": {},
   "source": [
    "- Each surface, we got a group of file to save the data. (每个面用一组数据进行单独储存)"
   ]
  },
  {
   "cell_type": "code",
   "execution_count": 1,
   "metadata": {},
   "outputs": [],
   "source": [
    "from data_processing.save_by_dif_csv import save_clusters_to_csv"
   ]
  },
  {
   "cell_type": "code",
   "execution_count": 46,
   "metadata": {},
   "outputs": [
    {
     "name": "stdout",
     "output_type": "stream",
     "text": [
      "Saved to: plane_0.csv\n",
      "Saved to: plane_1.csv\n",
      "Saved to: plane_2.csv\n"
     ]
    }
   ],
   "source": [
    "save_clusters_to_csv(\"./data/rotated_data/data_rot_clu.csv\")"
   ]
  },
  {
   "cell_type": "code",
   "execution_count": 2,
   "metadata": {},
   "outputs": [],
   "source": [
    "from format_transformation.csv2txt import csv_to_txt"
   ]
  },
  {
   "cell_type": "code",
   "execution_count": 4,
   "metadata": {},
   "outputs": [],
   "source": [
    "n_planes = 3\n",
    "#csv ----> txt\n",
    "for i in range (0, n_planes):\n",
    "    input = f'./data/rotated_data/plane_{i}/plane_{i}.csv'\n",
    "    output = f'./data/rotated_data/plane_{i}/plane_{i}.txt'\n",
    "\n",
    "    csv_to_txt(input,output)   "
   ]
  },
  {
   "cell_type": "code",
   "execution_count": 7,
   "metadata": {},
   "outputs": [],
   "source": [
    "# txt ----> pcd\n",
    "for i in range (0, n_planes):\n",
    "    input = f'./data/rotated_data/plane_{i}/plane_{i}.txt'\n",
    "    output = f'./data/rotated_data/plane_{i}/plane_{i}_acs.pcd'\n",
    "\n",
    "    txt_to_pcd(input,output)   "
   ]
  },
  {
   "cell_type": "markdown",
   "metadata": {},
   "source": [
    "- python.open3d处理binary编码的点云文件,故因此需要格式转化"
   ]
  },
  {
   "cell_type": "code",
   "execution_count": 9,
   "metadata": {},
   "outputs": [],
   "source": [
    "#ascii ----> binary\n",
    "for i in range (0, n_planes):\n",
    "    input = f'./data/rotated_data/plane_{i}/plane_{i}_acs.pcd'\n",
    "    output = f'./data/rotated_data/plane_{i}/plane_{i}_bin.pcd'\n",
    "\n",
    "    ascii_to_binary(input,output)   "
   ]
  },
  {
   "cell_type": "markdown",
   "metadata": {},
   "source": [
    "### 2.3 : Extract Key Point "
   ]
  },
  {
   "cell_type": "markdown",
   "metadata": {},
   "source": [
    "- In this section, we find the key point (centroid point) individually from each plane\n",
    "- This procedure contains 8 steps:\n",
    "    - Get the .pcd file (which we already generated in 2.2)\n",
    "    - Use \"slicing_pt_multi_v2\" get the first direction sliced\n",
    "    - Use \"slicing_pt_multi_2_v2\"\n",
    "    - dealing with the split dat\n",
    "    - final_info_process to combine the above steps\n",
    "    - generate final parts\n",
    "    - Calculate the centroid point"
   ]
  },
  {
   "cell_type": "markdown",
   "metadata": {},
   "source": [
    "- 2.3.1 Slicing in first direction"
   ]
  },
  {
   "cell_type": "code",
   "execution_count": 17,
   "metadata": {},
   "outputs": [],
   "source": [
    "from data_processing.extract_key_point.slicing_pt_multi_v2 import slice_and_save_point_clouds"
   ]
  },
  {
   "cell_type": "code",
   "execution_count": 6,
   "metadata": {},
   "outputs": [],
   "source": [
    "import open3d as o3d\n",
    "import os\n",
    "import numpy as np"
   ]
  },
  {
   "cell_type": "code",
   "execution_count": 31,
   "metadata": {},
   "outputs": [],
   "source": [
    "#处理哪个面 (从面0开始计数！)\n",
    "flag = 2"
   ]
  },
  {
   "cell_type": "code",
   "execution_count": 32,
   "metadata": {},
   "outputs": [],
   "source": [
    "#define the slicing params (direction, distance)\n",
    "direction = np.array([1, 0, 0])\n",
    "slice_distance = 0.5 #切分距离\n",
    "gap_distance = 1"
   ]
  },
  {
   "cell_type": "code",
   "execution_count": 33,
   "metadata": {},
   "outputs": [],
   "source": [
    "#define some params\n",
    "pcd = o3d.io.read_point_cloud(f\"./data/rotated_data/plane_{flag}/plane_{flag}_bin.pcd\")\n",
    "\n",
    "output_path_pcd = f\"./data/slicing_data/plane_{flag}/data_slicing_1\"\n",
    "output_path_csv = f\"./data/slicing_data/plane_{flag}/data_csv\"\n",
    "#output_file = f\"plane{flag}_split\"\n",
    "#full_path = os.path.join(output_path, output_file) #创建相应文件夹和.txt文件\n",
    "\n",
    "# 确保目标路径存在\n",
    "os.makedirs(output_path_pcd, exist_ok=True)\n",
    "os.makedirs(output_path_csv, exist_ok=True)"
   ]
  },
  {
   "cell_type": "code",
   "execution_count": 34,
   "metadata": {},
   "outputs": [
    {
     "name": "stdout",
     "output_type": "stream",
     "text": [
      "Saved slice to ./data/slicing_data/plane_2/data_slicing_1/slice_0.pcd\n",
      "Saved slice to ./data/slicing_data/plane_2/data_slicing_1/slice_1.pcd\n",
      "Saved slice to ./data/slicing_data/plane_2/data_slicing_1/slice_2.pcd\n",
      "Saved slice to ./data/slicing_data/plane_2/data_slicing_1/slice_3.pcd\n",
      "Saved slice to ./data/slicing_data/plane_2/data_slicing_1/slice_4.pcd\n",
      "Saved slice to ./data/slicing_data/plane_2/data_slicing_1/slice_5.pcd\n",
      "Saved slice to ./data/slicing_data/plane_2/data_slicing_1/slice_6.pcd\n",
      "Saved slice to ./data/slicing_data/plane_2/data_slicing_1/slice_7.pcd\n",
      "Saved slice to ./data/slicing_data/plane_2/data_slicing_1/slice_8.pcd\n",
      "Saved slice to ./data/slicing_data/plane_2/data_slicing_1/slice_9.pcd\n",
      "Saved slice to ./data/slicing_data/plane_2/data_slicing_1/slice_10.pcd\n",
      "Saved slice to ./data/slicing_data/plane_2/data_slicing_1/slice_11.pcd\n",
      "Saved slice to ./data/slicing_data/plane_2/data_slicing_1/slice_12.pcd\n",
      "Saved slice to ./data/slicing_data/plane_2/data_slicing_1/slice_13.pcd\n",
      "Saved slice to ./data/slicing_data/plane_2/data_slicing_1/slice_14.pcd\n",
      "Saved slice to ./data/slicing_data/plane_2/data_slicing_1/slice_15.pcd\n",
      "Saved slice to ./data/slicing_data/plane_2/data_slicing_1/slice_16.pcd\n",
      "Saved slice to ./data/slicing_data/plane_2/data_slicing_1/slice_17.pcd\n",
      "Saved slice to ./data/slicing_data/plane_2/data_slicing_1/slice_18.pcd\n",
      "Saved slice to ./data/slicing_data/plane_2/data_slicing_1/slice_19.pcd\n",
      "Saved slice to ./data/slicing_data/plane_2/data_slicing_1/slice_20.pcd\n",
      "Saved slice to ./data/slicing_data/plane_2/data_slicing_1/slice_21.pcd\n",
      "Saved slice to ./data/slicing_data/plane_2/data_slicing_1/slice_22.pcd\n",
      "Saved slice to ./data/slicing_data/plane_2/data_slicing_1/slice_23.pcd\n",
      "Saved slice to ./data/slicing_data/plane_2/data_slicing_1/slice_24.pcd\n",
      "Saved slice to ./data/slicing_data/plane_2/data_slicing_1/slice_25.pcd\n",
      "Saved slice to ./data/slicing_data/plane_2/data_slicing_1/slice_26.pcd\n",
      "Saved slice to ./data/slicing_data/plane_2/data_slicing_1/slice_27.pcd\n",
      "Saved slice to ./data/slicing_data/plane_2/data_slicing_1/slice_28.pcd\n",
      "Saved slice to ./data/slicing_data/plane_2/data_slicing_1/slice_29.pcd\n",
      "Saved slice to ./data/slicing_data/plane_2/data_slicing_1/slice_30.pcd\n",
      "Saved slice to ./data/slicing_data/plane_2/data_slicing_1/slice_31.pcd\n",
      "Saved slice to ./data/slicing_data/plane_2/data_slicing_1/slice_32.pcd\n",
      "Saved slice to ./data/slicing_data/plane_2/data_slicing_1/slice_33.pcd\n",
      "Saved slice to ./data/slicing_data/plane_2/data_slicing_1/slice_34.pcd\n",
      "Saved slice to ./data/slicing_data/plane_2/data_slicing_1/slice_35.pcd\n"
     ]
    }
   ],
   "source": [
    "slice_and_save_point_clouds(pcd, direction, slice_distance, gap_distance, output_path_pcd, output_path_csv, flag)"
   ]
  },
  {
   "cell_type": "markdown",
   "metadata": {},
   "source": [
    "- Until now, we got the slicing data in first direction"
   ]
  },
  {
   "cell_type": "markdown",
   "metadata": {},
   "source": [
    "- 2.3.2 Slicing in second direction"
   ]
  },
  {
   "cell_type": "code",
   "execution_count": 35,
   "metadata": {},
   "outputs": [],
   "source": [
    "from data_processing.extract_key_point.slicing_pt_multi_2_v2 import process_folder"
   ]
  },
  {
   "cell_type": "code",
   "execution_count": 36,
   "metadata": {},
   "outputs": [],
   "source": [
    "direction = np.array([0, 0, 1])\n",
    "#direction = np.array([0,1,0]) #水平面专用\n",
    "slice_distance = 0.5\n",
    "gap_distance = 1"
   ]
  },
  {
   "cell_type": "code",
   "execution_count": 37,
   "metadata": {},
   "outputs": [],
   "source": [
    "#define path 2\n",
    "input_folder = f\"./data/slicing_data/plane_{flag}/data_slicing_1\"\n",
    "\n",
    "output_path = f\"./data/slicing_data/plane_{flag}/data_slicing_2\"\n",
    "info_path = f\"./data/slicing_data/plane_{flag}/data_slicing_2/info\"\n",
    "#output_file = f\"plane{flag}_split\"\n",
    "#full_path = os.path.join(output_path, output_file) #创建相应文件夹和.txt文件\n",
    "\n",
    "# 确保目标路径存在\n",
    "os.makedirs(output_path, exist_ok=True)\n",
    "os.makedirs(info_path, exist_ok=True)"
   ]
  },
  {
   "cell_type": "code",
   "execution_count": 38,
   "metadata": {},
   "outputs": [
    {
     "name": "stdout",
     "output_type": "stream",
     "text": [
      "Saved ./data/slicing_data/plane_2/data_slicing_2\\slice_0_slice_with_gap_000.pcd\n",
      "Saved slice data to ./data/slicing_data/plane_2/data_slicing_2/info/slice_0_slice_with_gap_000.csv\n",
      "Saved ./data/slicing_data/plane_2/data_slicing_2\\slice_0_slice_with_gap_001.pcd\n",
      "Saved slice data to ./data/slicing_data/plane_2/data_slicing_2/info/slice_0_slice_with_gap_001.csv\n",
      "Saved ./data/slicing_data/plane_2/data_slicing_2\\slice_0_slice_with_gap_002.pcd\n",
      "Saved slice data to ./data/slicing_data/plane_2/data_slicing_2/info/slice_0_slice_with_gap_002.csv\n",
      "Saved ./data/slicing_data/plane_2/data_slicing_2\\slice_0_slice_with_gap_003.pcd\n",
      "Saved slice data to ./data/slicing_data/plane_2/data_slicing_2/info/slice_0_slice_with_gap_003.csv\n",
      "Saved ./data/slicing_data/plane_2/data_slicing_2\\slice_0_slice_with_gap_004.pcd\n",
      "Saved slice data to ./data/slicing_data/plane_2/data_slicing_2/info/slice_0_slice_with_gap_004.csv\n",
      "Saved ./data/slicing_data/plane_2/data_slicing_2\\slice_0_slice_with_gap_005.pcd\n",
      "Saved slice data to ./data/slicing_data/plane_2/data_slicing_2/info/slice_0_slice_with_gap_005.csv\n",
      "Saved ./data/slicing_data/plane_2/data_slicing_2\\slice_0_slice_with_gap_006.pcd\n",
      "Saved slice data to ./data/slicing_data/plane_2/data_slicing_2/info/slice_0_slice_with_gap_006.csv\n",
      "Saved ./data/slicing_data/plane_2/data_slicing_2\\slice_0_slice_with_gap_007.pcd\n",
      "Saved slice data to ./data/slicing_data/plane_2/data_slicing_2/info/slice_0_slice_with_gap_007.csv\n",
      "Saved ./data/slicing_data/plane_2/data_slicing_2\\slice_0_slice_with_gap_008.pcd\n",
      "Saved slice data to ./data/slicing_data/plane_2/data_slicing_2/info/slice_0_slice_with_gap_008.csv\n",
      "Saved ./data/slicing_data/plane_2/data_slicing_2\\slice_1_slice_with_gap_000.pcd\n",
      "Saved slice data to ./data/slicing_data/plane_2/data_slicing_2/info/slice_1_slice_with_gap_000.csv\n",
      "Saved ./data/slicing_data/plane_2/data_slicing_2\\slice_1_slice_with_gap_001.pcd\n",
      "Saved slice data to ./data/slicing_data/plane_2/data_slicing_2/info/slice_1_slice_with_gap_001.csv\n",
      "Saved ./data/slicing_data/plane_2/data_slicing_2\\slice_1_slice_with_gap_002.pcd\n",
      "Saved slice data to ./data/slicing_data/plane_2/data_slicing_2/info/slice_1_slice_with_gap_002.csv\n",
      "Saved ./data/slicing_data/plane_2/data_slicing_2\\slice_1_slice_with_gap_003.pcd\n",
      "Saved slice data to ./data/slicing_data/plane_2/data_slicing_2/info/slice_1_slice_with_gap_003.csv\n",
      "Saved ./data/slicing_data/plane_2/data_slicing_2\\slice_1_slice_with_gap_004.pcd\n",
      "Saved slice data to ./data/slicing_data/plane_2/data_slicing_2/info/slice_1_slice_with_gap_004.csv\n",
      "Saved ./data/slicing_data/plane_2/data_slicing_2\\slice_1_slice_with_gap_005.pcd\n",
      "Saved slice data to ./data/slicing_data/plane_2/data_slicing_2/info/slice_1_slice_with_gap_005.csv\n",
      "Saved ./data/slicing_data/plane_2/data_slicing_2\\slice_1_slice_with_gap_006.pcd\n",
      "Saved slice data to ./data/slicing_data/plane_2/data_slicing_2/info/slice_1_slice_with_gap_006.csv\n",
      "Saved ./data/slicing_data/plane_2/data_slicing_2\\slice_1_slice_with_gap_007.pcd\n",
      "Saved slice data to ./data/slicing_data/plane_2/data_slicing_2/info/slice_1_slice_with_gap_007.csv\n",
      "Saved ./data/slicing_data/plane_2/data_slicing_2\\slice_1_slice_with_gap_008.pcd\n",
      "Saved slice data to ./data/slicing_data/plane_2/data_slicing_2/info/slice_1_slice_with_gap_008.csv\n",
      "Saved ./data/slicing_data/plane_2/data_slicing_2\\slice_10_slice_with_gap_000.pcd\n",
      "Saved slice data to ./data/slicing_data/plane_2/data_slicing_2/info/slice_10_slice_with_gap_000.csv\n",
      "Saved ./data/slicing_data/plane_2/data_slicing_2\\slice_10_slice_with_gap_001.pcd\n",
      "Saved slice data to ./data/slicing_data/plane_2/data_slicing_2/info/slice_10_slice_with_gap_001.csv\n",
      "Saved ./data/slicing_data/plane_2/data_slicing_2\\slice_10_slice_with_gap_002.pcd\n",
      "Saved slice data to ./data/slicing_data/plane_2/data_slicing_2/info/slice_10_slice_with_gap_002.csv\n",
      "Saved ./data/slicing_data/plane_2/data_slicing_2\\slice_10_slice_with_gap_003.pcd\n",
      "Saved slice data to ./data/slicing_data/plane_2/data_slicing_2/info/slice_10_slice_with_gap_003.csv\n",
      "Saved ./data/slicing_data/plane_2/data_slicing_2\\slice_10_slice_with_gap_004.pcd\n",
      "Saved slice data to ./data/slicing_data/plane_2/data_slicing_2/info/slice_10_slice_with_gap_004.csv\n",
      "Saved ./data/slicing_data/plane_2/data_slicing_2\\slice_10_slice_with_gap_005.pcd\n",
      "Saved slice data to ./data/slicing_data/plane_2/data_slicing_2/info/slice_10_slice_with_gap_005.csv\n",
      "Saved ./data/slicing_data/plane_2/data_slicing_2\\slice_10_slice_with_gap_006.pcd\n",
      "Saved slice data to ./data/slicing_data/plane_2/data_slicing_2/info/slice_10_slice_with_gap_006.csv\n",
      "Saved ./data/slicing_data/plane_2/data_slicing_2\\slice_10_slice_with_gap_007.pcd\n",
      "Saved slice data to ./data/slicing_data/plane_2/data_slicing_2/info/slice_10_slice_with_gap_007.csv\n",
      "Saved ./data/slicing_data/plane_2/data_slicing_2\\slice_10_slice_with_gap_008.pcd\n",
      "Saved slice data to ./data/slicing_data/plane_2/data_slicing_2/info/slice_10_slice_with_gap_008.csv\n",
      "Saved ./data/slicing_data/plane_2/data_slicing_2\\slice_11_slice_with_gap_000.pcd\n",
      "Saved slice data to ./data/slicing_data/plane_2/data_slicing_2/info/slice_11_slice_with_gap_000.csv\n",
      "Saved ./data/slicing_data/plane_2/data_slicing_2\\slice_11_slice_with_gap_001.pcd\n",
      "Saved slice data to ./data/slicing_data/plane_2/data_slicing_2/info/slice_11_slice_with_gap_001.csv\n",
      "Saved ./data/slicing_data/plane_2/data_slicing_2\\slice_11_slice_with_gap_002.pcd\n",
      "Saved slice data to ./data/slicing_data/plane_2/data_slicing_2/info/slice_11_slice_with_gap_002.csv\n",
      "Saved ./data/slicing_data/plane_2/data_slicing_2\\slice_11_slice_with_gap_004.pcd\n",
      "Saved slice data to ./data/slicing_data/plane_2/data_slicing_2/info/slice_11_slice_with_gap_004.csv\n",
      "Saved ./data/slicing_data/plane_2/data_slicing_2\\slice_11_slice_with_gap_005.pcd\n",
      "Saved slice data to ./data/slicing_data/plane_2/data_slicing_2/info/slice_11_slice_with_gap_005.csv\n",
      "Saved ./data/slicing_data/plane_2/data_slicing_2\\slice_11_slice_with_gap_006.pcd\n",
      "Saved slice data to ./data/slicing_data/plane_2/data_slicing_2/info/slice_11_slice_with_gap_006.csv\n",
      "Saved ./data/slicing_data/plane_2/data_slicing_2\\slice_11_slice_with_gap_007.pcd\n",
      "Saved slice data to ./data/slicing_data/plane_2/data_slicing_2/info/slice_11_slice_with_gap_007.csv\n",
      "Saved ./data/slicing_data/plane_2/data_slicing_2\\slice_11_slice_with_gap_008.pcd\n",
      "Saved slice data to ./data/slicing_data/plane_2/data_slicing_2/info/slice_11_slice_with_gap_008.csv\n",
      "Saved ./data/slicing_data/plane_2/data_slicing_2\\slice_12_slice_with_gap_000.pcd\n",
      "Saved slice data to ./data/slicing_data/plane_2/data_slicing_2/info/slice_12_slice_with_gap_000.csv\n",
      "Saved ./data/slicing_data/plane_2/data_slicing_2\\slice_12_slice_with_gap_001.pcd\n",
      "Saved slice data to ./data/slicing_data/plane_2/data_slicing_2/info/slice_12_slice_with_gap_001.csv\n",
      "Saved ./data/slicing_data/plane_2/data_slicing_2\\slice_12_slice_with_gap_002.pcd\n",
      "Saved slice data to ./data/slicing_data/plane_2/data_slicing_2/info/slice_12_slice_with_gap_002.csv\n",
      "Saved ./data/slicing_data/plane_2/data_slicing_2\\slice_12_slice_with_gap_003.pcd\n",
      "Saved slice data to ./data/slicing_data/plane_2/data_slicing_2/info/slice_12_slice_with_gap_003.csv\n",
      "Saved ./data/slicing_data/plane_2/data_slicing_2\\slice_12_slice_with_gap_004.pcd\n",
      "Saved slice data to ./data/slicing_data/plane_2/data_slicing_2/info/slice_12_slice_with_gap_004.csv\n",
      "Saved ./data/slicing_data/plane_2/data_slicing_2\\slice_12_slice_with_gap_006.pcd\n",
      "Saved slice data to ./data/slicing_data/plane_2/data_slicing_2/info/slice_12_slice_with_gap_006.csv\n",
      "Saved ./data/slicing_data/plane_2/data_slicing_2\\slice_12_slice_with_gap_007.pcd\n",
      "Saved slice data to ./data/slicing_data/plane_2/data_slicing_2/info/slice_12_slice_with_gap_007.csv\n",
      "Saved ./data/slicing_data/plane_2/data_slicing_2\\slice_13_slice_with_gap_000.pcd\n",
      "Saved slice data to ./data/slicing_data/plane_2/data_slicing_2/info/slice_13_slice_with_gap_000.csv\n",
      "Saved ./data/slicing_data/plane_2/data_slicing_2\\slice_13_slice_with_gap_001.pcd\n",
      "Saved slice data to ./data/slicing_data/plane_2/data_slicing_2/info/slice_13_slice_with_gap_001.csv\n",
      "Saved ./data/slicing_data/plane_2/data_slicing_2\\slice_13_slice_with_gap_002.pcd\n",
      "Saved slice data to ./data/slicing_data/plane_2/data_slicing_2/info/slice_13_slice_with_gap_002.csv\n",
      "Saved ./data/slicing_data/plane_2/data_slicing_2\\slice_13_slice_with_gap_003.pcd\n",
      "Saved slice data to ./data/slicing_data/plane_2/data_slicing_2/info/slice_13_slice_with_gap_003.csv\n",
      "Saved ./data/slicing_data/plane_2/data_slicing_2\\slice_13_slice_with_gap_004.pcd\n",
      "Saved slice data to ./data/slicing_data/plane_2/data_slicing_2/info/slice_13_slice_with_gap_004.csv\n",
      "Saved ./data/slicing_data/plane_2/data_slicing_2\\slice_13_slice_with_gap_005.pcd\n",
      "Saved slice data to ./data/slicing_data/plane_2/data_slicing_2/info/slice_13_slice_with_gap_005.csv\n",
      "Saved ./data/slicing_data/plane_2/data_slicing_2\\slice_13_slice_with_gap_006.pcd\n",
      "Saved slice data to ./data/slicing_data/plane_2/data_slicing_2/info/slice_13_slice_with_gap_006.csv\n",
      "Saved ./data/slicing_data/plane_2/data_slicing_2\\slice_13_slice_with_gap_007.pcd\n",
      "Saved slice data to ./data/slicing_data/plane_2/data_slicing_2/info/slice_13_slice_with_gap_007.csv\n",
      "Saved ./data/slicing_data/plane_2/data_slicing_2\\slice_14_slice_with_gap_000.pcd\n",
      "Saved slice data to ./data/slicing_data/plane_2/data_slicing_2/info/slice_14_slice_with_gap_000.csv\n",
      "Saved ./data/slicing_data/plane_2/data_slicing_2\\slice_14_slice_with_gap_001.pcd\n",
      "Saved slice data to ./data/slicing_data/plane_2/data_slicing_2/info/slice_14_slice_with_gap_001.csv\n",
      "Saved ./data/slicing_data/plane_2/data_slicing_2\\slice_14_slice_with_gap_002.pcd\n",
      "Saved slice data to ./data/slicing_data/plane_2/data_slicing_2/info/slice_14_slice_with_gap_002.csv\n",
      "Saved ./data/slicing_data/plane_2/data_slicing_2\\slice_14_slice_with_gap_003.pcd\n",
      "Saved slice data to ./data/slicing_data/plane_2/data_slicing_2/info/slice_14_slice_with_gap_003.csv\n",
      "Saved ./data/slicing_data/plane_2/data_slicing_2\\slice_14_slice_with_gap_004.pcd\n",
      "Saved slice data to ./data/slicing_data/plane_2/data_slicing_2/info/slice_14_slice_with_gap_004.csv\n",
      "Saved ./data/slicing_data/plane_2/data_slicing_2\\slice_14_slice_with_gap_005.pcd\n",
      "Saved slice data to ./data/slicing_data/plane_2/data_slicing_2/info/slice_14_slice_with_gap_005.csv\n",
      "Saved ./data/slicing_data/plane_2/data_slicing_2\\slice_14_slice_with_gap_006.pcd\n",
      "Saved slice data to ./data/slicing_data/plane_2/data_slicing_2/info/slice_14_slice_with_gap_006.csv\n",
      "Saved ./data/slicing_data/plane_2/data_slicing_2\\slice_15_slice_with_gap_000.pcd\n",
      "Saved slice data to ./data/slicing_data/plane_2/data_slicing_2/info/slice_15_slice_with_gap_000.csv\n",
      "Saved ./data/slicing_data/plane_2/data_slicing_2\\slice_15_slice_with_gap_001.pcd\n",
      "Saved slice data to ./data/slicing_data/plane_2/data_slicing_2/info/slice_15_slice_with_gap_001.csv\n",
      "Saved ./data/slicing_data/plane_2/data_slicing_2\\slice_15_slice_with_gap_002.pcd\n",
      "Saved slice data to ./data/slicing_data/plane_2/data_slicing_2/info/slice_15_slice_with_gap_002.csv\n",
      "Saved ./data/slicing_data/plane_2/data_slicing_2\\slice_15_slice_with_gap_003.pcd\n",
      "Saved slice data to ./data/slicing_data/plane_2/data_slicing_2/info/slice_15_slice_with_gap_003.csv\n",
      "Saved ./data/slicing_data/plane_2/data_slicing_2\\slice_15_slice_with_gap_004.pcd\n",
      "Saved slice data to ./data/slicing_data/plane_2/data_slicing_2/info/slice_15_slice_with_gap_004.csv\n",
      "Saved ./data/slicing_data/plane_2/data_slicing_2\\slice_15_slice_with_gap_005.pcd\n",
      "Saved slice data to ./data/slicing_data/plane_2/data_slicing_2/info/slice_15_slice_with_gap_005.csv\n",
      "Saved ./data/slicing_data/plane_2/data_slicing_2\\slice_15_slice_with_gap_006.pcd\n",
      "Saved slice data to ./data/slicing_data/plane_2/data_slicing_2/info/slice_15_slice_with_gap_006.csv\n",
      "Saved ./data/slicing_data/plane_2/data_slicing_2\\slice_16_slice_with_gap_000.pcd\n",
      "Saved slice data to ./data/slicing_data/plane_2/data_slicing_2/info/slice_16_slice_with_gap_000.csv\n",
      "Saved ./data/slicing_data/plane_2/data_slicing_2\\slice_16_slice_with_gap_001.pcd\n",
      "Saved slice data to ./data/slicing_data/plane_2/data_slicing_2/info/slice_16_slice_with_gap_001.csv\n",
      "Saved ./data/slicing_data/plane_2/data_slicing_2\\slice_16_slice_with_gap_002.pcd\n",
      "Saved slice data to ./data/slicing_data/plane_2/data_slicing_2/info/slice_16_slice_with_gap_002.csv\n",
      "Saved ./data/slicing_data/plane_2/data_slicing_2\\slice_16_slice_with_gap_003.pcd\n",
      "Saved slice data to ./data/slicing_data/plane_2/data_slicing_2/info/slice_16_slice_with_gap_003.csv\n",
      "Saved ./data/slicing_data/plane_2/data_slicing_2\\slice_16_slice_with_gap_004.pcd\n",
      "Saved slice data to ./data/slicing_data/plane_2/data_slicing_2/info/slice_16_slice_with_gap_004.csv\n",
      "Saved ./data/slicing_data/plane_2/data_slicing_2\\slice_16_slice_with_gap_005.pcd\n",
      "Saved slice data to ./data/slicing_data/plane_2/data_slicing_2/info/slice_16_slice_with_gap_005.csv\n",
      "Saved ./data/slicing_data/plane_2/data_slicing_2\\slice_16_slice_with_gap_006.pcd\n",
      "Saved slice data to ./data/slicing_data/plane_2/data_slicing_2/info/slice_16_slice_with_gap_006.csv\n",
      "Saved ./data/slicing_data/plane_2/data_slicing_2\\slice_17_slice_with_gap_000.pcd\n",
      "Saved slice data to ./data/slicing_data/plane_2/data_slicing_2/info/slice_17_slice_with_gap_000.csv\n",
      "Saved ./data/slicing_data/plane_2/data_slicing_2\\slice_17_slice_with_gap_001.pcd\n",
      "Saved slice data to ./data/slicing_data/plane_2/data_slicing_2/info/slice_17_slice_with_gap_001.csv\n",
      "Saved ./data/slicing_data/plane_2/data_slicing_2\\slice_17_slice_with_gap_002.pcd\n",
      "Saved slice data to ./data/slicing_data/plane_2/data_slicing_2/info/slice_17_slice_with_gap_002.csv\n",
      "Saved ./data/slicing_data/plane_2/data_slicing_2\\slice_17_slice_with_gap_003.pcd\n",
      "Saved slice data to ./data/slicing_data/plane_2/data_slicing_2/info/slice_17_slice_with_gap_003.csv\n",
      "Saved ./data/slicing_data/plane_2/data_slicing_2\\slice_17_slice_with_gap_004.pcd\n",
      "Saved slice data to ./data/slicing_data/plane_2/data_slicing_2/info/slice_17_slice_with_gap_004.csv\n",
      "Saved ./data/slicing_data/plane_2/data_slicing_2\\slice_17_slice_with_gap_005.pcd\n",
      "Saved slice data to ./data/slicing_data/plane_2/data_slicing_2/info/slice_17_slice_with_gap_005.csv\n",
      "Saved ./data/slicing_data/plane_2/data_slicing_2\\slice_17_slice_with_gap_006.pcd\n",
      "Saved slice data to ./data/slicing_data/plane_2/data_slicing_2/info/slice_17_slice_with_gap_006.csv\n",
      "Saved ./data/slicing_data/plane_2/data_slicing_2\\slice_18_slice_with_gap_000.pcd\n",
      "Saved slice data to ./data/slicing_data/plane_2/data_slicing_2/info/slice_18_slice_with_gap_000.csv\n",
      "Saved ./data/slicing_data/plane_2/data_slicing_2\\slice_18_slice_with_gap_001.pcd\n",
      "Saved slice data to ./data/slicing_data/plane_2/data_slicing_2/info/slice_18_slice_with_gap_001.csv\n",
      "Saved ./data/slicing_data/plane_2/data_slicing_2\\slice_18_slice_with_gap_002.pcd\n",
      "Saved slice data to ./data/slicing_data/plane_2/data_slicing_2/info/slice_18_slice_with_gap_002.csv\n",
      "Saved ./data/slicing_data/plane_2/data_slicing_2\\slice_18_slice_with_gap_003.pcd\n",
      "Saved slice data to ./data/slicing_data/plane_2/data_slicing_2/info/slice_18_slice_with_gap_003.csv\n",
      "Saved ./data/slicing_data/plane_2/data_slicing_2\\slice_18_slice_with_gap_004.pcd\n",
      "Saved slice data to ./data/slicing_data/plane_2/data_slicing_2/info/slice_18_slice_with_gap_004.csv\n",
      "Saved ./data/slicing_data/plane_2/data_slicing_2\\slice_18_slice_with_gap_005.pcd\n",
      "Saved slice data to ./data/slicing_data/plane_2/data_slicing_2/info/slice_18_slice_with_gap_005.csv\n",
      "Saved ./data/slicing_data/plane_2/data_slicing_2\\slice_18_slice_with_gap_006.pcd\n",
      "Saved slice data to ./data/slicing_data/plane_2/data_slicing_2/info/slice_18_slice_with_gap_006.csv\n",
      "Saved ./data/slicing_data/plane_2/data_slicing_2\\slice_18_slice_with_gap_007.pcd\n",
      "Saved slice data to ./data/slicing_data/plane_2/data_slicing_2/info/slice_18_slice_with_gap_007.csv\n",
      "Saved ./data/slicing_data/plane_2/data_slicing_2\\slice_19_slice_with_gap_000.pcd\n",
      "Saved slice data to ./data/slicing_data/plane_2/data_slicing_2/info/slice_19_slice_with_gap_000.csv\n",
      "Saved ./data/slicing_data/plane_2/data_slicing_2\\slice_19_slice_with_gap_001.pcd\n",
      "Saved slice data to ./data/slicing_data/plane_2/data_slicing_2/info/slice_19_slice_with_gap_001.csv\n",
      "Saved ./data/slicing_data/plane_2/data_slicing_2\\slice_19_slice_with_gap_002.pcd\n",
      "Saved slice data to ./data/slicing_data/plane_2/data_slicing_2/info/slice_19_slice_with_gap_002.csv\n",
      "Saved ./data/slicing_data/plane_2/data_slicing_2\\slice_19_slice_with_gap_003.pcd\n",
      "Saved slice data to ./data/slicing_data/plane_2/data_slicing_2/info/slice_19_slice_with_gap_003.csv\n",
      "Saved ./data/slicing_data/plane_2/data_slicing_2\\slice_19_slice_with_gap_004.pcd\n",
      "Saved slice data to ./data/slicing_data/plane_2/data_slicing_2/info/slice_19_slice_with_gap_004.csv\n",
      "Saved ./data/slicing_data/plane_2/data_slicing_2\\slice_19_slice_with_gap_005.pcd\n",
      "Saved slice data to ./data/slicing_data/plane_2/data_slicing_2/info/slice_19_slice_with_gap_005.csv\n",
      "Saved ./data/slicing_data/plane_2/data_slicing_2\\slice_19_slice_with_gap_006.pcd\n",
      "Saved slice data to ./data/slicing_data/plane_2/data_slicing_2/info/slice_19_slice_with_gap_006.csv\n",
      "Saved ./data/slicing_data/plane_2/data_slicing_2\\slice_19_slice_with_gap_007.pcd\n",
      "Saved slice data to ./data/slicing_data/plane_2/data_slicing_2/info/slice_19_slice_with_gap_007.csv\n",
      "Saved ./data/slicing_data/plane_2/data_slicing_2\\slice_2_slice_with_gap_000.pcd\n",
      "Saved slice data to ./data/slicing_data/plane_2/data_slicing_2/info/slice_2_slice_with_gap_000.csv\n",
      "Saved ./data/slicing_data/plane_2/data_slicing_2\\slice_2_slice_with_gap_001.pcd\n",
      "Saved slice data to ./data/slicing_data/plane_2/data_slicing_2/info/slice_2_slice_with_gap_001.csv\n",
      "Saved ./data/slicing_data/plane_2/data_slicing_2\\slice_2_slice_with_gap_002.pcd\n",
      "Saved slice data to ./data/slicing_data/plane_2/data_slicing_2/info/slice_2_slice_with_gap_002.csv\n",
      "Saved ./data/slicing_data/plane_2/data_slicing_2\\slice_2_slice_with_gap_003.pcd\n",
      "Saved slice data to ./data/slicing_data/plane_2/data_slicing_2/info/slice_2_slice_with_gap_003.csv\n",
      "Saved ./data/slicing_data/plane_2/data_slicing_2\\slice_2_slice_with_gap_004.pcd\n",
      "Saved slice data to ./data/slicing_data/plane_2/data_slicing_2/info/slice_2_slice_with_gap_004.csv\n",
      "Saved ./data/slicing_data/plane_2/data_slicing_2\\slice_2_slice_with_gap_005.pcd\n",
      "Saved slice data to ./data/slicing_data/plane_2/data_slicing_2/info/slice_2_slice_with_gap_005.csv\n",
      "Saved ./data/slicing_data/plane_2/data_slicing_2\\slice_2_slice_with_gap_006.pcd\n",
      "Saved slice data to ./data/slicing_data/plane_2/data_slicing_2/info/slice_2_slice_with_gap_006.csv\n",
      "Saved ./data/slicing_data/plane_2/data_slicing_2\\slice_2_slice_with_gap_007.pcd\n",
      "Saved slice data to ./data/slicing_data/plane_2/data_slicing_2/info/slice_2_slice_with_gap_007.csv\n",
      "Saved ./data/slicing_data/plane_2/data_slicing_2\\slice_20_slice_with_gap_000.pcd\n",
      "Saved slice data to ./data/slicing_data/plane_2/data_slicing_2/info/slice_20_slice_with_gap_000.csv\n",
      "Saved ./data/slicing_data/plane_2/data_slicing_2\\slice_20_slice_with_gap_001.pcd\n",
      "Saved slice data to ./data/slicing_data/plane_2/data_slicing_2/info/slice_20_slice_with_gap_001.csv\n",
      "Saved ./data/slicing_data/plane_2/data_slicing_2\\slice_20_slice_with_gap_002.pcd\n",
      "Saved slice data to ./data/slicing_data/plane_2/data_slicing_2/info/slice_20_slice_with_gap_002.csv\n",
      "Saved ./data/slicing_data/plane_2/data_slicing_2\\slice_20_slice_with_gap_003.pcd\n",
      "Saved slice data to ./data/slicing_data/plane_2/data_slicing_2/info/slice_20_slice_with_gap_003.csv\n",
      "Saved ./data/slicing_data/plane_2/data_slicing_2\\slice_20_slice_with_gap_004.pcd\n",
      "Saved slice data to ./data/slicing_data/plane_2/data_slicing_2/info/slice_20_slice_with_gap_004.csv\n",
      "Saved ./data/slicing_data/plane_2/data_slicing_2\\slice_20_slice_with_gap_005.pcd\n",
      "Saved slice data to ./data/slicing_data/plane_2/data_slicing_2/info/slice_20_slice_with_gap_005.csv\n",
      "Saved ./data/slicing_data/plane_2/data_slicing_2\\slice_20_slice_with_gap_006.pcd\n",
      "Saved slice data to ./data/slicing_data/plane_2/data_slicing_2/info/slice_20_slice_with_gap_006.csv\n",
      "Saved ./data/slicing_data/plane_2/data_slicing_2\\slice_21_slice_with_gap_000.pcd\n",
      "Saved slice data to ./data/slicing_data/plane_2/data_slicing_2/info/slice_21_slice_with_gap_000.csv\n",
      "Saved ./data/slicing_data/plane_2/data_slicing_2\\slice_21_slice_with_gap_001.pcd\n",
      "Saved slice data to ./data/slicing_data/plane_2/data_slicing_2/info/slice_21_slice_with_gap_001.csv\n",
      "Saved ./data/slicing_data/plane_2/data_slicing_2\\slice_21_slice_with_gap_002.pcd\n",
      "Saved slice data to ./data/slicing_data/plane_2/data_slicing_2/info/slice_21_slice_with_gap_002.csv\n",
      "Saved ./data/slicing_data/plane_2/data_slicing_2\\slice_21_slice_with_gap_003.pcd\n",
      "Saved slice data to ./data/slicing_data/plane_2/data_slicing_2/info/slice_21_slice_with_gap_003.csv\n",
      "Saved ./data/slicing_data/plane_2/data_slicing_2\\slice_21_slice_with_gap_004.pcd\n",
      "Saved slice data to ./data/slicing_data/plane_2/data_slicing_2/info/slice_21_slice_with_gap_004.csv\n",
      "Saved ./data/slicing_data/plane_2/data_slicing_2\\slice_21_slice_with_gap_005.pcd\n",
      "Saved slice data to ./data/slicing_data/plane_2/data_slicing_2/info/slice_21_slice_with_gap_005.csv\n",
      "Saved ./data/slicing_data/plane_2/data_slicing_2\\slice_21_slice_with_gap_006.pcd\n",
      "Saved slice data to ./data/slicing_data/plane_2/data_slicing_2/info/slice_21_slice_with_gap_006.csv\n",
      "Saved ./data/slicing_data/plane_2/data_slicing_2\\slice_21_slice_with_gap_007.pcd\n",
      "Saved slice data to ./data/slicing_data/plane_2/data_slicing_2/info/slice_21_slice_with_gap_007.csv\n",
      "Saved ./data/slicing_data/plane_2/data_slicing_2\\slice_22_slice_with_gap_000.pcd\n",
      "Saved slice data to ./data/slicing_data/plane_2/data_slicing_2/info/slice_22_slice_with_gap_000.csv\n",
      "Saved ./data/slicing_data/plane_2/data_slicing_2\\slice_22_slice_with_gap_001.pcd\n",
      "Saved slice data to ./data/slicing_data/plane_2/data_slicing_2/info/slice_22_slice_with_gap_001.csv\n",
      "Saved ./data/slicing_data/plane_2/data_slicing_2\\slice_22_slice_with_gap_002.pcd\n",
      "Saved slice data to ./data/slicing_data/plane_2/data_slicing_2/info/slice_22_slice_with_gap_002.csv\n",
      "Saved ./data/slicing_data/plane_2/data_slicing_2\\slice_22_slice_with_gap_003.pcd\n",
      "Saved slice data to ./data/slicing_data/plane_2/data_slicing_2/info/slice_22_slice_with_gap_003.csv\n",
      "Saved ./data/slicing_data/plane_2/data_slicing_2\\slice_22_slice_with_gap_004.pcd\n",
      "Saved slice data to ./data/slicing_data/plane_2/data_slicing_2/info/slice_22_slice_with_gap_004.csv\n",
      "Saved ./data/slicing_data/plane_2/data_slicing_2\\slice_22_slice_with_gap_005.pcd\n",
      "Saved slice data to ./data/slicing_data/plane_2/data_slicing_2/info/slice_22_slice_with_gap_005.csv\n",
      "Saved ./data/slicing_data/plane_2/data_slicing_2\\slice_22_slice_with_gap_006.pcd\n",
      "Saved slice data to ./data/slicing_data/plane_2/data_slicing_2/info/slice_22_slice_with_gap_006.csv\n",
      "Saved ./data/slicing_data/plane_2/data_slicing_2\\slice_22_slice_with_gap_007.pcd\n",
      "Saved slice data to ./data/slicing_data/plane_2/data_slicing_2/info/slice_22_slice_with_gap_007.csv\n",
      "Saved ./data/slicing_data/plane_2/data_slicing_2\\slice_23_slice_with_gap_000.pcd\n",
      "Saved slice data to ./data/slicing_data/plane_2/data_slicing_2/info/slice_23_slice_with_gap_000.csv\n",
      "Saved ./data/slicing_data/plane_2/data_slicing_2\\slice_23_slice_with_gap_001.pcd\n",
      "Saved slice data to ./data/slicing_data/plane_2/data_slicing_2/info/slice_23_slice_with_gap_001.csv\n",
      "Saved ./data/slicing_data/plane_2/data_slicing_2\\slice_23_slice_with_gap_002.pcd\n",
      "Saved slice data to ./data/slicing_data/plane_2/data_slicing_2/info/slice_23_slice_with_gap_002.csv\n",
      "Saved ./data/slicing_data/plane_2/data_slicing_2\\slice_23_slice_with_gap_003.pcd\n",
      "Saved slice data to ./data/slicing_data/plane_2/data_slicing_2/info/slice_23_slice_with_gap_003.csv\n",
      "Saved ./data/slicing_data/plane_2/data_slicing_2\\slice_23_slice_with_gap_004.pcd\n",
      "Saved slice data to ./data/slicing_data/plane_2/data_slicing_2/info/slice_23_slice_with_gap_004.csv\n",
      "Saved ./data/slicing_data/plane_2/data_slicing_2\\slice_23_slice_with_gap_005.pcd\n",
      "Saved slice data to ./data/slicing_data/plane_2/data_slicing_2/info/slice_23_slice_with_gap_005.csv\n",
      "Saved ./data/slicing_data/plane_2/data_slicing_2\\slice_23_slice_with_gap_006.pcd\n",
      "Saved slice data to ./data/slicing_data/plane_2/data_slicing_2/info/slice_23_slice_with_gap_006.csv\n",
      "Saved ./data/slicing_data/plane_2/data_slicing_2\\slice_24_slice_with_gap_000.pcd\n",
      "Saved slice data to ./data/slicing_data/plane_2/data_slicing_2/info/slice_24_slice_with_gap_000.csv\n",
      "Saved ./data/slicing_data/plane_2/data_slicing_2\\slice_24_slice_with_gap_001.pcd\n",
      "Saved slice data to ./data/slicing_data/plane_2/data_slicing_2/info/slice_24_slice_with_gap_001.csv\n",
      "Saved ./data/slicing_data/plane_2/data_slicing_2\\slice_24_slice_with_gap_002.pcd\n",
      "Saved slice data to ./data/slicing_data/plane_2/data_slicing_2/info/slice_24_slice_with_gap_002.csv\n",
      "Saved ./data/slicing_data/plane_2/data_slicing_2\\slice_24_slice_with_gap_003.pcd\n",
      "Saved slice data to ./data/slicing_data/plane_2/data_slicing_2/info/slice_24_slice_with_gap_003.csv\n",
      "Saved ./data/slicing_data/plane_2/data_slicing_2\\slice_24_slice_with_gap_004.pcd\n",
      "Saved slice data to ./data/slicing_data/plane_2/data_slicing_2/info/slice_24_slice_with_gap_004.csv\n",
      "Saved ./data/slicing_data/plane_2/data_slicing_2\\slice_24_slice_with_gap_005.pcd\n",
      "Saved slice data to ./data/slicing_data/plane_2/data_slicing_2/info/slice_24_slice_with_gap_005.csv\n",
      "Saved ./data/slicing_data/plane_2/data_slicing_2\\slice_24_slice_with_gap_006.pcd\n",
      "Saved slice data to ./data/slicing_data/plane_2/data_slicing_2/info/slice_24_slice_with_gap_006.csv\n",
      "Saved ./data/slicing_data/plane_2/data_slicing_2\\slice_24_slice_with_gap_007.pcd\n",
      "Saved slice data to ./data/slicing_data/plane_2/data_slicing_2/info/slice_24_slice_with_gap_007.csv\n",
      "Saved ./data/slicing_data/plane_2/data_slicing_2\\slice_24_slice_with_gap_008.pcd\n",
      "Saved slice data to ./data/slicing_data/plane_2/data_slicing_2/info/slice_24_slice_with_gap_008.csv\n",
      "Saved ./data/slicing_data/plane_2/data_slicing_2\\slice_25_slice_with_gap_000.pcd\n",
      "Saved slice data to ./data/slicing_data/plane_2/data_slicing_2/info/slice_25_slice_with_gap_000.csv\n",
      "Saved ./data/slicing_data/plane_2/data_slicing_2\\slice_25_slice_with_gap_001.pcd\n",
      "Saved slice data to ./data/slicing_data/plane_2/data_slicing_2/info/slice_25_slice_with_gap_001.csv\n",
      "Saved ./data/slicing_data/plane_2/data_slicing_2\\slice_25_slice_with_gap_002.pcd\n",
      "Saved slice data to ./data/slicing_data/plane_2/data_slicing_2/info/slice_25_slice_with_gap_002.csv\n",
      "Saved ./data/slicing_data/plane_2/data_slicing_2\\slice_25_slice_with_gap_003.pcd\n",
      "Saved slice data to ./data/slicing_data/plane_2/data_slicing_2/info/slice_25_slice_with_gap_003.csv\n",
      "Saved ./data/slicing_data/plane_2/data_slicing_2\\slice_25_slice_with_gap_004.pcd\n",
      "Saved slice data to ./data/slicing_data/plane_2/data_slicing_2/info/slice_25_slice_with_gap_004.csv\n",
      "Saved ./data/slicing_data/plane_2/data_slicing_2\\slice_25_slice_with_gap_005.pcd\n",
      "Saved slice data to ./data/slicing_data/plane_2/data_slicing_2/info/slice_25_slice_with_gap_005.csv\n",
      "Saved ./data/slicing_data/plane_2/data_slicing_2\\slice_25_slice_with_gap_006.pcd\n",
      "Saved slice data to ./data/slicing_data/plane_2/data_slicing_2/info/slice_25_slice_with_gap_006.csv\n",
      "Saved ./data/slicing_data/plane_2/data_slicing_2\\slice_25_slice_with_gap_007.pcd\n",
      "Saved slice data to ./data/slicing_data/plane_2/data_slicing_2/info/slice_25_slice_with_gap_007.csv\n",
      "Saved ./data/slicing_data/plane_2/data_slicing_2\\slice_25_slice_with_gap_008.pcd\n",
      "Saved slice data to ./data/slicing_data/plane_2/data_slicing_2/info/slice_25_slice_with_gap_008.csv\n",
      "Saved ./data/slicing_data/plane_2/data_slicing_2\\slice_26_slice_with_gap_000.pcd\n",
      "Saved slice data to ./data/slicing_data/plane_2/data_slicing_2/info/slice_26_slice_with_gap_000.csv\n",
      "Saved ./data/slicing_data/plane_2/data_slicing_2\\slice_26_slice_with_gap_001.pcd\n",
      "Saved slice data to ./data/slicing_data/plane_2/data_slicing_2/info/slice_26_slice_with_gap_001.csv\n",
      "Saved ./data/slicing_data/plane_2/data_slicing_2\\slice_26_slice_with_gap_002.pcd\n",
      "Saved slice data to ./data/slicing_data/plane_2/data_slicing_2/info/slice_26_slice_with_gap_002.csv\n",
      "Saved ./data/slicing_data/plane_2/data_slicing_2\\slice_26_slice_with_gap_003.pcd\n",
      "Saved slice data to ./data/slicing_data/plane_2/data_slicing_2/info/slice_26_slice_with_gap_003.csv\n",
      "Saved ./data/slicing_data/plane_2/data_slicing_2\\slice_26_slice_with_gap_004.pcd\n",
      "Saved slice data to ./data/slicing_data/plane_2/data_slicing_2/info/slice_26_slice_with_gap_004.csv\n",
      "Saved ./data/slicing_data/plane_2/data_slicing_2\\slice_26_slice_with_gap_005.pcd\n",
      "Saved slice data to ./data/slicing_data/plane_2/data_slicing_2/info/slice_26_slice_with_gap_005.csv\n",
      "Saved ./data/slicing_data/plane_2/data_slicing_2\\slice_26_slice_with_gap_006.pcd\n",
      "Saved slice data to ./data/slicing_data/plane_2/data_slicing_2/info/slice_26_slice_with_gap_006.csv\n",
      "Saved ./data/slicing_data/plane_2/data_slicing_2\\slice_26_slice_with_gap_007.pcd\n",
      "Saved slice data to ./data/slicing_data/plane_2/data_slicing_2/info/slice_26_slice_with_gap_007.csv\n",
      "Saved ./data/slicing_data/plane_2/data_slicing_2\\slice_26_slice_with_gap_008.pcd\n",
      "Saved slice data to ./data/slicing_data/plane_2/data_slicing_2/info/slice_26_slice_with_gap_008.csv\n",
      "Saved ./data/slicing_data/plane_2/data_slicing_2\\slice_27_slice_with_gap_000.pcd\n",
      "Saved slice data to ./data/slicing_data/plane_2/data_slicing_2/info/slice_27_slice_with_gap_000.csv\n",
      "Saved ./data/slicing_data/plane_2/data_slicing_2\\slice_27_slice_with_gap_001.pcd\n",
      "Saved slice data to ./data/slicing_data/plane_2/data_slicing_2/info/slice_27_slice_with_gap_001.csv\n",
      "Saved ./data/slicing_data/plane_2/data_slicing_2\\slice_27_slice_with_gap_002.pcd\n",
      "Saved slice data to ./data/slicing_data/plane_2/data_slicing_2/info/slice_27_slice_with_gap_002.csv\n",
      "Saved ./data/slicing_data/plane_2/data_slicing_2\\slice_27_slice_with_gap_003.pcd\n",
      "Saved slice data to ./data/slicing_data/plane_2/data_slicing_2/info/slice_27_slice_with_gap_003.csv\n",
      "Saved ./data/slicing_data/plane_2/data_slicing_2\\slice_27_slice_with_gap_004.pcd\n",
      "Saved slice data to ./data/slicing_data/plane_2/data_slicing_2/info/slice_27_slice_with_gap_004.csv\n",
      "Saved ./data/slicing_data/plane_2/data_slicing_2\\slice_27_slice_with_gap_005.pcd\n",
      "Saved slice data to ./data/slicing_data/plane_2/data_slicing_2/info/slice_27_slice_with_gap_005.csv\n",
      "Saved ./data/slicing_data/plane_2/data_slicing_2\\slice_27_slice_with_gap_006.pcd\n",
      "Saved slice data to ./data/slicing_data/plane_2/data_slicing_2/info/slice_27_slice_with_gap_006.csv\n",
      "Saved ./data/slicing_data/plane_2/data_slicing_2\\slice_27_slice_with_gap_007.pcd\n",
      "Saved slice data to ./data/slicing_data/plane_2/data_slicing_2/info/slice_27_slice_with_gap_007.csv\n",
      "Saved ./data/slicing_data/plane_2/data_slicing_2\\slice_27_slice_with_gap_008.pcd\n",
      "Saved slice data to ./data/slicing_data/plane_2/data_slicing_2/info/slice_27_slice_with_gap_008.csv\n",
      "Saved ./data/slicing_data/plane_2/data_slicing_2\\slice_28_slice_with_gap_000.pcd\n",
      "Saved slice data to ./data/slicing_data/plane_2/data_slicing_2/info/slice_28_slice_with_gap_000.csv\n",
      "Saved ./data/slicing_data/plane_2/data_slicing_2\\slice_28_slice_with_gap_001.pcd\n",
      "Saved slice data to ./data/slicing_data/plane_2/data_slicing_2/info/slice_28_slice_with_gap_001.csv\n",
      "Saved ./data/slicing_data/plane_2/data_slicing_2\\slice_28_slice_with_gap_002.pcd\n",
      "Saved slice data to ./data/slicing_data/plane_2/data_slicing_2/info/slice_28_slice_with_gap_002.csv\n",
      "Saved ./data/slicing_data/plane_2/data_slicing_2\\slice_28_slice_with_gap_003.pcd\n",
      "Saved slice data to ./data/slicing_data/plane_2/data_slicing_2/info/slice_28_slice_with_gap_003.csv\n",
      "Saved ./data/slicing_data/plane_2/data_slicing_2\\slice_28_slice_with_gap_004.pcd\n",
      "Saved slice data to ./data/slicing_data/plane_2/data_slicing_2/info/slice_28_slice_with_gap_004.csv\n",
      "Saved ./data/slicing_data/plane_2/data_slicing_2\\slice_28_slice_with_gap_005.pcd\n",
      "Saved slice data to ./data/slicing_data/plane_2/data_slicing_2/info/slice_28_slice_with_gap_005.csv\n",
      "Saved ./data/slicing_data/plane_2/data_slicing_2\\slice_28_slice_with_gap_006.pcd\n",
      "Saved slice data to ./data/slicing_data/plane_2/data_slicing_2/info/slice_28_slice_with_gap_006.csv\n",
      "Saved ./data/slicing_data/plane_2/data_slicing_2\\slice_28_slice_with_gap_007.pcd\n",
      "Saved slice data to ./data/slicing_data/plane_2/data_slicing_2/info/slice_28_slice_with_gap_007.csv\n",
      "Saved ./data/slicing_data/plane_2/data_slicing_2\\slice_28_slice_with_gap_008.pcd\n",
      "Saved slice data to ./data/slicing_data/plane_2/data_slicing_2/info/slice_28_slice_with_gap_008.csv\n",
      "Saved ./data/slicing_data/plane_2/data_slicing_2\\slice_29_slice_with_gap_000.pcd\n",
      "Saved slice data to ./data/slicing_data/plane_2/data_slicing_2/info/slice_29_slice_with_gap_000.csv\n",
      "Saved ./data/slicing_data/plane_2/data_slicing_2\\slice_29_slice_with_gap_001.pcd\n",
      "Saved slice data to ./data/slicing_data/plane_2/data_slicing_2/info/slice_29_slice_with_gap_001.csv\n",
      "Saved ./data/slicing_data/plane_2/data_slicing_2\\slice_29_slice_with_gap_002.pcd\n",
      "Saved slice data to ./data/slicing_data/plane_2/data_slicing_2/info/slice_29_slice_with_gap_002.csv\n",
      "Saved ./data/slicing_data/plane_2/data_slicing_2\\slice_29_slice_with_gap_003.pcd\n",
      "Saved slice data to ./data/slicing_data/plane_2/data_slicing_2/info/slice_29_slice_with_gap_003.csv\n",
      "Saved ./data/slicing_data/plane_2/data_slicing_2\\slice_29_slice_with_gap_004.pcd\n",
      "Saved slice data to ./data/slicing_data/plane_2/data_slicing_2/info/slice_29_slice_with_gap_004.csv\n",
      "Saved ./data/slicing_data/plane_2/data_slicing_2\\slice_29_slice_with_gap_005.pcd\n",
      "Saved slice data to ./data/slicing_data/plane_2/data_slicing_2/info/slice_29_slice_with_gap_005.csv\n",
      "Saved ./data/slicing_data/plane_2/data_slicing_2\\slice_29_slice_with_gap_006.pcd\n",
      "Saved slice data to ./data/slicing_data/plane_2/data_slicing_2/info/slice_29_slice_with_gap_006.csv\n",
      "Saved ./data/slicing_data/plane_2/data_slicing_2\\slice_29_slice_with_gap_007.pcd\n",
      "Saved slice data to ./data/slicing_data/plane_2/data_slicing_2/info/slice_29_slice_with_gap_007.csv\n",
      "Saved ./data/slicing_data/plane_2/data_slicing_2\\slice_29_slice_with_gap_008.pcd\n",
      "Saved slice data to ./data/slicing_data/plane_2/data_slicing_2/info/slice_29_slice_with_gap_008.csv\n",
      "Saved ./data/slicing_data/plane_2/data_slicing_2\\slice_3_slice_with_gap_000.pcd\n",
      "Saved slice data to ./data/slicing_data/plane_2/data_slicing_2/info/slice_3_slice_with_gap_000.csv\n",
      "Saved ./data/slicing_data/plane_2/data_slicing_2\\slice_3_slice_with_gap_001.pcd\n",
      "Saved slice data to ./data/slicing_data/plane_2/data_slicing_2/info/slice_3_slice_with_gap_001.csv\n",
      "Saved ./data/slicing_data/plane_2/data_slicing_2\\slice_3_slice_with_gap_002.pcd\n",
      "Saved slice data to ./data/slicing_data/plane_2/data_slicing_2/info/slice_3_slice_with_gap_002.csv\n",
      "Saved ./data/slicing_data/plane_2/data_slicing_2\\slice_3_slice_with_gap_003.pcd\n",
      "Saved slice data to ./data/slicing_data/plane_2/data_slicing_2/info/slice_3_slice_with_gap_003.csv\n",
      "Saved ./data/slicing_data/plane_2/data_slicing_2\\slice_3_slice_with_gap_004.pcd\n",
      "Saved slice data to ./data/slicing_data/plane_2/data_slicing_2/info/slice_3_slice_with_gap_004.csv\n",
      "Saved ./data/slicing_data/plane_2/data_slicing_2\\slice_3_slice_with_gap_005.pcd\n",
      "Saved slice data to ./data/slicing_data/plane_2/data_slicing_2/info/slice_3_slice_with_gap_005.csv\n",
      "Saved ./data/slicing_data/plane_2/data_slicing_2\\slice_3_slice_with_gap_006.pcd\n",
      "Saved slice data to ./data/slicing_data/plane_2/data_slicing_2/info/slice_3_slice_with_gap_006.csv\n",
      "Saved ./data/slicing_data/plane_2/data_slicing_2\\slice_3_slice_with_gap_007.pcd\n",
      "Saved slice data to ./data/slicing_data/plane_2/data_slicing_2/info/slice_3_slice_with_gap_007.csv\n",
      "Saved ./data/slicing_data/plane_2/data_slicing_2\\slice_3_slice_with_gap_008.pcd\n",
      "Saved slice data to ./data/slicing_data/plane_2/data_slicing_2/info/slice_3_slice_with_gap_008.csv\n",
      "Saved ./data/slicing_data/plane_2/data_slicing_2\\slice_30_slice_with_gap_000.pcd\n",
      "Saved slice data to ./data/slicing_data/plane_2/data_slicing_2/info/slice_30_slice_with_gap_000.csv\n",
      "Saved ./data/slicing_data/plane_2/data_slicing_2\\slice_30_slice_with_gap_001.pcd\n",
      "Saved slice data to ./data/slicing_data/plane_2/data_slicing_2/info/slice_30_slice_with_gap_001.csv\n",
      "Saved ./data/slicing_data/plane_2/data_slicing_2\\slice_30_slice_with_gap_002.pcd\n",
      "Saved slice data to ./data/slicing_data/plane_2/data_slicing_2/info/slice_30_slice_with_gap_002.csv\n",
      "Saved ./data/slicing_data/plane_2/data_slicing_2\\slice_30_slice_with_gap_003.pcd\n",
      "Saved slice data to ./data/slicing_data/plane_2/data_slicing_2/info/slice_30_slice_with_gap_003.csv\n",
      "Saved ./data/slicing_data/plane_2/data_slicing_2\\slice_30_slice_with_gap_004.pcd\n",
      "Saved slice data to ./data/slicing_data/plane_2/data_slicing_2/info/slice_30_slice_with_gap_004.csv\n",
      "Saved ./data/slicing_data/plane_2/data_slicing_2\\slice_30_slice_with_gap_005.pcd\n",
      "Saved slice data to ./data/slicing_data/plane_2/data_slicing_2/info/slice_30_slice_with_gap_005.csv\n",
      "Saved ./data/slicing_data/plane_2/data_slicing_2\\slice_30_slice_with_gap_006.pcd\n",
      "Saved slice data to ./data/slicing_data/plane_2/data_slicing_2/info/slice_30_slice_with_gap_006.csv\n",
      "Saved ./data/slicing_data/plane_2/data_slicing_2\\slice_30_slice_with_gap_007.pcd\n",
      "Saved slice data to ./data/slicing_data/plane_2/data_slicing_2/info/slice_30_slice_with_gap_007.csv\n",
      "Saved ./data/slicing_data/plane_2/data_slicing_2\\slice_30_slice_with_gap_008.pcd\n",
      "Saved slice data to ./data/slicing_data/plane_2/data_slicing_2/info/slice_30_slice_with_gap_008.csv\n",
      "Saved ./data/slicing_data/plane_2/data_slicing_2\\slice_31_slice_with_gap_000.pcd\n",
      "Saved slice data to ./data/slicing_data/plane_2/data_slicing_2/info/slice_31_slice_with_gap_000.csv\n",
      "Saved ./data/slicing_data/plane_2/data_slicing_2\\slice_31_slice_with_gap_001.pcd\n",
      "Saved slice data to ./data/slicing_data/plane_2/data_slicing_2/info/slice_31_slice_with_gap_001.csv\n",
      "Saved ./data/slicing_data/plane_2/data_slicing_2\\slice_31_slice_with_gap_002.pcd\n",
      "Saved slice data to ./data/slicing_data/plane_2/data_slicing_2/info/slice_31_slice_with_gap_002.csv\n",
      "Saved ./data/slicing_data/plane_2/data_slicing_2\\slice_31_slice_with_gap_003.pcd\n",
      "Saved slice data to ./data/slicing_data/plane_2/data_slicing_2/info/slice_31_slice_with_gap_003.csv\n",
      "Saved ./data/slicing_data/plane_2/data_slicing_2\\slice_31_slice_with_gap_004.pcd\n",
      "Saved slice data to ./data/slicing_data/plane_2/data_slicing_2/info/slice_31_slice_with_gap_004.csv\n",
      "Saved ./data/slicing_data/plane_2/data_slicing_2\\slice_31_slice_with_gap_005.pcd\n",
      "Saved slice data to ./data/slicing_data/plane_2/data_slicing_2/info/slice_31_slice_with_gap_005.csv\n",
      "Saved ./data/slicing_data/plane_2/data_slicing_2\\slice_31_slice_with_gap_006.pcd\n",
      "Saved slice data to ./data/slicing_data/plane_2/data_slicing_2/info/slice_31_slice_with_gap_006.csv\n",
      "Saved ./data/slicing_data/plane_2/data_slicing_2\\slice_31_slice_with_gap_007.pcd\n",
      "Saved slice data to ./data/slicing_data/plane_2/data_slicing_2/info/slice_31_slice_with_gap_007.csv\n",
      "Saved ./data/slicing_data/plane_2/data_slicing_2\\slice_31_slice_with_gap_008.pcd\n",
      "Saved slice data to ./data/slicing_data/plane_2/data_slicing_2/info/slice_31_slice_with_gap_008.csv\n",
      "Saved ./data/slicing_data/plane_2/data_slicing_2\\slice_32_slice_with_gap_000.pcd\n",
      "Saved slice data to ./data/slicing_data/plane_2/data_slicing_2/info/slice_32_slice_with_gap_000.csv\n",
      "Saved ./data/slicing_data/plane_2/data_slicing_2\\slice_32_slice_with_gap_001.pcd\n",
      "Saved slice data to ./data/slicing_data/plane_2/data_slicing_2/info/slice_32_slice_with_gap_001.csv\n",
      "Saved ./data/slicing_data/plane_2/data_slicing_2\\slice_32_slice_with_gap_002.pcd\n",
      "Saved slice data to ./data/slicing_data/plane_2/data_slicing_2/info/slice_32_slice_with_gap_002.csv\n",
      "Saved ./data/slicing_data/plane_2/data_slicing_2\\slice_32_slice_with_gap_003.pcd\n",
      "Saved slice data to ./data/slicing_data/plane_2/data_slicing_2/info/slice_32_slice_with_gap_003.csv\n",
      "Saved ./data/slicing_data/plane_2/data_slicing_2\\slice_32_slice_with_gap_004.pcd\n",
      "Saved slice data to ./data/slicing_data/plane_2/data_slicing_2/info/slice_32_slice_with_gap_004.csv\n",
      "Saved ./data/slicing_data/plane_2/data_slicing_2\\slice_32_slice_with_gap_005.pcd\n",
      "Saved slice data to ./data/slicing_data/plane_2/data_slicing_2/info/slice_32_slice_with_gap_005.csv\n",
      "Saved ./data/slicing_data/plane_2/data_slicing_2\\slice_32_slice_with_gap_006.pcd\n",
      "Saved slice data to ./data/slicing_data/plane_2/data_slicing_2/info/slice_32_slice_with_gap_006.csv\n",
      "Saved ./data/slicing_data/plane_2/data_slicing_2\\slice_32_slice_with_gap_007.pcd\n",
      "Saved slice data to ./data/slicing_data/plane_2/data_slicing_2/info/slice_32_slice_with_gap_007.csv\n",
      "Saved ./data/slicing_data/plane_2/data_slicing_2\\slice_33_slice_with_gap_000.pcd\n",
      "Saved slice data to ./data/slicing_data/plane_2/data_slicing_2/info/slice_33_slice_with_gap_000.csv\n",
      "Saved ./data/slicing_data/plane_2/data_slicing_2\\slice_33_slice_with_gap_001.pcd\n",
      "Saved slice data to ./data/slicing_data/plane_2/data_slicing_2/info/slice_33_slice_with_gap_001.csv\n",
      "Saved ./data/slicing_data/plane_2/data_slicing_2\\slice_33_slice_with_gap_002.pcd\n",
      "Saved slice data to ./data/slicing_data/plane_2/data_slicing_2/info/slice_33_slice_with_gap_002.csv\n",
      "Saved ./data/slicing_data/plane_2/data_slicing_2\\slice_33_slice_with_gap_003.pcd\n",
      "Saved slice data to ./data/slicing_data/plane_2/data_slicing_2/info/slice_33_slice_with_gap_003.csv\n",
      "Saved ./data/slicing_data/plane_2/data_slicing_2\\slice_33_slice_with_gap_004.pcd\n",
      "Saved slice data to ./data/slicing_data/plane_2/data_slicing_2/info/slice_33_slice_with_gap_004.csv\n",
      "Saved ./data/slicing_data/plane_2/data_slicing_2\\slice_33_slice_with_gap_005.pcd\n",
      "Saved slice data to ./data/slicing_data/plane_2/data_slicing_2/info/slice_33_slice_with_gap_005.csv\n",
      "Saved ./data/slicing_data/plane_2/data_slicing_2\\slice_33_slice_with_gap_006.pcd\n",
      "Saved slice data to ./data/slicing_data/plane_2/data_slicing_2/info/slice_33_slice_with_gap_006.csv\n",
      "Saved ./data/slicing_data/plane_2/data_slicing_2\\slice_33_slice_with_gap_007.pcd\n",
      "Saved slice data to ./data/slicing_data/plane_2/data_slicing_2/info/slice_33_slice_with_gap_007.csv\n",
      "Saved ./data/slicing_data/plane_2/data_slicing_2\\slice_34_slice_with_gap_000.pcd\n",
      "Saved slice data to ./data/slicing_data/plane_2/data_slicing_2/info/slice_34_slice_with_gap_000.csv\n",
      "Saved ./data/slicing_data/plane_2/data_slicing_2\\slice_34_slice_with_gap_001.pcd\n",
      "Saved slice data to ./data/slicing_data/plane_2/data_slicing_2/info/slice_34_slice_with_gap_001.csv\n",
      "Saved ./data/slicing_data/plane_2/data_slicing_2\\slice_34_slice_with_gap_002.pcd\n",
      "Saved slice data to ./data/slicing_data/plane_2/data_slicing_2/info/slice_34_slice_with_gap_002.csv\n",
      "Saved ./data/slicing_data/plane_2/data_slicing_2\\slice_34_slice_with_gap_003.pcd\n",
      "Saved slice data to ./data/slicing_data/plane_2/data_slicing_2/info/slice_34_slice_with_gap_003.csv\n",
      "Saved ./data/slicing_data/plane_2/data_slicing_2\\slice_34_slice_with_gap_004.pcd\n",
      "Saved slice data to ./data/slicing_data/plane_2/data_slicing_2/info/slice_34_slice_with_gap_004.csv\n",
      "Saved ./data/slicing_data/plane_2/data_slicing_2\\slice_34_slice_with_gap_005.pcd\n",
      "Saved slice data to ./data/slicing_data/plane_2/data_slicing_2/info/slice_34_slice_with_gap_005.csv\n",
      "Saved ./data/slicing_data/plane_2/data_slicing_2\\slice_34_slice_with_gap_006.pcd\n",
      "Saved slice data to ./data/slicing_data/plane_2/data_slicing_2/info/slice_34_slice_with_gap_006.csv\n",
      "Saved ./data/slicing_data/plane_2/data_slicing_2\\slice_4_slice_with_gap_000.pcd\n",
      "Saved slice data to ./data/slicing_data/plane_2/data_slicing_2/info/slice_4_slice_with_gap_000.csv\n",
      "Saved ./data/slicing_data/plane_2/data_slicing_2\\slice_4_slice_with_gap_001.pcd\n",
      "Saved slice data to ./data/slicing_data/plane_2/data_slicing_2/info/slice_4_slice_with_gap_001.csv\n",
      "Saved ./data/slicing_data/plane_2/data_slicing_2\\slice_4_slice_with_gap_002.pcd\n",
      "Saved slice data to ./data/slicing_data/plane_2/data_slicing_2/info/slice_4_slice_with_gap_002.csv\n",
      "Saved ./data/slicing_data/plane_2/data_slicing_2\\slice_4_slice_with_gap_003.pcd\n",
      "Saved slice data to ./data/slicing_data/plane_2/data_slicing_2/info/slice_4_slice_with_gap_003.csv\n",
      "Saved ./data/slicing_data/plane_2/data_slicing_2\\slice_4_slice_with_gap_004.pcd\n",
      "Saved slice data to ./data/slicing_data/plane_2/data_slicing_2/info/slice_4_slice_with_gap_004.csv\n",
      "Saved ./data/slicing_data/plane_2/data_slicing_2\\slice_4_slice_with_gap_005.pcd\n",
      "Saved slice data to ./data/slicing_data/plane_2/data_slicing_2/info/slice_4_slice_with_gap_005.csv\n",
      "Saved ./data/slicing_data/plane_2/data_slicing_2\\slice_4_slice_with_gap_006.pcd\n",
      "Saved slice data to ./data/slicing_data/plane_2/data_slicing_2/info/slice_4_slice_with_gap_006.csv\n",
      "Saved ./data/slicing_data/plane_2/data_slicing_2\\slice_4_slice_with_gap_007.pcd\n",
      "Saved slice data to ./data/slicing_data/plane_2/data_slicing_2/info/slice_4_slice_with_gap_007.csv\n",
      "Saved ./data/slicing_data/plane_2/data_slicing_2\\slice_5_slice_with_gap_000.pcd\n",
      "Saved slice data to ./data/slicing_data/plane_2/data_slicing_2/info/slice_5_slice_with_gap_000.csv\n",
      "Saved ./data/slicing_data/plane_2/data_slicing_2\\slice_5_slice_with_gap_001.pcd\n",
      "Saved slice data to ./data/slicing_data/plane_2/data_slicing_2/info/slice_5_slice_with_gap_001.csv\n",
      "Saved ./data/slicing_data/plane_2/data_slicing_2\\slice_5_slice_with_gap_002.pcd\n",
      "Saved slice data to ./data/slicing_data/plane_2/data_slicing_2/info/slice_5_slice_with_gap_002.csv\n",
      "Saved ./data/slicing_data/plane_2/data_slicing_2\\slice_5_slice_with_gap_003.pcd\n",
      "Saved slice data to ./data/slicing_data/plane_2/data_slicing_2/info/slice_5_slice_with_gap_003.csv\n",
      "Saved ./data/slicing_data/plane_2/data_slicing_2\\slice_5_slice_with_gap_004.pcd\n",
      "Saved slice data to ./data/slicing_data/plane_2/data_slicing_2/info/slice_5_slice_with_gap_004.csv\n",
      "Saved ./data/slicing_data/plane_2/data_slicing_2\\slice_5_slice_with_gap_005.pcd\n",
      "Saved slice data to ./data/slicing_data/plane_2/data_slicing_2/info/slice_5_slice_with_gap_005.csv\n",
      "Saved ./data/slicing_data/plane_2/data_slicing_2\\slice_5_slice_with_gap_006.pcd\n",
      "Saved slice data to ./data/slicing_data/plane_2/data_slicing_2/info/slice_5_slice_with_gap_006.csv\n",
      "Saved ./data/slicing_data/plane_2/data_slicing_2\\slice_5_slice_with_gap_007.pcd\n",
      "Saved slice data to ./data/slicing_data/plane_2/data_slicing_2/info/slice_5_slice_with_gap_007.csv\n",
      "Saved ./data/slicing_data/plane_2/data_slicing_2\\slice_5_slice_with_gap_008.pcd\n",
      "Saved slice data to ./data/slicing_data/plane_2/data_slicing_2/info/slice_5_slice_with_gap_008.csv\n",
      "Saved ./data/slicing_data/plane_2/data_slicing_2\\slice_6_slice_with_gap_000.pcd\n",
      "Saved slice data to ./data/slicing_data/plane_2/data_slicing_2/info/slice_6_slice_with_gap_000.csv\n",
      "Saved ./data/slicing_data/plane_2/data_slicing_2\\slice_6_slice_with_gap_001.pcd\n",
      "Saved slice data to ./data/slicing_data/plane_2/data_slicing_2/info/slice_6_slice_with_gap_001.csv\n",
      "Saved ./data/slicing_data/plane_2/data_slicing_2\\slice_6_slice_with_gap_002.pcd\n",
      "Saved slice data to ./data/slicing_data/plane_2/data_slicing_2/info/slice_6_slice_with_gap_002.csv\n",
      "Saved ./data/slicing_data/plane_2/data_slicing_2\\slice_6_slice_with_gap_003.pcd\n",
      "Saved slice data to ./data/slicing_data/plane_2/data_slicing_2/info/slice_6_slice_with_gap_003.csv\n",
      "Saved ./data/slicing_data/plane_2/data_slicing_2\\slice_6_slice_with_gap_004.pcd\n",
      "Saved slice data to ./data/slicing_data/plane_2/data_slicing_2/info/slice_6_slice_with_gap_004.csv\n",
      "Saved ./data/slicing_data/plane_2/data_slicing_2\\slice_6_slice_with_gap_005.pcd\n",
      "Saved slice data to ./data/slicing_data/plane_2/data_slicing_2/info/slice_6_slice_with_gap_005.csv\n",
      "Saved ./data/slicing_data/plane_2/data_slicing_2\\slice_6_slice_with_gap_006.pcd\n",
      "Saved slice data to ./data/slicing_data/plane_2/data_slicing_2/info/slice_6_slice_with_gap_006.csv\n",
      "Saved ./data/slicing_data/plane_2/data_slicing_2\\slice_6_slice_with_gap_007.pcd\n",
      "Saved slice data to ./data/slicing_data/plane_2/data_slicing_2/info/slice_6_slice_with_gap_007.csv\n",
      "Saved ./data/slicing_data/plane_2/data_slicing_2\\slice_6_slice_with_gap_008.pcd\n",
      "Saved slice data to ./data/slicing_data/plane_2/data_slicing_2/info/slice_6_slice_with_gap_008.csv\n",
      "Saved ./data/slicing_data/plane_2/data_slicing_2\\slice_7_slice_with_gap_000.pcd\n",
      "Saved slice data to ./data/slicing_data/plane_2/data_slicing_2/info/slice_7_slice_with_gap_000.csv\n",
      "Saved ./data/slicing_data/plane_2/data_slicing_2\\slice_7_slice_with_gap_001.pcd\n",
      "Saved slice data to ./data/slicing_data/plane_2/data_slicing_2/info/slice_7_slice_with_gap_001.csv\n",
      "Saved ./data/slicing_data/plane_2/data_slicing_2\\slice_7_slice_with_gap_002.pcd\n",
      "Saved slice data to ./data/slicing_data/plane_2/data_slicing_2/info/slice_7_slice_with_gap_002.csv\n",
      "Saved ./data/slicing_data/plane_2/data_slicing_2\\slice_7_slice_with_gap_003.pcd\n",
      "Saved slice data to ./data/slicing_data/plane_2/data_slicing_2/info/slice_7_slice_with_gap_003.csv\n",
      "Saved ./data/slicing_data/plane_2/data_slicing_2\\slice_7_slice_with_gap_004.pcd\n",
      "Saved slice data to ./data/slicing_data/plane_2/data_slicing_2/info/slice_7_slice_with_gap_004.csv\n",
      "Saved ./data/slicing_data/plane_2/data_slicing_2\\slice_7_slice_with_gap_005.pcd\n",
      "Saved slice data to ./data/slicing_data/plane_2/data_slicing_2/info/slice_7_slice_with_gap_005.csv\n",
      "Saved ./data/slicing_data/plane_2/data_slicing_2\\slice_7_slice_with_gap_006.pcd\n",
      "Saved slice data to ./data/slicing_data/plane_2/data_slicing_2/info/slice_7_slice_with_gap_006.csv\n",
      "Saved ./data/slicing_data/plane_2/data_slicing_2\\slice_7_slice_with_gap_007.pcd\n",
      "Saved slice data to ./data/slicing_data/plane_2/data_slicing_2/info/slice_7_slice_with_gap_007.csv\n",
      "Saved ./data/slicing_data/plane_2/data_slicing_2\\slice_7_slice_with_gap_008.pcd\n",
      "Saved slice data to ./data/slicing_data/plane_2/data_slicing_2/info/slice_7_slice_with_gap_008.csv\n",
      "Saved ./data/slicing_data/plane_2/data_slicing_2\\slice_8_slice_with_gap_000.pcd\n",
      "Saved slice data to ./data/slicing_data/plane_2/data_slicing_2/info/slice_8_slice_with_gap_000.csv\n",
      "Saved ./data/slicing_data/plane_2/data_slicing_2\\slice_8_slice_with_gap_001.pcd\n",
      "Saved slice data to ./data/slicing_data/plane_2/data_slicing_2/info/slice_8_slice_with_gap_001.csv\n",
      "Saved ./data/slicing_data/plane_2/data_slicing_2\\slice_8_slice_with_gap_002.pcd\n",
      "Saved slice data to ./data/slicing_data/plane_2/data_slicing_2/info/slice_8_slice_with_gap_002.csv\n",
      "Saved ./data/slicing_data/plane_2/data_slicing_2\\slice_8_slice_with_gap_003.pcd\n",
      "Saved slice data to ./data/slicing_data/plane_2/data_slicing_2/info/slice_8_slice_with_gap_003.csv\n",
      "Saved ./data/slicing_data/plane_2/data_slicing_2\\slice_8_slice_with_gap_004.pcd\n",
      "Saved slice data to ./data/slicing_data/plane_2/data_slicing_2/info/slice_8_slice_with_gap_004.csv\n",
      "Saved ./data/slicing_data/plane_2/data_slicing_2\\slice_8_slice_with_gap_005.pcd\n",
      "Saved slice data to ./data/slicing_data/plane_2/data_slicing_2/info/slice_8_slice_with_gap_005.csv\n",
      "Saved ./data/slicing_data/plane_2/data_slicing_2\\slice_8_slice_with_gap_006.pcd\n",
      "Saved slice data to ./data/slicing_data/plane_2/data_slicing_2/info/slice_8_slice_with_gap_006.csv\n",
      "Saved ./data/slicing_data/plane_2/data_slicing_2\\slice_8_slice_with_gap_007.pcd\n",
      "Saved slice data to ./data/slicing_data/plane_2/data_slicing_2/info/slice_8_slice_with_gap_007.csv\n",
      "Saved ./data/slicing_data/plane_2/data_slicing_2\\slice_8_slice_with_gap_008.pcd\n",
      "Saved slice data to ./data/slicing_data/plane_2/data_slicing_2/info/slice_8_slice_with_gap_008.csv\n",
      "Saved ./data/slicing_data/plane_2/data_slicing_2\\slice_9_slice_with_gap_000.pcd\n",
      "Saved slice data to ./data/slicing_data/plane_2/data_slicing_2/info/slice_9_slice_with_gap_000.csv\n",
      "Saved ./data/slicing_data/plane_2/data_slicing_2\\slice_9_slice_with_gap_001.pcd\n",
      "Saved slice data to ./data/slicing_data/plane_2/data_slicing_2/info/slice_9_slice_with_gap_001.csv\n",
      "Saved ./data/slicing_data/plane_2/data_slicing_2\\slice_9_slice_with_gap_002.pcd\n",
      "Saved slice data to ./data/slicing_data/plane_2/data_slicing_2/info/slice_9_slice_with_gap_002.csv\n",
      "Saved ./data/slicing_data/plane_2/data_slicing_2\\slice_9_slice_with_gap_003.pcd\n",
      "Saved slice data to ./data/slicing_data/plane_2/data_slicing_2/info/slice_9_slice_with_gap_003.csv\n",
      "Saved ./data/slicing_data/plane_2/data_slicing_2\\slice_9_slice_with_gap_004.pcd\n",
      "Saved slice data to ./data/slicing_data/plane_2/data_slicing_2/info/slice_9_slice_with_gap_004.csv\n",
      "Saved ./data/slicing_data/plane_2/data_slicing_2\\slice_9_slice_with_gap_005.pcd\n",
      "Saved slice data to ./data/slicing_data/plane_2/data_slicing_2/info/slice_9_slice_with_gap_005.csv\n",
      "Saved ./data/slicing_data/plane_2/data_slicing_2\\slice_9_slice_with_gap_006.pcd\n",
      "Saved slice data to ./data/slicing_data/plane_2/data_slicing_2/info/slice_9_slice_with_gap_006.csv\n",
      "Saved ./data/slicing_data/plane_2/data_slicing_2\\slice_9_slice_with_gap_007.pcd\n",
      "Saved slice data to ./data/slicing_data/plane_2/data_slicing_2/info/slice_9_slice_with_gap_007.csv\n",
      "Saved ./data/slicing_data/plane_2/data_slicing_2\\slice_9_slice_with_gap_008.pcd\n",
      "Saved slice data to ./data/slicing_data/plane_2/data_slicing_2/info/slice_9_slice_with_gap_008.csv\n"
     ]
    }
   ],
   "source": [
    "process_folder(input_folder, direction, slice_distance, gap_distance, output_path)"
   ]
  },
  {
   "cell_type": "markdown",
   "metadata": {},
   "source": [
    "- Now, we finished splitting the Point Cloud data!"
   ]
  },
  {
   "cell_type": "markdown",
   "metadata": {},
   "source": [
    "- 2.3.3 Deal with the split data\n",
    "    - 去掉 0 行（无效行）\n",
    "    - 匹配对应行数据到原模型中 （因为在求质心时，我们使用原模型坐标进行求解）"
   ]
  },
  {
   "cell_type": "code",
   "execution_count": 39,
   "metadata": {},
   "outputs": [],
   "source": [
    "from data_processing.extract_key_point.deal_split_data import process_csv_files"
   ]
  },
  {
   "cell_type": "code",
   "execution_count": 40,
   "metadata": {},
   "outputs": [],
   "source": [
    "input_folder = f'./data/slicing_data/plane_{flag}/data_slicing_2/info/'"
   ]
  },
  {
   "cell_type": "code",
   "execution_count": 41,
   "metadata": {},
   "outputs": [
    {
     "name": "stdout",
     "output_type": "stream",
     "text": [
      "Processed and saved ./data/slicing_data/plane_2/data_slicing_2/info/slice_0_slice_with_gap_000.csv\n",
      "Processed and saved ./data/slicing_data/plane_2/data_slicing_2/info/slice_0_slice_with_gap_001.csv\n",
      "Processed and saved ./data/slicing_data/plane_2/data_slicing_2/info/slice_0_slice_with_gap_002.csv\n",
      "Processed and saved ./data/slicing_data/plane_2/data_slicing_2/info/slice_0_slice_with_gap_003.csv\n",
      "Processed and saved ./data/slicing_data/plane_2/data_slicing_2/info/slice_0_slice_with_gap_004.csv\n",
      "Processed and saved ./data/slicing_data/plane_2/data_slicing_2/info/slice_0_slice_with_gap_005.csv\n",
      "Processed and saved ./data/slicing_data/plane_2/data_slicing_2/info/slice_0_slice_with_gap_006.csv\n",
      "Processed and saved ./data/slicing_data/plane_2/data_slicing_2/info/slice_0_slice_with_gap_007.csv\n",
      "Processed and saved ./data/slicing_data/plane_2/data_slicing_2/info/slice_0_slice_with_gap_008.csv\n",
      "Processed and saved ./data/slicing_data/plane_2/data_slicing_2/info/slice_10_slice_with_gap_000.csv\n",
      "Processed and saved ./data/slicing_data/plane_2/data_slicing_2/info/slice_10_slice_with_gap_001.csv\n",
      "Processed and saved ./data/slicing_data/plane_2/data_slicing_2/info/slice_10_slice_with_gap_002.csv\n",
      "Processed and saved ./data/slicing_data/plane_2/data_slicing_2/info/slice_10_slice_with_gap_003.csv\n",
      "Processed and saved ./data/slicing_data/plane_2/data_slicing_2/info/slice_10_slice_with_gap_004.csv\n",
      "Processed and saved ./data/slicing_data/plane_2/data_slicing_2/info/slice_10_slice_with_gap_005.csv\n",
      "Processed and saved ./data/slicing_data/plane_2/data_slicing_2/info/slice_10_slice_with_gap_006.csv\n",
      "Processed and saved ./data/slicing_data/plane_2/data_slicing_2/info/slice_10_slice_with_gap_007.csv\n",
      "Processed and saved ./data/slicing_data/plane_2/data_slicing_2/info/slice_10_slice_with_gap_008.csv\n",
      "Processed and saved ./data/slicing_data/plane_2/data_slicing_2/info/slice_11_slice_with_gap_000.csv\n",
      "Processed and saved ./data/slicing_data/plane_2/data_slicing_2/info/slice_11_slice_with_gap_001.csv\n",
      "Processed and saved ./data/slicing_data/plane_2/data_slicing_2/info/slice_11_slice_with_gap_002.csv\n",
      "Processed and saved ./data/slicing_data/plane_2/data_slicing_2/info/slice_11_slice_with_gap_004.csv\n",
      "Processed and saved ./data/slicing_data/plane_2/data_slicing_2/info/slice_11_slice_with_gap_005.csv\n",
      "Processed and saved ./data/slicing_data/plane_2/data_slicing_2/info/slice_11_slice_with_gap_006.csv\n",
      "Processed and saved ./data/slicing_data/plane_2/data_slicing_2/info/slice_11_slice_with_gap_007.csv\n",
      "Processed and saved ./data/slicing_data/plane_2/data_slicing_2/info/slice_11_slice_with_gap_008.csv\n",
      "Processed and saved ./data/slicing_data/plane_2/data_slicing_2/info/slice_12_slice_with_gap_000.csv\n",
      "Processed and saved ./data/slicing_data/plane_2/data_slicing_2/info/slice_12_slice_with_gap_001.csv\n",
      "Processed and saved ./data/slicing_data/plane_2/data_slicing_2/info/slice_12_slice_with_gap_002.csv\n",
      "Processed and saved ./data/slicing_data/plane_2/data_slicing_2/info/slice_12_slice_with_gap_003.csv\n",
      "Processed and saved ./data/slicing_data/plane_2/data_slicing_2/info/slice_12_slice_with_gap_004.csv\n",
      "Processed and saved ./data/slicing_data/plane_2/data_slicing_2/info/slice_12_slice_with_gap_006.csv\n",
      "Processed and saved ./data/slicing_data/plane_2/data_slicing_2/info/slice_12_slice_with_gap_007.csv\n",
      "Processed and saved ./data/slicing_data/plane_2/data_slicing_2/info/slice_13_slice_with_gap_000.csv\n",
      "Processed and saved ./data/slicing_data/plane_2/data_slicing_2/info/slice_13_slice_with_gap_001.csv\n",
      "Processed and saved ./data/slicing_data/plane_2/data_slicing_2/info/slice_13_slice_with_gap_002.csv\n",
      "Processed and saved ./data/slicing_data/plane_2/data_slicing_2/info/slice_13_slice_with_gap_003.csv\n",
      "Processed and saved ./data/slicing_data/plane_2/data_slicing_2/info/slice_13_slice_with_gap_004.csv\n",
      "Processed and saved ./data/slicing_data/plane_2/data_slicing_2/info/slice_13_slice_with_gap_005.csv\n",
      "Processed and saved ./data/slicing_data/plane_2/data_slicing_2/info/slice_13_slice_with_gap_006.csv\n",
      "Processed and saved ./data/slicing_data/plane_2/data_slicing_2/info/slice_13_slice_with_gap_007.csv\n",
      "Processed and saved ./data/slicing_data/plane_2/data_slicing_2/info/slice_14_slice_with_gap_000.csv\n",
      "Processed and saved ./data/slicing_data/plane_2/data_slicing_2/info/slice_14_slice_with_gap_001.csv\n",
      "Processed and saved ./data/slicing_data/plane_2/data_slicing_2/info/slice_14_slice_with_gap_002.csv\n",
      "Processed and saved ./data/slicing_data/plane_2/data_slicing_2/info/slice_14_slice_with_gap_003.csv\n",
      "Processed and saved ./data/slicing_data/plane_2/data_slicing_2/info/slice_14_slice_with_gap_004.csv\n",
      "Processed and saved ./data/slicing_data/plane_2/data_slicing_2/info/slice_14_slice_with_gap_005.csv\n",
      "Processed and saved ./data/slicing_data/plane_2/data_slicing_2/info/slice_14_slice_with_gap_006.csv\n",
      "Processed and saved ./data/slicing_data/plane_2/data_slicing_2/info/slice_15_slice_with_gap_000.csv\n",
      "Processed and saved ./data/slicing_data/plane_2/data_slicing_2/info/slice_15_slice_with_gap_001.csv\n",
      "Processed and saved ./data/slicing_data/plane_2/data_slicing_2/info/slice_15_slice_with_gap_002.csv\n",
      "Processed and saved ./data/slicing_data/plane_2/data_slicing_2/info/slice_15_slice_with_gap_003.csv\n",
      "Processed and saved ./data/slicing_data/plane_2/data_slicing_2/info/slice_15_slice_with_gap_004.csv\n",
      "Processed and saved ./data/slicing_data/plane_2/data_slicing_2/info/slice_15_slice_with_gap_005.csv\n",
      "Processed and saved ./data/slicing_data/plane_2/data_slicing_2/info/slice_15_slice_with_gap_006.csv\n",
      "Processed and saved ./data/slicing_data/plane_2/data_slicing_2/info/slice_16_slice_with_gap_000.csv\n",
      "Processed and saved ./data/slicing_data/plane_2/data_slicing_2/info/slice_16_slice_with_gap_001.csv\n",
      "Processed and saved ./data/slicing_data/plane_2/data_slicing_2/info/slice_16_slice_with_gap_002.csv\n",
      "Processed and saved ./data/slicing_data/plane_2/data_slicing_2/info/slice_16_slice_with_gap_003.csv\n",
      "Processed and saved ./data/slicing_data/plane_2/data_slicing_2/info/slice_16_slice_with_gap_004.csv\n",
      "Processed and saved ./data/slicing_data/plane_2/data_slicing_2/info/slice_16_slice_with_gap_005.csv\n",
      "Processed and saved ./data/slicing_data/plane_2/data_slicing_2/info/slice_16_slice_with_gap_006.csv\n",
      "Processed and saved ./data/slicing_data/plane_2/data_slicing_2/info/slice_17_slice_with_gap_000.csv\n",
      "Processed and saved ./data/slicing_data/plane_2/data_slicing_2/info/slice_17_slice_with_gap_001.csv\n",
      "Processed and saved ./data/slicing_data/plane_2/data_slicing_2/info/slice_17_slice_with_gap_002.csv\n",
      "Processed and saved ./data/slicing_data/plane_2/data_slicing_2/info/slice_17_slice_with_gap_003.csv\n",
      "Processed and saved ./data/slicing_data/plane_2/data_slicing_2/info/slice_17_slice_with_gap_004.csv\n",
      "Processed and saved ./data/slicing_data/plane_2/data_slicing_2/info/slice_17_slice_with_gap_005.csv\n",
      "Processed and saved ./data/slicing_data/plane_2/data_slicing_2/info/slice_17_slice_with_gap_006.csv\n",
      "Processed and saved ./data/slicing_data/plane_2/data_slicing_2/info/slice_18_slice_with_gap_000.csv\n",
      "Processed and saved ./data/slicing_data/plane_2/data_slicing_2/info/slice_18_slice_with_gap_001.csv\n",
      "Processed and saved ./data/slicing_data/plane_2/data_slicing_2/info/slice_18_slice_with_gap_002.csv\n",
      "Processed and saved ./data/slicing_data/plane_2/data_slicing_2/info/slice_18_slice_with_gap_003.csv\n",
      "Processed and saved ./data/slicing_data/plane_2/data_slicing_2/info/slice_18_slice_with_gap_004.csv\n",
      "Processed and saved ./data/slicing_data/plane_2/data_slicing_2/info/slice_18_slice_with_gap_005.csv\n",
      "Processed and saved ./data/slicing_data/plane_2/data_slicing_2/info/slice_18_slice_with_gap_006.csv\n",
      "Processed and saved ./data/slicing_data/plane_2/data_slicing_2/info/slice_18_slice_with_gap_007.csv\n",
      "Processed and saved ./data/slicing_data/plane_2/data_slicing_2/info/slice_19_slice_with_gap_000.csv\n",
      "Processed and saved ./data/slicing_data/plane_2/data_slicing_2/info/slice_19_slice_with_gap_001.csv\n",
      "Processed and saved ./data/slicing_data/plane_2/data_slicing_2/info/slice_19_slice_with_gap_002.csv\n",
      "Processed and saved ./data/slicing_data/plane_2/data_slicing_2/info/slice_19_slice_with_gap_003.csv\n",
      "Processed and saved ./data/slicing_data/plane_2/data_slicing_2/info/slice_19_slice_with_gap_004.csv\n",
      "Processed and saved ./data/slicing_data/plane_2/data_slicing_2/info/slice_19_slice_with_gap_005.csv\n",
      "Processed and saved ./data/slicing_data/plane_2/data_slicing_2/info/slice_19_slice_with_gap_006.csv\n",
      "Processed and saved ./data/slicing_data/plane_2/data_slicing_2/info/slice_19_slice_with_gap_007.csv\n",
      "Processed and saved ./data/slicing_data/plane_2/data_slicing_2/info/slice_1_slice_with_gap_000.csv\n",
      "Processed and saved ./data/slicing_data/plane_2/data_slicing_2/info/slice_1_slice_with_gap_001.csv\n",
      "Processed and saved ./data/slicing_data/plane_2/data_slicing_2/info/slice_1_slice_with_gap_002.csv\n",
      "Processed and saved ./data/slicing_data/plane_2/data_slicing_2/info/slice_1_slice_with_gap_003.csv\n",
      "Processed and saved ./data/slicing_data/plane_2/data_slicing_2/info/slice_1_slice_with_gap_004.csv\n",
      "Processed and saved ./data/slicing_data/plane_2/data_slicing_2/info/slice_1_slice_with_gap_005.csv\n",
      "Processed and saved ./data/slicing_data/plane_2/data_slicing_2/info/slice_1_slice_with_gap_006.csv\n",
      "Processed and saved ./data/slicing_data/plane_2/data_slicing_2/info/slice_1_slice_with_gap_007.csv\n",
      "Processed and saved ./data/slicing_data/plane_2/data_slicing_2/info/slice_1_slice_with_gap_008.csv\n",
      "Processed and saved ./data/slicing_data/plane_2/data_slicing_2/info/slice_20_slice_with_gap_000.csv\n",
      "Processed and saved ./data/slicing_data/plane_2/data_slicing_2/info/slice_20_slice_with_gap_001.csv\n",
      "Processed and saved ./data/slicing_data/plane_2/data_slicing_2/info/slice_20_slice_with_gap_002.csv\n",
      "Processed and saved ./data/slicing_data/plane_2/data_slicing_2/info/slice_20_slice_with_gap_003.csv\n",
      "Processed and saved ./data/slicing_data/plane_2/data_slicing_2/info/slice_20_slice_with_gap_004.csv\n",
      "Processed and saved ./data/slicing_data/plane_2/data_slicing_2/info/slice_20_slice_with_gap_005.csv\n",
      "Processed and saved ./data/slicing_data/plane_2/data_slicing_2/info/slice_20_slice_with_gap_006.csv\n",
      "Processed and saved ./data/slicing_data/plane_2/data_slicing_2/info/slice_21_slice_with_gap_000.csv\n",
      "Processed and saved ./data/slicing_data/plane_2/data_slicing_2/info/slice_21_slice_with_gap_001.csv\n",
      "Processed and saved ./data/slicing_data/plane_2/data_slicing_2/info/slice_21_slice_with_gap_002.csv\n",
      "Processed and saved ./data/slicing_data/plane_2/data_slicing_2/info/slice_21_slice_with_gap_003.csv\n",
      "Processed and saved ./data/slicing_data/plane_2/data_slicing_2/info/slice_21_slice_with_gap_004.csv\n",
      "Processed and saved ./data/slicing_data/plane_2/data_slicing_2/info/slice_21_slice_with_gap_005.csv\n",
      "Processed and saved ./data/slicing_data/plane_2/data_slicing_2/info/slice_21_slice_with_gap_006.csv\n",
      "Processed and saved ./data/slicing_data/plane_2/data_slicing_2/info/slice_21_slice_with_gap_007.csv\n",
      "Processed and saved ./data/slicing_data/plane_2/data_slicing_2/info/slice_22_slice_with_gap_000.csv\n",
      "Processed and saved ./data/slicing_data/plane_2/data_slicing_2/info/slice_22_slice_with_gap_001.csv\n",
      "Processed and saved ./data/slicing_data/plane_2/data_slicing_2/info/slice_22_slice_with_gap_002.csv\n",
      "Processed and saved ./data/slicing_data/plane_2/data_slicing_2/info/slice_22_slice_with_gap_003.csv\n",
      "Processed and saved ./data/slicing_data/plane_2/data_slicing_2/info/slice_22_slice_with_gap_004.csv\n",
      "Processed and saved ./data/slicing_data/plane_2/data_slicing_2/info/slice_22_slice_with_gap_005.csv\n",
      "Processed and saved ./data/slicing_data/plane_2/data_slicing_2/info/slice_22_slice_with_gap_006.csv\n",
      "Processed and saved ./data/slicing_data/plane_2/data_slicing_2/info/slice_22_slice_with_gap_007.csv\n",
      "Processed and saved ./data/slicing_data/plane_2/data_slicing_2/info/slice_23_slice_with_gap_000.csv\n",
      "Processed and saved ./data/slicing_data/plane_2/data_slicing_2/info/slice_23_slice_with_gap_001.csv\n",
      "Processed and saved ./data/slicing_data/plane_2/data_slicing_2/info/slice_23_slice_with_gap_002.csv\n",
      "Processed and saved ./data/slicing_data/plane_2/data_slicing_2/info/slice_23_slice_with_gap_003.csv\n",
      "Processed and saved ./data/slicing_data/plane_2/data_slicing_2/info/slice_23_slice_with_gap_004.csv\n",
      "Processed and saved ./data/slicing_data/plane_2/data_slicing_2/info/slice_23_slice_with_gap_005.csv\n",
      "Processed and saved ./data/slicing_data/plane_2/data_slicing_2/info/slice_23_slice_with_gap_006.csv\n",
      "Processed and saved ./data/slicing_data/plane_2/data_slicing_2/info/slice_24_slice_with_gap_000.csv\n",
      "Processed and saved ./data/slicing_data/plane_2/data_slicing_2/info/slice_24_slice_with_gap_001.csv\n",
      "Processed and saved ./data/slicing_data/plane_2/data_slicing_2/info/slice_24_slice_with_gap_002.csv\n",
      "Processed and saved ./data/slicing_data/plane_2/data_slicing_2/info/slice_24_slice_with_gap_003.csv\n",
      "Processed and saved ./data/slicing_data/plane_2/data_slicing_2/info/slice_24_slice_with_gap_004.csv\n",
      "Processed and saved ./data/slicing_data/plane_2/data_slicing_2/info/slice_24_slice_with_gap_005.csv\n",
      "Processed and saved ./data/slicing_data/plane_2/data_slicing_2/info/slice_24_slice_with_gap_006.csv\n",
      "Processed and saved ./data/slicing_data/plane_2/data_slicing_2/info/slice_24_slice_with_gap_007.csv\n",
      "Processed and saved ./data/slicing_data/plane_2/data_slicing_2/info/slice_24_slice_with_gap_008.csv\n",
      "Processed and saved ./data/slicing_data/plane_2/data_slicing_2/info/slice_25_slice_with_gap_000.csv\n",
      "Processed and saved ./data/slicing_data/plane_2/data_slicing_2/info/slice_25_slice_with_gap_001.csv\n",
      "Processed and saved ./data/slicing_data/plane_2/data_slicing_2/info/slice_25_slice_with_gap_002.csv\n",
      "Processed and saved ./data/slicing_data/plane_2/data_slicing_2/info/slice_25_slice_with_gap_003.csv\n",
      "Processed and saved ./data/slicing_data/plane_2/data_slicing_2/info/slice_25_slice_with_gap_004.csv\n",
      "Processed and saved ./data/slicing_data/plane_2/data_slicing_2/info/slice_25_slice_with_gap_005.csv\n",
      "Processed and saved ./data/slicing_data/plane_2/data_slicing_2/info/slice_25_slice_with_gap_006.csv\n",
      "Processed and saved ./data/slicing_data/plane_2/data_slicing_2/info/slice_25_slice_with_gap_007.csv\n",
      "Processed and saved ./data/slicing_data/plane_2/data_slicing_2/info/slice_25_slice_with_gap_008.csv\n",
      "Processed and saved ./data/slicing_data/plane_2/data_slicing_2/info/slice_26_slice_with_gap_000.csv\n",
      "Processed and saved ./data/slicing_data/plane_2/data_slicing_2/info/slice_26_slice_with_gap_001.csv\n",
      "Processed and saved ./data/slicing_data/plane_2/data_slicing_2/info/slice_26_slice_with_gap_002.csv\n",
      "Processed and saved ./data/slicing_data/plane_2/data_slicing_2/info/slice_26_slice_with_gap_003.csv\n",
      "Processed and saved ./data/slicing_data/plane_2/data_slicing_2/info/slice_26_slice_with_gap_004.csv\n",
      "Processed and saved ./data/slicing_data/plane_2/data_slicing_2/info/slice_26_slice_with_gap_005.csv\n",
      "Processed and saved ./data/slicing_data/plane_2/data_slicing_2/info/slice_26_slice_with_gap_006.csv\n",
      "Processed and saved ./data/slicing_data/plane_2/data_slicing_2/info/slice_26_slice_with_gap_007.csv\n",
      "Processed and saved ./data/slicing_data/plane_2/data_slicing_2/info/slice_26_slice_with_gap_008.csv\n",
      "Processed and saved ./data/slicing_data/plane_2/data_slicing_2/info/slice_27_slice_with_gap_000.csv\n",
      "Processed and saved ./data/slicing_data/plane_2/data_slicing_2/info/slice_27_slice_with_gap_001.csv\n",
      "Processed and saved ./data/slicing_data/plane_2/data_slicing_2/info/slice_27_slice_with_gap_002.csv\n",
      "Processed and saved ./data/slicing_data/plane_2/data_slicing_2/info/slice_27_slice_with_gap_003.csv\n",
      "Processed and saved ./data/slicing_data/plane_2/data_slicing_2/info/slice_27_slice_with_gap_004.csv\n",
      "Processed and saved ./data/slicing_data/plane_2/data_slicing_2/info/slice_27_slice_with_gap_005.csv\n",
      "Processed and saved ./data/slicing_data/plane_2/data_slicing_2/info/slice_27_slice_with_gap_006.csv\n",
      "Processed and saved ./data/slicing_data/plane_2/data_slicing_2/info/slice_27_slice_with_gap_007.csv\n",
      "Processed and saved ./data/slicing_data/plane_2/data_slicing_2/info/slice_27_slice_with_gap_008.csv\n",
      "Processed and saved ./data/slicing_data/plane_2/data_slicing_2/info/slice_28_slice_with_gap_000.csv\n",
      "Processed and saved ./data/slicing_data/plane_2/data_slicing_2/info/slice_28_slice_with_gap_001.csv\n",
      "Processed and saved ./data/slicing_data/plane_2/data_slicing_2/info/slice_28_slice_with_gap_002.csv\n",
      "Processed and saved ./data/slicing_data/plane_2/data_slicing_2/info/slice_28_slice_with_gap_003.csv\n",
      "Processed and saved ./data/slicing_data/plane_2/data_slicing_2/info/slice_28_slice_with_gap_004.csv\n",
      "Processed and saved ./data/slicing_data/plane_2/data_slicing_2/info/slice_28_slice_with_gap_005.csv\n",
      "Processed and saved ./data/slicing_data/plane_2/data_slicing_2/info/slice_28_slice_with_gap_006.csv\n",
      "Processed and saved ./data/slicing_data/plane_2/data_slicing_2/info/slice_28_slice_with_gap_007.csv\n",
      "Processed and saved ./data/slicing_data/plane_2/data_slicing_2/info/slice_28_slice_with_gap_008.csv\n",
      "Processed and saved ./data/slicing_data/plane_2/data_slicing_2/info/slice_29_slice_with_gap_000.csv\n",
      "Processed and saved ./data/slicing_data/plane_2/data_slicing_2/info/slice_29_slice_with_gap_001.csv\n",
      "Processed and saved ./data/slicing_data/plane_2/data_slicing_2/info/slice_29_slice_with_gap_002.csv\n",
      "Processed and saved ./data/slicing_data/plane_2/data_slicing_2/info/slice_29_slice_with_gap_003.csv\n",
      "Processed and saved ./data/slicing_data/plane_2/data_slicing_2/info/slice_29_slice_with_gap_004.csv\n",
      "Processed and saved ./data/slicing_data/plane_2/data_slicing_2/info/slice_29_slice_with_gap_005.csv\n",
      "Processed and saved ./data/slicing_data/plane_2/data_slicing_2/info/slice_29_slice_with_gap_006.csv\n",
      "Processed and saved ./data/slicing_data/plane_2/data_slicing_2/info/slice_29_slice_with_gap_007.csv\n",
      "Processed and saved ./data/slicing_data/plane_2/data_slicing_2/info/slice_29_slice_with_gap_008.csv\n",
      "Processed and saved ./data/slicing_data/plane_2/data_slicing_2/info/slice_2_slice_with_gap_000.csv\n",
      "Processed and saved ./data/slicing_data/plane_2/data_slicing_2/info/slice_2_slice_with_gap_001.csv\n",
      "Processed and saved ./data/slicing_data/plane_2/data_slicing_2/info/slice_2_slice_with_gap_002.csv\n",
      "Processed and saved ./data/slicing_data/plane_2/data_slicing_2/info/slice_2_slice_with_gap_003.csv\n",
      "Processed and saved ./data/slicing_data/plane_2/data_slicing_2/info/slice_2_slice_with_gap_004.csv\n",
      "Processed and saved ./data/slicing_data/plane_2/data_slicing_2/info/slice_2_slice_with_gap_005.csv\n",
      "Processed and saved ./data/slicing_data/plane_2/data_slicing_2/info/slice_2_slice_with_gap_006.csv\n",
      "Processed and saved ./data/slicing_data/plane_2/data_slicing_2/info/slice_2_slice_with_gap_007.csv\n",
      "Processed and saved ./data/slicing_data/plane_2/data_slicing_2/info/slice_30_slice_with_gap_000.csv\n",
      "Processed and saved ./data/slicing_data/plane_2/data_slicing_2/info/slice_30_slice_with_gap_001.csv\n",
      "Processed and saved ./data/slicing_data/plane_2/data_slicing_2/info/slice_30_slice_with_gap_002.csv\n",
      "Processed and saved ./data/slicing_data/plane_2/data_slicing_2/info/slice_30_slice_with_gap_003.csv\n",
      "Processed and saved ./data/slicing_data/plane_2/data_slicing_2/info/slice_30_slice_with_gap_004.csv\n",
      "Processed and saved ./data/slicing_data/plane_2/data_slicing_2/info/slice_30_slice_with_gap_005.csv\n",
      "Processed and saved ./data/slicing_data/plane_2/data_slicing_2/info/slice_30_slice_with_gap_006.csv\n",
      "Processed and saved ./data/slicing_data/plane_2/data_slicing_2/info/slice_30_slice_with_gap_007.csv\n",
      "Processed and saved ./data/slicing_data/plane_2/data_slicing_2/info/slice_30_slice_with_gap_008.csv\n",
      "Processed and saved ./data/slicing_data/plane_2/data_slicing_2/info/slice_31_slice_with_gap_000.csv\n",
      "Processed and saved ./data/slicing_data/plane_2/data_slicing_2/info/slice_31_slice_with_gap_001.csv\n",
      "Processed and saved ./data/slicing_data/plane_2/data_slicing_2/info/slice_31_slice_with_gap_002.csv\n",
      "Processed and saved ./data/slicing_data/plane_2/data_slicing_2/info/slice_31_slice_with_gap_003.csv\n",
      "Processed and saved ./data/slicing_data/plane_2/data_slicing_2/info/slice_31_slice_with_gap_004.csv\n",
      "Processed and saved ./data/slicing_data/plane_2/data_slicing_2/info/slice_31_slice_with_gap_005.csv\n",
      "Processed and saved ./data/slicing_data/plane_2/data_slicing_2/info/slice_31_slice_with_gap_006.csv\n",
      "Processed and saved ./data/slicing_data/plane_2/data_slicing_2/info/slice_31_slice_with_gap_007.csv\n",
      "Processed and saved ./data/slicing_data/plane_2/data_slicing_2/info/slice_31_slice_with_gap_008.csv\n",
      "Processed and saved ./data/slicing_data/plane_2/data_slicing_2/info/slice_32_slice_with_gap_000.csv\n",
      "Processed and saved ./data/slicing_data/plane_2/data_slicing_2/info/slice_32_slice_with_gap_001.csv\n",
      "Processed and saved ./data/slicing_data/plane_2/data_slicing_2/info/slice_32_slice_with_gap_002.csv\n",
      "Processed and saved ./data/slicing_data/plane_2/data_slicing_2/info/slice_32_slice_with_gap_003.csv\n",
      "Processed and saved ./data/slicing_data/plane_2/data_slicing_2/info/slice_32_slice_with_gap_004.csv\n",
      "Processed and saved ./data/slicing_data/plane_2/data_slicing_2/info/slice_32_slice_with_gap_005.csv\n",
      "Processed and saved ./data/slicing_data/plane_2/data_slicing_2/info/slice_32_slice_with_gap_006.csv\n",
      "Processed and saved ./data/slicing_data/plane_2/data_slicing_2/info/slice_32_slice_with_gap_007.csv\n",
      "Processed and saved ./data/slicing_data/plane_2/data_slicing_2/info/slice_33_slice_with_gap_000.csv\n",
      "Processed and saved ./data/slicing_data/plane_2/data_slicing_2/info/slice_33_slice_with_gap_001.csv\n",
      "Processed and saved ./data/slicing_data/plane_2/data_slicing_2/info/slice_33_slice_with_gap_002.csv\n",
      "Processed and saved ./data/slicing_data/plane_2/data_slicing_2/info/slice_33_slice_with_gap_003.csv\n",
      "Processed and saved ./data/slicing_data/plane_2/data_slicing_2/info/slice_33_slice_with_gap_004.csv\n",
      "Processed and saved ./data/slicing_data/plane_2/data_slicing_2/info/slice_33_slice_with_gap_005.csv\n",
      "Processed and saved ./data/slicing_data/plane_2/data_slicing_2/info/slice_33_slice_with_gap_006.csv\n",
      "Processed and saved ./data/slicing_data/plane_2/data_slicing_2/info/slice_33_slice_with_gap_007.csv\n",
      "Processed and saved ./data/slicing_data/plane_2/data_slicing_2/info/slice_34_slice_with_gap_000.csv\n",
      "Processed and saved ./data/slicing_data/plane_2/data_slicing_2/info/slice_34_slice_with_gap_001.csv\n",
      "Processed and saved ./data/slicing_data/plane_2/data_slicing_2/info/slice_34_slice_with_gap_002.csv\n",
      "Processed and saved ./data/slicing_data/plane_2/data_slicing_2/info/slice_34_slice_with_gap_003.csv\n",
      "Processed and saved ./data/slicing_data/plane_2/data_slicing_2/info/slice_34_slice_with_gap_004.csv\n",
      "Processed and saved ./data/slicing_data/plane_2/data_slicing_2/info/slice_34_slice_with_gap_005.csv\n",
      "Processed and saved ./data/slicing_data/plane_2/data_slicing_2/info/slice_34_slice_with_gap_006.csv\n",
      "Processed and saved ./data/slicing_data/plane_2/data_slicing_2/info/slice_3_slice_with_gap_000.csv\n",
      "Processed and saved ./data/slicing_data/plane_2/data_slicing_2/info/slice_3_slice_with_gap_001.csv\n",
      "Processed and saved ./data/slicing_data/plane_2/data_slicing_2/info/slice_3_slice_with_gap_002.csv\n",
      "Processed and saved ./data/slicing_data/plane_2/data_slicing_2/info/slice_3_slice_with_gap_003.csv\n",
      "Processed and saved ./data/slicing_data/plane_2/data_slicing_2/info/slice_3_slice_with_gap_004.csv\n",
      "Processed and saved ./data/slicing_data/plane_2/data_slicing_2/info/slice_3_slice_with_gap_005.csv\n",
      "Processed and saved ./data/slicing_data/plane_2/data_slicing_2/info/slice_3_slice_with_gap_006.csv\n",
      "Processed and saved ./data/slicing_data/plane_2/data_slicing_2/info/slice_3_slice_with_gap_007.csv\n",
      "Processed and saved ./data/slicing_data/plane_2/data_slicing_2/info/slice_3_slice_with_gap_008.csv\n",
      "Processed and saved ./data/slicing_data/plane_2/data_slicing_2/info/slice_4_slice_with_gap_000.csv\n",
      "Processed and saved ./data/slicing_data/plane_2/data_slicing_2/info/slice_4_slice_with_gap_001.csv\n",
      "Processed and saved ./data/slicing_data/plane_2/data_slicing_2/info/slice_4_slice_with_gap_002.csv\n",
      "Processed and saved ./data/slicing_data/plane_2/data_slicing_2/info/slice_4_slice_with_gap_003.csv\n",
      "Processed and saved ./data/slicing_data/plane_2/data_slicing_2/info/slice_4_slice_with_gap_004.csv\n",
      "Processed and saved ./data/slicing_data/plane_2/data_slicing_2/info/slice_4_slice_with_gap_005.csv\n",
      "Processed and saved ./data/slicing_data/plane_2/data_slicing_2/info/slice_4_slice_with_gap_006.csv\n",
      "Processed and saved ./data/slicing_data/plane_2/data_slicing_2/info/slice_4_slice_with_gap_007.csv\n",
      "Processed and saved ./data/slicing_data/plane_2/data_slicing_2/info/slice_5_slice_with_gap_000.csv\n",
      "Processed and saved ./data/slicing_data/plane_2/data_slicing_2/info/slice_5_slice_with_gap_001.csv\n",
      "Processed and saved ./data/slicing_data/plane_2/data_slicing_2/info/slice_5_slice_with_gap_002.csv\n",
      "Processed and saved ./data/slicing_data/plane_2/data_slicing_2/info/slice_5_slice_with_gap_003.csv\n",
      "Processed and saved ./data/slicing_data/plane_2/data_slicing_2/info/slice_5_slice_with_gap_004.csv\n",
      "Processed and saved ./data/slicing_data/plane_2/data_slicing_2/info/slice_5_slice_with_gap_005.csv\n",
      "Processed and saved ./data/slicing_data/plane_2/data_slicing_2/info/slice_5_slice_with_gap_006.csv\n",
      "Processed and saved ./data/slicing_data/plane_2/data_slicing_2/info/slice_5_slice_with_gap_007.csv\n",
      "Processed and saved ./data/slicing_data/plane_2/data_slicing_2/info/slice_5_slice_with_gap_008.csv\n",
      "Processed and saved ./data/slicing_data/plane_2/data_slicing_2/info/slice_6_slice_with_gap_000.csv\n",
      "Processed and saved ./data/slicing_data/plane_2/data_slicing_2/info/slice_6_slice_with_gap_001.csv\n",
      "Processed and saved ./data/slicing_data/plane_2/data_slicing_2/info/slice_6_slice_with_gap_002.csv\n",
      "Processed and saved ./data/slicing_data/plane_2/data_slicing_2/info/slice_6_slice_with_gap_003.csv\n",
      "Processed and saved ./data/slicing_data/plane_2/data_slicing_2/info/slice_6_slice_with_gap_004.csv\n",
      "Processed and saved ./data/slicing_data/plane_2/data_slicing_2/info/slice_6_slice_with_gap_005.csv\n",
      "Processed and saved ./data/slicing_data/plane_2/data_slicing_2/info/slice_6_slice_with_gap_006.csv\n",
      "Processed and saved ./data/slicing_data/plane_2/data_slicing_2/info/slice_6_slice_with_gap_007.csv\n",
      "Processed and saved ./data/slicing_data/plane_2/data_slicing_2/info/slice_6_slice_with_gap_008.csv\n",
      "Processed and saved ./data/slicing_data/plane_2/data_slicing_2/info/slice_7_slice_with_gap_000.csv\n",
      "Processed and saved ./data/slicing_data/plane_2/data_slicing_2/info/slice_7_slice_with_gap_001.csv\n",
      "Processed and saved ./data/slicing_data/plane_2/data_slicing_2/info/slice_7_slice_with_gap_002.csv\n",
      "Processed and saved ./data/slicing_data/plane_2/data_slicing_2/info/slice_7_slice_with_gap_003.csv\n",
      "Processed and saved ./data/slicing_data/plane_2/data_slicing_2/info/slice_7_slice_with_gap_004.csv\n",
      "Processed and saved ./data/slicing_data/plane_2/data_slicing_2/info/slice_7_slice_with_gap_005.csv\n",
      "Processed and saved ./data/slicing_data/plane_2/data_slicing_2/info/slice_7_slice_with_gap_006.csv\n",
      "Processed and saved ./data/slicing_data/plane_2/data_slicing_2/info/slice_7_slice_with_gap_007.csv\n",
      "Processed and saved ./data/slicing_data/plane_2/data_slicing_2/info/slice_7_slice_with_gap_008.csv\n",
      "Processed and saved ./data/slicing_data/plane_2/data_slicing_2/info/slice_8_slice_with_gap_000.csv\n",
      "Processed and saved ./data/slicing_data/plane_2/data_slicing_2/info/slice_8_slice_with_gap_001.csv\n",
      "Processed and saved ./data/slicing_data/plane_2/data_slicing_2/info/slice_8_slice_with_gap_002.csv\n",
      "Processed and saved ./data/slicing_data/plane_2/data_slicing_2/info/slice_8_slice_with_gap_003.csv\n",
      "Processed and saved ./data/slicing_data/plane_2/data_slicing_2/info/slice_8_slice_with_gap_004.csv\n",
      "Processed and saved ./data/slicing_data/plane_2/data_slicing_2/info/slice_8_slice_with_gap_005.csv\n",
      "Processed and saved ./data/slicing_data/plane_2/data_slicing_2/info/slice_8_slice_with_gap_006.csv\n",
      "Processed and saved ./data/slicing_data/plane_2/data_slicing_2/info/slice_8_slice_with_gap_007.csv\n",
      "Processed and saved ./data/slicing_data/plane_2/data_slicing_2/info/slice_8_slice_with_gap_008.csv\n",
      "Processed and saved ./data/slicing_data/plane_2/data_slicing_2/info/slice_9_slice_with_gap_000.csv\n",
      "Processed and saved ./data/slicing_data/plane_2/data_slicing_2/info/slice_9_slice_with_gap_001.csv\n",
      "Processed and saved ./data/slicing_data/plane_2/data_slicing_2/info/slice_9_slice_with_gap_002.csv\n",
      "Processed and saved ./data/slicing_data/plane_2/data_slicing_2/info/slice_9_slice_with_gap_003.csv\n",
      "Processed and saved ./data/slicing_data/plane_2/data_slicing_2/info/slice_9_slice_with_gap_004.csv\n",
      "Processed and saved ./data/slicing_data/plane_2/data_slicing_2/info/slice_9_slice_with_gap_005.csv\n",
      "Processed and saved ./data/slicing_data/plane_2/data_slicing_2/info/slice_9_slice_with_gap_006.csv\n",
      "Processed and saved ./data/slicing_data/plane_2/data_slicing_2/info/slice_9_slice_with_gap_007.csv\n",
      "Processed and saved ./data/slicing_data/plane_2/data_slicing_2/info/slice_9_slice_with_gap_008.csv\n"
     ]
    }
   ],
   "source": [
    "process_csv_files(input_folder)"
   ]
  },
  {
   "cell_type": "code",
   "execution_count": 42,
   "metadata": {},
   "outputs": [],
   "source": [
    "import pandas as pd"
   ]
  },
  {
   "cell_type": "code",
   "execution_count": 43,
   "metadata": {},
   "outputs": [],
   "source": [
    "#得到plane_sli_info_1.csv文件 (第一次切分区域匹配)\n",
    "slice1_data = pd.read_csv(f\"./data/slicing_data/plane_{flag}/data_csv/points_slice_info_plane{flag}.csv\")\n",
    "plane_sli_info = slice1_data.iloc[:,0:4]\n",
    "plane_sli_info.to_csv(f\"./data/slicing_data/plane_{flag}/data_csv/plane_sli_info_1.csv\",index=False)"
   ]
  },
  {
   "cell_type": "code",
   "execution_count": 44,
   "metadata": {},
   "outputs": [],
   "source": [
    "from data_processing.extract_key_point.deal_split_data import update_target_with_p_XY\n",
    "from data_processing.extract_key_point.deal_split_data import update_target_with_p_XZ"
   ]
  },
  {
   "cell_type": "markdown",
   "metadata": {},
   "source": [
    "- 立面应用update_target_with_p_XZ， 水平面应用update_target_with_p_XY"
   ]
  },
  {
   "cell_type": "code",
   "execution_count": 45,
   "metadata": {},
   "outputs": [],
   "source": [
    "slice2_data = pd.read_csv(f\"./data/slicing_data/plane_{flag}/data_csv/points_adjusted_positions_plane{flag}.csv\")\n",
    "slice2_data.to_csv(f\"./data/slicing_data/plane_{flag}/data_csv/plane_sli_info_2.csv\",index=False)"
   ]
  },
  {
   "cell_type": "code",
   "execution_count": 46,
   "metadata": {},
   "outputs": [],
   "source": [
    "#得到plane_sli_info_2.csv文件\n",
    "folder_path = f'./data/slicing_data/plane_{flag}/data_slicing_2/info'  # 替换为实际的文件夹路径\n",
    "target_csv_path = f'./data/slicing_data/plane_{flag}/data_csv/plane_sli_info_2.csv'  # 替换为实际的目标CSV文件路径"
   ]
  },
  {
   "cell_type": "code",
   "execution_count": 47,
   "metadata": {},
   "outputs": [
    {
     "name": "stderr",
     "output_type": "stream",
     "text": [
      "Processing files: 100%|██████████| 289/289 [27:34<00:00,  5.73s/it]\n"
     ]
    },
    {
     "name": "stdout",
     "output_type": "stream",
     "text": [
      "Updated target CSV at ./data/slicing_data/plane_2/data_csv/plane_sli_info_2.csv\n"
     ]
    }
   ],
   "source": [
    "#水平面\n",
    "#update_target_with_p_XY(folder_path, target_csv_path)\n",
    "\n",
    "#立面\n",
    "update_target_with_p_XZ(folder_path, target_csv_path)"
   ]
  },
  {
   "cell_type": "markdown",
   "metadata": {},
   "source": [
    "- 这样的匹配方式基于一个小trick，就是点云数据的存储.csv文件，其“存储顺序”不会发生改变"
   ]
  },
  {
   "cell_type": "markdown",
   "metadata": {},
   "source": [
    "- 2.3.4 Combine 2 slicing_data.csv\n",
    "    - Combine plane_sli_info_1.csv & plane_sli_info_2.csv"
   ]
  },
  {
   "cell_type": "code",
   "execution_count": 48,
   "metadata": {},
   "outputs": [
    {
     "data": {
      "text/html": [
       "<div>\n",
       "<style scoped>\n",
       "    .dataframe tbody tr th:only-of-type {\n",
       "        vertical-align: middle;\n",
       "    }\n",
       "\n",
       "    .dataframe tbody tr th {\n",
       "        vertical-align: top;\n",
       "    }\n",
       "\n",
       "    .dataframe thead th {\n",
       "        text-align: right;\n",
       "    }\n",
       "</style>\n",
       "<table border=\"1\" class=\"dataframe\">\n",
       "  <thead>\n",
       "    <tr style=\"text-align: right;\">\n",
       "      <th></th>\n",
       "      <th>X</th>\n",
       "      <th>Y</th>\n",
       "      <th>Z</th>\n",
       "      <th>Slice_Index</th>\n",
       "    </tr>\n",
       "  </thead>\n",
       "  <tbody>\n",
       "    <tr>\n",
       "      <th>0</th>\n",
       "      <td>-0.212528</td>\n",
       "      <td>-3.159503</td>\n",
       "      <td>0.288085</td>\n",
       "      <td>0.0</td>\n",
       "    </tr>\n",
       "    <tr>\n",
       "      <th>1</th>\n",
       "      <td>-0.211027</td>\n",
       "      <td>-3.246203</td>\n",
       "      <td>0.534179</td>\n",
       "      <td>0.0</td>\n",
       "    </tr>\n",
       "    <tr>\n",
       "      <th>2</th>\n",
       "      <td>-0.208232</td>\n",
       "      <td>-3.091612</td>\n",
       "      <td>0.082519</td>\n",
       "      <td>0.0</td>\n",
       "    </tr>\n",
       "    <tr>\n",
       "      <th>3</th>\n",
       "      <td>-0.207352</td>\n",
       "      <td>-3.168567</td>\n",
       "      <td>0.326171</td>\n",
       "      <td>0.0</td>\n",
       "    </tr>\n",
       "    <tr>\n",
       "      <th>4</th>\n",
       "      <td>-0.207045</td>\n",
       "      <td>-3.142616</td>\n",
       "      <td>0.269531</td>\n",
       "      <td>0.0</td>\n",
       "    </tr>\n",
       "  </tbody>\n",
       "</table>\n",
       "</div>"
      ],
      "text/plain": [
       "          X         Y         Z  Slice_Index\n",
       "0 -0.212528 -3.159503  0.288085          0.0\n",
       "1 -0.211027 -3.246203  0.534179          0.0\n",
       "2 -0.208232 -3.091612  0.082519          0.0\n",
       "3 -0.207352 -3.168567  0.326171          0.0\n",
       "4 -0.207045 -3.142616  0.269531          0.0"
      ]
     },
     "execution_count": 48,
     "metadata": {},
     "output_type": "execute_result"
    }
   ],
   "source": [
    "file_1 = pd.read_csv(f\"./data/slicing_data/plane_{flag}/data_csv/plane_sli_info_1.csv\")\n",
    "file_1.head()"
   ]
  },
  {
   "cell_type": "code",
   "execution_count": 49,
   "metadata": {},
   "outputs": [
    {
     "data": {
      "text/html": [
       "<div>\n",
       "<style scoped>\n",
       "    .dataframe tbody tr th:only-of-type {\n",
       "        vertical-align: middle;\n",
       "    }\n",
       "\n",
       "    .dataframe tbody tr th {\n",
       "        vertical-align: top;\n",
       "    }\n",
       "\n",
       "    .dataframe thead th {\n",
       "        text-align: right;\n",
       "    }\n",
       "</style>\n",
       "<table border=\"1\" class=\"dataframe\">\n",
       "  <thead>\n",
       "    <tr style=\"text-align: right;\">\n",
       "      <th></th>\n",
       "      <th>Adjusted_X</th>\n",
       "      <th>Adjusted_Y</th>\n",
       "      <th>Adjusted_Z</th>\n",
       "      <th>Slice_Index</th>\n",
       "    </tr>\n",
       "  </thead>\n",
       "  <tbody>\n",
       "    <tr>\n",
       "      <th>0</th>\n",
       "      <td>-0.212528</td>\n",
       "      <td>-3.159503</td>\n",
       "      <td>0.288085</td>\n",
       "      <td>0.0</td>\n",
       "    </tr>\n",
       "    <tr>\n",
       "      <th>1</th>\n",
       "      <td>-0.211027</td>\n",
       "      <td>-3.246203</td>\n",
       "      <td>0.534179</td>\n",
       "      <td>1.0</td>\n",
       "    </tr>\n",
       "    <tr>\n",
       "      <th>2</th>\n",
       "      <td>-0.208232</td>\n",
       "      <td>-3.091612</td>\n",
       "      <td>0.082519</td>\n",
       "      <td>0.0</td>\n",
       "    </tr>\n",
       "    <tr>\n",
       "      <th>3</th>\n",
       "      <td>-0.207352</td>\n",
       "      <td>-3.168567</td>\n",
       "      <td>0.326171</td>\n",
       "      <td>0.0</td>\n",
       "    </tr>\n",
       "    <tr>\n",
       "      <th>4</th>\n",
       "      <td>-0.207045</td>\n",
       "      <td>-3.142616</td>\n",
       "      <td>0.269531</td>\n",
       "      <td>0.0</td>\n",
       "    </tr>\n",
       "  </tbody>\n",
       "</table>\n",
       "</div>"
      ],
      "text/plain": [
       "   Adjusted_X  Adjusted_Y  Adjusted_Z  Slice_Index\n",
       "0   -0.212528   -3.159503    0.288085          0.0\n",
       "1   -0.211027   -3.246203    0.534179          1.0\n",
       "2   -0.208232   -3.091612    0.082519          0.0\n",
       "3   -0.207352   -3.168567    0.326171          0.0\n",
       "4   -0.207045   -3.142616    0.269531          0.0"
      ]
     },
     "execution_count": 49,
     "metadata": {},
     "output_type": "execute_result"
    }
   ],
   "source": [
    "file_2 = pd.read_csv(f\"./data/slicing_data/plane_{flag}/data_csv/plane_sli_info_2.csv\")\n",
    "file_2.head()"
   ]
  },
  {
   "cell_type": "code",
   "execution_count": 50,
   "metadata": {},
   "outputs": [],
   "source": [
    "file_fin = pd.DataFrame()"
   ]
  },
  {
   "cell_type": "code",
   "execution_count": 51,
   "metadata": {},
   "outputs": [
    {
     "data": {
      "text/html": [
       "<div>\n",
       "<style scoped>\n",
       "    .dataframe tbody tr th:only-of-type {\n",
       "        vertical-align: middle;\n",
       "    }\n",
       "\n",
       "    .dataframe tbody tr th {\n",
       "        vertical-align: top;\n",
       "    }\n",
       "\n",
       "    .dataframe thead th {\n",
       "        text-align: right;\n",
       "    }\n",
       "</style>\n",
       "<table border=\"1\" class=\"dataframe\">\n",
       "  <thead>\n",
       "    <tr style=\"text-align: right;\">\n",
       "      <th></th>\n",
       "      <th>X</th>\n",
       "      <th>Y</th>\n",
       "      <th>Z</th>\n",
       "      <th>Slice_Index_1</th>\n",
       "      <th>Slice_Index_2</th>\n",
       "    </tr>\n",
       "  </thead>\n",
       "  <tbody>\n",
       "    <tr>\n",
       "      <th>0</th>\n",
       "      <td>-0.212528</td>\n",
       "      <td>-3.159503</td>\n",
       "      <td>0.288085</td>\n",
       "      <td>0.0</td>\n",
       "      <td>0.0</td>\n",
       "    </tr>\n",
       "    <tr>\n",
       "      <th>1</th>\n",
       "      <td>-0.211027</td>\n",
       "      <td>-3.246203</td>\n",
       "      <td>0.534179</td>\n",
       "      <td>0.0</td>\n",
       "      <td>1.0</td>\n",
       "    </tr>\n",
       "    <tr>\n",
       "      <th>2</th>\n",
       "      <td>-0.208232</td>\n",
       "      <td>-3.091612</td>\n",
       "      <td>0.082519</td>\n",
       "      <td>0.0</td>\n",
       "      <td>0.0</td>\n",
       "    </tr>\n",
       "    <tr>\n",
       "      <th>3</th>\n",
       "      <td>-0.207352</td>\n",
       "      <td>-3.168567</td>\n",
       "      <td>0.326171</td>\n",
       "      <td>0.0</td>\n",
       "      <td>0.0</td>\n",
       "    </tr>\n",
       "    <tr>\n",
       "      <th>4</th>\n",
       "      <td>-0.207045</td>\n",
       "      <td>-3.142616</td>\n",
       "      <td>0.269531</td>\n",
       "      <td>0.0</td>\n",
       "      <td>0.0</td>\n",
       "    </tr>\n",
       "  </tbody>\n",
       "</table>\n",
       "</div>"
      ],
      "text/plain": [
       "          X         Y         Z  Slice_Index_1  Slice_Index_2\n",
       "0 -0.212528 -3.159503  0.288085            0.0            0.0\n",
       "1 -0.211027 -3.246203  0.534179            0.0            1.0\n",
       "2 -0.208232 -3.091612  0.082519            0.0            0.0\n",
       "3 -0.207352 -3.168567  0.326171            0.0            0.0\n",
       "4 -0.207045 -3.142616  0.269531            0.0            0.0"
      ]
     },
     "execution_count": 51,
     "metadata": {},
     "output_type": "execute_result"
    }
   ],
   "source": [
    "file_fin[\"X\"] = file_1[\"X\"]\n",
    "file_fin[\"Y\"] = file_1[\"Y\"]\n",
    "file_fin[\"Z\"] = file_1[\"Z\"]\n",
    "file_fin[\"Slice_Index_1\"] = file_1[\"Slice_Index\"]\n",
    "file_fin[\"Slice_Index_2\"] = file_2[\"Slice_Index\"]\n",
    "\n",
    "file_fin.head()"
   ]
  },
  {
   "cell_type": "code",
   "execution_count": 52,
   "metadata": {},
   "outputs": [],
   "source": [
    "file_fin.to_csv(f\"./data/slicing_data/plane_{flag}/data_csv/file_fin_plane{flag}.csv\",index=False)"
   ]
  },
  {
   "cell_type": "markdown",
   "metadata": {},
   "source": [
    "- 2.3.5 Generate Final pcd file of the targeted plane"
   ]
  },
  {
   "cell_type": "code",
   "execution_count": 53,
   "metadata": {},
   "outputs": [],
   "source": [
    "import os"
   ]
  },
  {
   "cell_type": "code",
   "execution_count": 54,
   "metadata": {},
   "outputs": [],
   "source": [
    "output_path = f\"./data/slicing_data/plane_{flag}/fin_point\"\n",
    "\n",
    "# 确保目标路径存在\n",
    "os.makedirs(output_path, exist_ok=True)"
   ]
  },
  {
   "cell_type": "code",
   "execution_count": 55,
   "metadata": {},
   "outputs": [],
   "source": [
    "from data_processing.extract_key_point.generate_final_parts import save_groups_to_pcd"
   ]
  },
  {
   "cell_type": "code",
   "execution_count": 56,
   "metadata": {},
   "outputs": [
    {
     "name": "stdout",
     "output_type": "stream",
     "text": [
      "Saved ./data/slicing_data/plane_2/fin_point/points_group_0.0_0.0.pcd with 21 points.\n",
      "Saved ./data/slicing_data/plane_2/fin_point/points_group_0.0_1.0.pcd with 19 points.\n",
      "Saved ./data/slicing_data/plane_2/fin_point/points_group_0.0_2.0.pcd with 22 points.\n",
      "Saved ./data/slicing_data/plane_2/fin_point/points_group_0.0_3.0.pcd with 21 points.\n",
      "Saved ./data/slicing_data/plane_2/fin_point/points_group_0.0_4.0.pcd with 22 points.\n",
      "Saved ./data/slicing_data/plane_2/fin_point/points_group_0.0_5.0.pcd with 19 points.\n",
      "Saved ./data/slicing_data/plane_2/fin_point/points_group_0.0_6.0.pcd with 20 points.\n",
      "Saved ./data/slicing_data/plane_2/fin_point/points_group_0.0_7.0.pcd with 19 points.\n",
      "Saved ./data/slicing_data/plane_2/fin_point/points_group_0.0_8.0.pcd with 19 points.\n",
      "Saved ./data/slicing_data/plane_2/fin_point/points_group_1.0_0.0.pcd with 18 points.\n",
      "Saved ./data/slicing_data/plane_2/fin_point/points_group_1.0_1.0.pcd with 27 points.\n",
      "Saved ./data/slicing_data/plane_2/fin_point/points_group_1.0_2.0.pcd with 76 points.\n",
      "Saved ./data/slicing_data/plane_2/fin_point/points_group_1.0_3.0.pcd with 59 points.\n",
      "Saved ./data/slicing_data/plane_2/fin_point/points_group_1.0_4.0.pcd with 70 points.\n",
      "Saved ./data/slicing_data/plane_2/fin_point/points_group_1.0_5.0.pcd with 54 points.\n",
      "Saved ./data/slicing_data/plane_2/fin_point/points_group_1.0_6.0.pcd with 57 points.\n",
      "Saved ./data/slicing_data/plane_2/fin_point/points_group_1.0_7.0.pcd with 48 points.\n",
      "Saved ./data/slicing_data/plane_2/fin_point/points_group_1.0_8.0.pcd with 18 points.\n",
      "Saved ./data/slicing_data/plane_2/fin_point/points_group_2.0_0.0.pcd with 70 points.\n",
      "Saved ./data/slicing_data/plane_2/fin_point/points_group_2.0_1.0.pcd with 79 points.\n",
      "Saved ./data/slicing_data/plane_2/fin_point/points_group_2.0_2.0.pcd with 72 points.\n",
      "Saved ./data/slicing_data/plane_2/fin_point/points_group_2.0_3.0.pcd with 70 points.\n",
      "Saved ./data/slicing_data/plane_2/fin_point/points_group_2.0_4.0.pcd with 68 points.\n",
      "Saved ./data/slicing_data/plane_2/fin_point/points_group_2.0_5.0.pcd with 69 points.\n",
      "Saved ./data/slicing_data/plane_2/fin_point/points_group_2.0_6.0.pcd with 29 points.\n",
      "Saved ./data/slicing_data/plane_2/fin_point/points_group_2.0_7.0.pcd with 14 points.\n",
      "Saved ./data/slicing_data/plane_2/fin_point/points_group_3.0_0.0.pcd with 11 points.\n",
      "Saved ./data/slicing_data/plane_2/fin_point/points_group_3.0_1.0.pcd with 60 points.\n",
      "Saved ./data/slicing_data/plane_2/fin_point/points_group_3.0_2.0.pcd with 121 points.\n",
      "Saved ./data/slicing_data/plane_2/fin_point/points_group_3.0_3.0.pcd with 74 points.\n",
      "Saved ./data/slicing_data/plane_2/fin_point/points_group_3.0_4.0.pcd with 81 points.\n",
      "Saved ./data/slicing_data/plane_2/fin_point/points_group_3.0_5.0.pcd with 87 points.\n",
      "Saved ./data/slicing_data/plane_2/fin_point/points_group_3.0_6.0.pcd with 82 points.\n",
      "Saved ./data/slicing_data/plane_2/fin_point/points_group_3.0_7.0.pcd with 48 points.\n",
      "Saved ./data/slicing_data/plane_2/fin_point/points_group_3.0_8.0.pcd with 18 points.\n",
      "Saved ./data/slicing_data/plane_2/fin_point/points_group_4.0_0.0.pcd with 47 points.\n",
      "Saved ./data/slicing_data/plane_2/fin_point/points_group_4.0_1.0.pcd with 85 points.\n",
      "Saved ./data/slicing_data/plane_2/fin_point/points_group_4.0_2.0.pcd with 51 points.\n",
      "Saved ./data/slicing_data/plane_2/fin_point/points_group_4.0_3.0.pcd with 82 points.\n",
      "Saved ./data/slicing_data/plane_2/fin_point/points_group_4.0_4.0.pcd with 57 points.\n",
      "Saved ./data/slicing_data/plane_2/fin_point/points_group_4.0_5.0.pcd with 49 points.\n",
      "Saved ./data/slicing_data/plane_2/fin_point/points_group_4.0_6.0.pcd with 41 points.\n",
      "Saved ./data/slicing_data/plane_2/fin_point/points_group_4.0_7.0.pcd with 7 points.\n",
      "Saved ./data/slicing_data/plane_2/fin_point/points_group_5.0_0.0.pcd with 94 points.\n",
      "Saved ./data/slicing_data/plane_2/fin_point/points_group_5.0_1.0.pcd with 100 points.\n",
      "Saved ./data/slicing_data/plane_2/fin_point/points_group_5.0_2.0.pcd with 81 points.\n",
      "Saved ./data/slicing_data/plane_2/fin_point/points_group_5.0_3.0.pcd with 92 points.\n",
      "Saved ./data/slicing_data/plane_2/fin_point/points_group_5.0_4.0.pcd with 74 points.\n",
      "Saved ./data/slicing_data/plane_2/fin_point/points_group_5.0_5.0.pcd with 73 points.\n",
      "Saved ./data/slicing_data/plane_2/fin_point/points_group_5.0_6.0.pcd with 64 points.\n",
      "Saved ./data/slicing_data/plane_2/fin_point/points_group_5.0_7.0.pcd with 17 points.\n",
      "Saved ./data/slicing_data/plane_2/fin_point/points_group_5.0_8.0.pcd with 9 points.\n",
      "Saved ./data/slicing_data/plane_2/fin_point/points_group_6.0_0.0.pcd with 138 points.\n",
      "Saved ./data/slicing_data/plane_2/fin_point/points_group_6.0_1.0.pcd with 151 points.\n",
      "Saved ./data/slicing_data/plane_2/fin_point/points_group_6.0_2.0.pcd with 129 points.\n",
      "Saved ./data/slicing_data/plane_2/fin_point/points_group_6.0_3.0.pcd with 140 points.\n",
      "Saved ./data/slicing_data/plane_2/fin_point/points_group_6.0_4.0.pcd with 123 points.\n",
      "Saved ./data/slicing_data/plane_2/fin_point/points_group_6.0_5.0.pcd with 98 points.\n",
      "Saved ./data/slicing_data/plane_2/fin_point/points_group_6.0_6.0.pcd with 82 points.\n",
      "Saved ./data/slicing_data/plane_2/fin_point/points_group_6.0_7.0.pcd with 22 points.\n",
      "Saved ./data/slicing_data/plane_2/fin_point/points_group_6.0_8.0.pcd with 16 points.\n",
      "Saved ./data/slicing_data/plane_2/fin_point/points_group_7.0_0.0.pcd with 194 points.\n",
      "Saved ./data/slicing_data/plane_2/fin_point/points_group_7.0_1.0.pcd with 186 points.\n",
      "Saved ./data/slicing_data/plane_2/fin_point/points_group_7.0_2.0.pcd with 133 points.\n",
      "Saved ./data/slicing_data/plane_2/fin_point/points_group_7.0_3.0.pcd with 153 points.\n",
      "Saved ./data/slicing_data/plane_2/fin_point/points_group_7.0_4.0.pcd with 130 points.\n",
      "Saved ./data/slicing_data/plane_2/fin_point/points_group_7.0_5.0.pcd with 93 points.\n",
      "Saved ./data/slicing_data/plane_2/fin_point/points_group_7.0_6.0.pcd with 101 points.\n",
      "Saved ./data/slicing_data/plane_2/fin_point/points_group_7.0_7.0.pcd with 28 points.\n",
      "Saved ./data/slicing_data/plane_2/fin_point/points_group_7.0_8.0.pcd with 19 points.\n",
      "Saved ./data/slicing_data/plane_2/fin_point/points_group_8.0_0.0.pcd with 125 points.\n",
      "Saved ./data/slicing_data/plane_2/fin_point/points_group_8.0_1.0.pcd with 162 points.\n",
      "Saved ./data/slicing_data/plane_2/fin_point/points_group_8.0_2.0.pcd with 175 points.\n",
      "Saved ./data/slicing_data/plane_2/fin_point/points_group_8.0_3.0.pcd with 115 points.\n",
      "Saved ./data/slicing_data/plane_2/fin_point/points_group_8.0_4.0.pcd with 136 points.\n",
      "Saved ./data/slicing_data/plane_2/fin_point/points_group_8.0_5.0.pcd with 115 points.\n",
      "Saved ./data/slicing_data/plane_2/fin_point/points_group_8.0_6.0.pcd with 84 points.\n",
      "Saved ./data/slicing_data/plane_2/fin_point/points_group_8.0_7.0.pcd with 54 points.\n",
      "Saved ./data/slicing_data/plane_2/fin_point/points_group_8.0_8.0.pcd with 17 points.\n",
      "Saved ./data/slicing_data/plane_2/fin_point/points_group_9.0_0.0.pcd with 54 points.\n",
      "Saved ./data/slicing_data/plane_2/fin_point/points_group_9.0_1.0.pcd with 56 points.\n",
      "Saved ./data/slicing_data/plane_2/fin_point/points_group_9.0_2.0.pcd with 87 points.\n",
      "Saved ./data/slicing_data/plane_2/fin_point/points_group_9.0_3.0.pcd with 43 points.\n",
      "Saved ./data/slicing_data/plane_2/fin_point/points_group_9.0_4.0.pcd with 73 points.\n",
      "Saved ./data/slicing_data/plane_2/fin_point/points_group_9.0_5.0.pcd with 47 points.\n",
      "Saved ./data/slicing_data/plane_2/fin_point/points_group_9.0_6.0.pcd with 49 points.\n",
      "Saved ./data/slicing_data/plane_2/fin_point/points_group_9.0_7.0.pcd with 33 points.\n",
      "Saved ./data/slicing_data/plane_2/fin_point/points_group_9.0_8.0.pcd with 14 points.\n",
      "Saved ./data/slicing_data/plane_2/fin_point/points_group_10.0_0.0.pcd with 65 points.\n",
      "Saved ./data/slicing_data/plane_2/fin_point/points_group_10.0_1.0.pcd with 37 points.\n",
      "Saved ./data/slicing_data/plane_2/fin_point/points_group_10.0_2.0.pcd with 23 points.\n",
      "Saved ./data/slicing_data/plane_2/fin_point/points_group_10.0_3.0.pcd with 86 points.\n",
      "Saved ./data/slicing_data/plane_2/fin_point/points_group_10.0_4.0.pcd with 118 points.\n",
      "Saved ./data/slicing_data/plane_2/fin_point/points_group_10.0_5.0.pcd with 95 points.\n",
      "Saved ./data/slicing_data/plane_2/fin_point/points_group_10.0_6.0.pcd with 85 points.\n",
      "Saved ./data/slicing_data/plane_2/fin_point/points_group_10.0_7.0.pcd with 32 points.\n",
      "Saved ./data/slicing_data/plane_2/fin_point/points_group_10.0_8.0.pcd with 18 points.\n",
      "Saved ./data/slicing_data/plane_2/fin_point/points_group_11.0_0.0.pcd with 41 points.\n",
      "Saved ./data/slicing_data/plane_2/fin_point/points_group_11.0_1.0.pcd with 108 points.\n",
      "Saved ./data/slicing_data/plane_2/fin_point/points_group_11.0_2.0.pcd with 30 points.\n",
      "Saved ./data/slicing_data/plane_2/fin_point/points_group_11.0_4.0.pcd with 17 points.\n",
      "Saved ./data/slicing_data/plane_2/fin_point/points_group_11.0_5.0.pcd with 43 points.\n",
      "Saved ./data/slicing_data/plane_2/fin_point/points_group_11.0_6.0.pcd with 65 points.\n",
      "Saved ./data/slicing_data/plane_2/fin_point/points_group_11.0_7.0.pcd with 19 points.\n",
      "Saved ./data/slicing_data/plane_2/fin_point/points_group_11.0_8.0.pcd with 11 points.\n",
      "Saved ./data/slicing_data/plane_2/fin_point/points_group_12.0_0.0.pcd with 42 points.\n",
      "Saved ./data/slicing_data/plane_2/fin_point/points_group_12.0_1.0.pcd with 114 points.\n",
      "Saved ./data/slicing_data/plane_2/fin_point/points_group_12.0_2.0.pcd with 74 points.\n",
      "Saved ./data/slicing_data/plane_2/fin_point/points_group_12.0_3.0.pcd with 39 points.\n",
      "Saved ./data/slicing_data/plane_2/fin_point/points_group_12.0_4.0.pcd with 1 points.\n",
      "Saved ./data/slicing_data/plane_2/fin_point/points_group_12.0_6.0.pcd with 7 points.\n",
      "Saved ./data/slicing_data/plane_2/fin_point/points_group_12.0_7.0.pcd with 11 points.\n",
      "Saved ./data/slicing_data/plane_2/fin_point/points_group_13.0_0.0.pcd with 31 points.\n",
      "Saved ./data/slicing_data/plane_2/fin_point/points_group_13.0_1.0.pcd with 47 points.\n",
      "Saved ./data/slicing_data/plane_2/fin_point/points_group_13.0_2.0.pcd with 56 points.\n",
      "Saved ./data/slicing_data/plane_2/fin_point/points_group_13.0_3.0.pcd with 64 points.\n",
      "Saved ./data/slicing_data/plane_2/fin_point/points_group_13.0_4.0.pcd with 31 points.\n",
      "Saved ./data/slicing_data/plane_2/fin_point/points_group_13.0_5.0.pcd with 30 points.\n",
      "Saved ./data/slicing_data/plane_2/fin_point/points_group_13.0_6.0.pcd with 19 points.\n",
      "Saved ./data/slicing_data/plane_2/fin_point/points_group_13.0_7.0.pcd with 10 points.\n",
      "Saved ./data/slicing_data/plane_2/fin_point/points_group_14.0_0.0.pcd with 41 points.\n",
      "Saved ./data/slicing_data/plane_2/fin_point/points_group_14.0_1.0.pcd with 38 points.\n",
      "Saved ./data/slicing_data/plane_2/fin_point/points_group_14.0_2.0.pcd with 47 points.\n",
      "Saved ./data/slicing_data/plane_2/fin_point/points_group_14.0_3.0.pcd with 36 points.\n",
      "Saved ./data/slicing_data/plane_2/fin_point/points_group_14.0_4.0.pcd with 51 points.\n",
      "Saved ./data/slicing_data/plane_2/fin_point/points_group_14.0_5.0.pcd with 39 points.\n",
      "Saved ./data/slicing_data/plane_2/fin_point/points_group_14.0_6.0.pcd with 15 points.\n",
      "Saved ./data/slicing_data/plane_2/fin_point/points_group_15.0_0.0.pcd with 73 points.\n",
      "Saved ./data/slicing_data/plane_2/fin_point/points_group_15.0_1.0.pcd with 51 points.\n",
      "Saved ./data/slicing_data/plane_2/fin_point/points_group_15.0_2.0.pcd with 66 points.\n",
      "Saved ./data/slicing_data/plane_2/fin_point/points_group_15.0_3.0.pcd with 64 points.\n",
      "Saved ./data/slicing_data/plane_2/fin_point/points_group_15.0_4.0.pcd with 59 points.\n",
      "Saved ./data/slicing_data/plane_2/fin_point/points_group_15.0_5.0.pcd with 55 points.\n",
      "Saved ./data/slicing_data/plane_2/fin_point/points_group_15.0_6.0.pcd with 8 points.\n",
      "Saved ./data/slicing_data/plane_2/fin_point/points_group_16.0_0.0.pcd with 70 points.\n",
      "Saved ./data/slicing_data/plane_2/fin_point/points_group_16.0_1.0.pcd with 47 points.\n",
      "Saved ./data/slicing_data/plane_2/fin_point/points_group_16.0_2.0.pcd with 52 points.\n",
      "Saved ./data/slicing_data/plane_2/fin_point/points_group_16.0_3.0.pcd with 56 points.\n",
      "Saved ./data/slicing_data/plane_2/fin_point/points_group_16.0_4.0.pcd with 54 points.\n",
      "Saved ./data/slicing_data/plane_2/fin_point/points_group_16.0_5.0.pcd with 43 points.\n",
      "Saved ./data/slicing_data/plane_2/fin_point/points_group_16.0_6.0.pcd with 14 points.\n",
      "Saved ./data/slicing_data/plane_2/fin_point/points_group_17.0_0.0.pcd with 44 points.\n",
      "Saved ./data/slicing_data/plane_2/fin_point/points_group_17.0_1.0.pcd with 39 points.\n",
      "Saved ./data/slicing_data/plane_2/fin_point/points_group_17.0_2.0.pcd with 42 points.\n",
      "Saved ./data/slicing_data/plane_2/fin_point/points_group_17.0_3.0.pcd with 48 points.\n",
      "Saved ./data/slicing_data/plane_2/fin_point/points_group_17.0_4.0.pcd with 42 points.\n",
      "Saved ./data/slicing_data/plane_2/fin_point/points_group_17.0_5.0.pcd with 47 points.\n",
      "Saved ./data/slicing_data/plane_2/fin_point/points_group_17.0_6.0.pcd with 24 points.\n",
      "Saved ./data/slicing_data/plane_2/fin_point/points_group_18.0_0.0.pcd with 45 points.\n",
      "Saved ./data/slicing_data/plane_2/fin_point/points_group_18.0_1.0.pcd with 40 points.\n",
      "Saved ./data/slicing_data/plane_2/fin_point/points_group_18.0_2.0.pcd with 44 points.\n",
      "Saved ./data/slicing_data/plane_2/fin_point/points_group_18.0_3.0.pcd with 52 points.\n",
      "Saved ./data/slicing_data/plane_2/fin_point/points_group_18.0_4.0.pcd with 41 points.\n",
      "Saved ./data/slicing_data/plane_2/fin_point/points_group_18.0_5.0.pcd with 47 points.\n",
      "Saved ./data/slicing_data/plane_2/fin_point/points_group_18.0_6.0.pcd with 19 points.\n",
      "Saved ./data/slicing_data/plane_2/fin_point/points_group_18.0_7.0.pcd with 5 points.\n",
      "Saved ./data/slicing_data/plane_2/fin_point/points_group_19.0_0.0.pcd with 45 points.\n",
      "Saved ./data/slicing_data/plane_2/fin_point/points_group_19.0_1.0.pcd with 62 points.\n",
      "Saved ./data/slicing_data/plane_2/fin_point/points_group_19.0_2.0.pcd with 73 points.\n",
      "Saved ./data/slicing_data/plane_2/fin_point/points_group_19.0_3.0.pcd with 64 points.\n",
      "Saved ./data/slicing_data/plane_2/fin_point/points_group_19.0_4.0.pcd with 62 points.\n",
      "Saved ./data/slicing_data/plane_2/fin_point/points_group_19.0_5.0.pcd with 60 points.\n",
      "Saved ./data/slicing_data/plane_2/fin_point/points_group_19.0_6.0.pcd with 21 points.\n",
      "Saved ./data/slicing_data/plane_2/fin_point/points_group_19.0_7.0.pcd with 10 points.\n",
      "Saved ./data/slicing_data/plane_2/fin_point/points_group_20.0_0.0.pcd with 35 points.\n",
      "Saved ./data/slicing_data/plane_2/fin_point/points_group_20.0_1.0.pcd with 41 points.\n",
      "Saved ./data/slicing_data/plane_2/fin_point/points_group_20.0_2.0.pcd with 49 points.\n",
      "Saved ./data/slicing_data/plane_2/fin_point/points_group_20.0_3.0.pcd with 33 points.\n",
      "Saved ./data/slicing_data/plane_2/fin_point/points_group_20.0_4.0.pcd with 48 points.\n",
      "Saved ./data/slicing_data/plane_2/fin_point/points_group_20.0_5.0.pcd with 40 points.\n",
      "Saved ./data/slicing_data/plane_2/fin_point/points_group_20.0_6.0.pcd with 13 points.\n",
      "Saved ./data/slicing_data/plane_2/fin_point/points_group_21.0_0.0.pcd with 29 points.\n",
      "Saved ./data/slicing_data/plane_2/fin_point/points_group_21.0_1.0.pcd with 50 points.\n",
      "Saved ./data/slicing_data/plane_2/fin_point/points_group_21.0_2.0.pcd with 54 points.\n",
      "Saved ./data/slicing_data/plane_2/fin_point/points_group_21.0_3.0.pcd with 51 points.\n",
      "Saved ./data/slicing_data/plane_2/fin_point/points_group_21.0_4.0.pcd with 51 points.\n",
      "Saved ./data/slicing_data/plane_2/fin_point/points_group_21.0_5.0.pcd with 60 points.\n",
      "Saved ./data/slicing_data/plane_2/fin_point/points_group_21.0_6.0.pcd with 27 points.\n",
      "Saved ./data/slicing_data/plane_2/fin_point/points_group_21.0_7.0.pcd with 21 points.\n",
      "Saved ./data/slicing_data/plane_2/fin_point/points_group_22.0_0.0.pcd with 22 points.\n",
      "Saved ./data/slicing_data/plane_2/fin_point/points_group_22.0_1.0.pcd with 78 points.\n",
      "Saved ./data/slicing_data/plane_2/fin_point/points_group_22.0_2.0.pcd with 69 points.\n",
      "Saved ./data/slicing_data/plane_2/fin_point/points_group_22.0_3.0.pcd with 80 points.\n",
      "Saved ./data/slicing_data/plane_2/fin_point/points_group_22.0_4.0.pcd with 78 points.\n",
      "Saved ./data/slicing_data/plane_2/fin_point/points_group_22.0_5.0.pcd with 73 points.\n",
      "Saved ./data/slicing_data/plane_2/fin_point/points_group_22.0_6.0.pcd with 60 points.\n",
      "Saved ./data/slicing_data/plane_2/fin_point/points_group_22.0_7.0.pcd with 20 points.\n",
      "Saved ./data/slicing_data/plane_2/fin_point/points_group_23.0_0.0.pcd with 55 points.\n",
      "Saved ./data/slicing_data/plane_2/fin_point/points_group_23.0_1.0.pcd with 87 points.\n",
      "Saved ./data/slicing_data/plane_2/fin_point/points_group_23.0_2.0.pcd with 83 points.\n",
      "Saved ./data/slicing_data/plane_2/fin_point/points_group_23.0_3.0.pcd with 80 points.\n",
      "Saved ./data/slicing_data/plane_2/fin_point/points_group_23.0_4.0.pcd with 58 points.\n",
      "Saved ./data/slicing_data/plane_2/fin_point/points_group_23.0_5.0.pcd with 26 points.\n",
      "Saved ./data/slicing_data/plane_2/fin_point/points_group_23.0_6.0.pcd with 3 points.\n",
      "Saved ./data/slicing_data/plane_2/fin_point/points_group_24.0_0.0.pcd with 65 points.\n",
      "Saved ./data/slicing_data/plane_2/fin_point/points_group_24.0_1.0.pcd with 80 points.\n",
      "Saved ./data/slicing_data/plane_2/fin_point/points_group_24.0_2.0.pcd with 56 points.\n",
      "Saved ./data/slicing_data/plane_2/fin_point/points_group_24.0_3.0.pcd with 46 points.\n",
      "Saved ./data/slicing_data/plane_2/fin_point/points_group_24.0_4.0.pcd with 38 points.\n",
      "Saved ./data/slicing_data/plane_2/fin_point/points_group_24.0_5.0.pcd with 49 points.\n",
      "Saved ./data/slicing_data/plane_2/fin_point/points_group_24.0_6.0.pcd with 54 points.\n",
      "Saved ./data/slicing_data/plane_2/fin_point/points_group_24.0_7.0.pcd with 37 points.\n",
      "Saved ./data/slicing_data/plane_2/fin_point/points_group_24.0_8.0.pcd with 31 points.\n",
      "Saved ./data/slicing_data/plane_2/fin_point/points_group_25.0_0.0.pcd with 59 points.\n",
      "Saved ./data/slicing_data/plane_2/fin_point/points_group_25.0_1.0.pcd with 72 points.\n",
      "Saved ./data/slicing_data/plane_2/fin_point/points_group_25.0_2.0.pcd with 48 points.\n",
      "Saved ./data/slicing_data/plane_2/fin_point/points_group_25.0_3.0.pcd with 38 points.\n",
      "Saved ./data/slicing_data/plane_2/fin_point/points_group_25.0_4.0.pcd with 67 points.\n",
      "Saved ./data/slicing_data/plane_2/fin_point/points_group_25.0_5.0.pcd with 49 points.\n",
      "Saved ./data/slicing_data/plane_2/fin_point/points_group_25.0_6.0.pcd with 63 points.\n",
      "Saved ./data/slicing_data/plane_2/fin_point/points_group_25.0_7.0.pcd with 39 points.\n",
      "Saved ./data/slicing_data/plane_2/fin_point/points_group_25.0_8.0.pcd with 17 points.\n",
      "Saved ./data/slicing_data/plane_2/fin_point/points_group_26.0_0.0.pcd with 69 points.\n",
      "Saved ./data/slicing_data/plane_2/fin_point/points_group_26.0_1.0.pcd with 100 points.\n",
      "Saved ./data/slicing_data/plane_2/fin_point/points_group_26.0_2.0.pcd with 128 points.\n",
      "Saved ./data/slicing_data/plane_2/fin_point/points_group_26.0_3.0.pcd with 96 points.\n",
      "Saved ./data/slicing_data/plane_2/fin_point/points_group_26.0_4.0.pcd with 105 points.\n",
      "Saved ./data/slicing_data/plane_2/fin_point/points_group_26.0_5.0.pcd with 66 points.\n",
      "Saved ./data/slicing_data/plane_2/fin_point/points_group_26.0_6.0.pcd with 77 points.\n",
      "Saved ./data/slicing_data/plane_2/fin_point/points_group_26.0_7.0.pcd with 64 points.\n",
      "Saved ./data/slicing_data/plane_2/fin_point/points_group_26.0_8.0.pcd with 20 points.\n",
      "Saved ./data/slicing_data/plane_2/fin_point/points_group_27.0_0.0.pcd with 120 points.\n",
      "Saved ./data/slicing_data/plane_2/fin_point/points_group_27.0_1.0.pcd with 124 points.\n",
      "Saved ./data/slicing_data/plane_2/fin_point/points_group_27.0_2.0.pcd with 92 points.\n",
      "Saved ./data/slicing_data/plane_2/fin_point/points_group_27.0_3.0.pcd with 100 points.\n",
      "Saved ./data/slicing_data/plane_2/fin_point/points_group_27.0_4.0.pcd with 93 points.\n",
      "Saved ./data/slicing_data/plane_2/fin_point/points_group_27.0_5.0.pcd with 75 points.\n",
      "Saved ./data/slicing_data/plane_2/fin_point/points_group_27.0_6.0.pcd with 75 points.\n",
      "Saved ./data/slicing_data/plane_2/fin_point/points_group_27.0_7.0.pcd with 22 points.\n",
      "Saved ./data/slicing_data/plane_2/fin_point/points_group_27.0_8.0.pcd with 13 points.\n",
      "Saved ./data/slicing_data/plane_2/fin_point/points_group_28.0_0.0.pcd with 105 points.\n",
      "Saved ./data/slicing_data/plane_2/fin_point/points_group_28.0_1.0.pcd with 107 points.\n",
      "Saved ./data/slicing_data/plane_2/fin_point/points_group_28.0_2.0.pcd with 93 points.\n",
      "Saved ./data/slicing_data/plane_2/fin_point/points_group_28.0_3.0.pcd with 110 points.\n",
      "Saved ./data/slicing_data/plane_2/fin_point/points_group_28.0_4.0.pcd with 89 points.\n",
      "Saved ./data/slicing_data/plane_2/fin_point/points_group_28.0_5.0.pcd with 74 points.\n",
      "Saved ./data/slicing_data/plane_2/fin_point/points_group_28.0_6.0.pcd with 81 points.\n",
      "Saved ./data/slicing_data/plane_2/fin_point/points_group_28.0_7.0.pcd with 19 points.\n",
      "Saved ./data/slicing_data/plane_2/fin_point/points_group_28.0_8.0.pcd with 8 points.\n",
      "Saved ./data/slicing_data/plane_2/fin_point/points_group_29.0_0.0.pcd with 50 points.\n",
      "Saved ./data/slicing_data/plane_2/fin_point/points_group_29.0_1.0.pcd with 55 points.\n",
      "Saved ./data/slicing_data/plane_2/fin_point/points_group_29.0_2.0.pcd with 42 points.\n",
      "Saved ./data/slicing_data/plane_2/fin_point/points_group_29.0_3.0.pcd with 37 points.\n",
      "Saved ./data/slicing_data/plane_2/fin_point/points_group_29.0_4.0.pcd with 41 points.\n",
      "Saved ./data/slicing_data/plane_2/fin_point/points_group_29.0_5.0.pcd with 37 points.\n",
      "Saved ./data/slicing_data/plane_2/fin_point/points_group_29.0_6.0.pcd with 36 points.\n",
      "Saved ./data/slicing_data/plane_2/fin_point/points_group_29.0_7.0.pcd with 6 points.\n",
      "Saved ./data/slicing_data/plane_2/fin_point/points_group_29.0_8.0.pcd with 6 points.\n",
      "Saved ./data/slicing_data/plane_2/fin_point/points_group_30.0_0.0.pcd with 33 points.\n",
      "Saved ./data/slicing_data/plane_2/fin_point/points_group_30.0_1.0.pcd with 89 points.\n",
      "Saved ./data/slicing_data/plane_2/fin_point/points_group_30.0_2.0.pcd with 79 points.\n",
      "Saved ./data/slicing_data/plane_2/fin_point/points_group_30.0_3.0.pcd with 79 points.\n",
      "Saved ./data/slicing_data/plane_2/fin_point/points_group_30.0_4.0.pcd with 77 points.\n",
      "Saved ./data/slicing_data/plane_2/fin_point/points_group_30.0_5.0.pcd with 66 points.\n",
      "Saved ./data/slicing_data/plane_2/fin_point/points_group_30.0_6.0.pcd with 67 points.\n",
      "Saved ./data/slicing_data/plane_2/fin_point/points_group_30.0_7.0.pcd with 25 points.\n",
      "Saved ./data/slicing_data/plane_2/fin_point/points_group_30.0_8.0.pcd with 7 points.\n",
      "Saved ./data/slicing_data/plane_2/fin_point/points_group_31.0_0.0.pcd with 25 points.\n",
      "Saved ./data/slicing_data/plane_2/fin_point/points_group_31.0_1.0.pcd with 71 points.\n",
      "Saved ./data/slicing_data/plane_2/fin_point/points_group_31.0_2.0.pcd with 74 points.\n",
      "Saved ./data/slicing_data/plane_2/fin_point/points_group_31.0_3.0.pcd with 79 points.\n",
      "Saved ./data/slicing_data/plane_2/fin_point/points_group_31.0_4.0.pcd with 67 points.\n",
      "Saved ./data/slicing_data/plane_2/fin_point/points_group_31.0_5.0.pcd with 63 points.\n",
      "Saved ./data/slicing_data/plane_2/fin_point/points_group_31.0_6.0.pcd with 60 points.\n",
      "Saved ./data/slicing_data/plane_2/fin_point/points_group_31.0_7.0.pcd with 19 points.\n",
      "Saved ./data/slicing_data/plane_2/fin_point/points_group_31.0_8.0.pcd with 5 points.\n",
      "Saved ./data/slicing_data/plane_2/fin_point/points_group_32.0_0.0.pcd with 32 points.\n",
      "Saved ./data/slicing_data/plane_2/fin_point/points_group_32.0_1.0.pcd with 76 points.\n",
      "Saved ./data/slicing_data/plane_2/fin_point/points_group_32.0_2.0.pcd with 42 points.\n",
      "Saved ./data/slicing_data/plane_2/fin_point/points_group_32.0_3.0.pcd with 74 points.\n",
      "Saved ./data/slicing_data/plane_2/fin_point/points_group_32.0_4.0.pcd with 61 points.\n",
      "Saved ./data/slicing_data/plane_2/fin_point/points_group_32.0_5.0.pcd with 55 points.\n",
      "Saved ./data/slicing_data/plane_2/fin_point/points_group_32.0_6.0.pcd with 42 points.\n",
      "Saved ./data/slicing_data/plane_2/fin_point/points_group_32.0_7.0.pcd with 18 points.\n",
      "Saved ./data/slicing_data/plane_2/fin_point/points_group_33.0_0.0.pcd with 31 points.\n",
      "Saved ./data/slicing_data/plane_2/fin_point/points_group_33.0_1.0.pcd with 38 points.\n",
      "Saved ./data/slicing_data/plane_2/fin_point/points_group_33.0_2.0.pcd with 45 points.\n",
      "Saved ./data/slicing_data/plane_2/fin_point/points_group_33.0_3.0.pcd with 42 points.\n",
      "Saved ./data/slicing_data/plane_2/fin_point/points_group_33.0_4.0.pcd with 51 points.\n",
      "Saved ./data/slicing_data/plane_2/fin_point/points_group_33.0_5.0.pcd with 41 points.\n",
      "Saved ./data/slicing_data/plane_2/fin_point/points_group_33.0_6.0.pcd with 16 points.\n",
      "Saved ./data/slicing_data/plane_2/fin_point/points_group_33.0_7.0.pcd with 9 points.\n",
      "Saved ./data/slicing_data/plane_2/fin_point/points_group_34.0_0.0.pcd with 18 points.\n",
      "Saved ./data/slicing_data/plane_2/fin_point/points_group_34.0_1.0.pcd with 18 points.\n",
      "Saved ./data/slicing_data/plane_2/fin_point/points_group_34.0_2.0.pcd with 12 points.\n",
      "Saved ./data/slicing_data/plane_2/fin_point/points_group_34.0_3.0.pcd with 11 points.\n",
      "Saved ./data/slicing_data/plane_2/fin_point/points_group_34.0_4.0.pcd with 3 points.\n",
      "Saved ./data/slicing_data/plane_2/fin_point/points_group_34.0_5.0.pcd with 4 points.\n",
      "Saved ./data/slicing_data/plane_2/fin_point/points_group_34.0_6.0.pcd with 1 points.\n"
     ]
    }
   ],
   "source": [
    "csv_file_path = f\"./data/slicing_data/plane_{flag}/data_csv/file_fin_plane{flag}.csv\"\n",
    "output_path = f\"./data/slicing_data/plane_{flag}/fin_point\"\n",
    "save_groups_to_pcd(csv_file_path, output_path)"
   ]
  },
  {
   "cell_type": "markdown",
   "metadata": {},
   "source": [
    "- 2.3.6 Calculate the Centroid Point"
   ]
  },
  {
   "cell_type": "code",
   "execution_count": 57,
   "metadata": {},
   "outputs": [],
   "source": [
    "from data_processing.extract_key_point.centroid_point import calculate_centroids_and_save"
   ]
  },
  {
   "cell_type": "code",
   "execution_count": 58,
   "metadata": {},
   "outputs": [],
   "source": [
    "input_folder = f\"./data/slicing_data/plane_{flag}/fin_point\"\n",
    "output_path = \"./data/centroid_data\"\n",
    "output_file = output_path + f\"/plane{flag}_centroids.pcd\"\n",
    "\n",
    "os.makedirs(output_path, exist_ok=True)"
   ]
  },
  {
   "cell_type": "code",
   "execution_count": 59,
   "metadata": {},
   "outputs": [
    {
     "name": "stdout",
     "output_type": "stream",
     "text": [
      "Saved centroid point cloud to ./data/centroid_data/plane2_centroids.pcd\n"
     ]
    }
   ],
   "source": [
    "calculate_centroids_and_save(input_folder, output_file)"
   ]
  },
  {
   "cell_type": "markdown",
   "metadata": {},
   "source": [
    "- By then, we got the centroid point of the target plane!"
   ]
  },
  {
   "cell_type": "markdown",
   "metadata": {},
   "source": [
    "- By doing this for n times, we can get the centroid points for each plane"
   ]
  },
  {
   "cell_type": "markdown",
   "metadata": {},
   "source": [
    "### 2.4 : Supplementary operation"
   ]
  },
  {
   "cell_type": "markdown",
   "metadata": {},
   "source": [
    "- We also need to do some extra works for acquiring a better model"
   ]
  },
  {
   "cell_type": "markdown",
   "metadata": {},
   "source": [
    "- 2.4.1 calculate the intersection line of each 2 planes & generate virtual point cloud for connecting planes"
   ]
  },
  {
   "cell_type": "code",
   "execution_count": 60,
   "metadata": {},
   "outputs": [],
   "source": [
    "from data_processing.surface_intersection_line import find_intersection_point, cross_product"
   ]
  },
  {
   "cell_type": "code",
   "execution_count": 76,
   "metadata": {},
   "outputs": [
    {
     "data": {
      "text/plain": [
       "[array([-8.45630394e-04, -9.50798637e-01,  3.09808388e-01,  3.23398910e+00]),\n",
       " array([-0.00322006, -0.00111234,  0.9999942 , -0.01966359]),\n",
       " array([ 1.03347937e-03, -9.47036720e-01, -3.21123626e-01, -2.87827417e+00])]"
      ]
     },
     "execution_count": 76,
     "metadata": {},
     "output_type": "execute_result"
    }
   ],
   "source": [
    "refined_planes"
   ]
  },
  {
   "cell_type": "code",
   "execution_count": 106,
   "metadata": {},
   "outputs": [],
   "source": [
    "#哪两个面进行求交线操作\n",
    "a = 1\n",
    "b = 0"
   ]
  },
  {
   "cell_type": "code",
   "execution_count": 107,
   "metadata": {},
   "outputs": [
    {
     "name": "stdout",
     "output_type": "stream",
     "text": [
      "平面1和平面0的交线方向向量： [9.50448507e-01 1.51975010e-04 3.06068465e-03]\n",
      "平面1和平面0的交线上的一点： [0.         3.40898245 0.02345567]\n"
     ]
    }
   ],
   "source": [
    "direction = cross_product(np.array(refined_planes[a][:3]), np.array(refined_planes[b][:3]))\n",
    "point_on_line = find_intersection_point(refined_planes[a], refined_planes[b], direction)\n",
    "print(f\"平面{a}和平面{b}的交线方向向量：\",direction)\n",
    "print(f\"平面{a}和平面{b}的交线上的一点：\",point_on_line)"
   ]
  },
  {
   "cell_type": "code",
   "execution_count": 108,
   "metadata": {},
   "outputs": [],
   "source": [
    "start_point = np.array(point_on_line)\n",
    "direction = np.array(direction)\n",
    "\n",
    "# 归一化方向向量\n",
    "direction_normalized = direction / np.linalg.norm(direction)\n",
    "# 设定p_max的值\n",
    "p_max = 17  # 假设值，根据需要调整\n",
    "# 每隔0.5的距离\n",
    "distance = 0.5"
   ]
  },
  {
   "cell_type": "code",
   "execution_count": 109,
   "metadata": {},
   "outputs": [],
   "source": [
    "from tqdm import tqdm"
   ]
  },
  {
   "cell_type": "code",
   "execution_count": 110,
   "metadata": {},
   "outputs": [],
   "source": [
    "# 计算预期的迭代次数\n",
    "max_distance = p_max - start_point[0]\n",
    "estimated_steps = int(max_distance / distance)"
   ]
  },
  {
   "cell_type": "code",
   "execution_count": 111,
   "metadata": {},
   "outputs": [
    {
     "name": "stderr",
     "output_type": "stream",
     "text": [
      "Generating points: 100%|██████████| 34/34 [00:00<?, ?it/s]\n"
     ]
    }
   ],
   "source": [
    "# 计算点的序列并加入tqdm进度条\n",
    "points = []\n",
    "current_point = start_point\n",
    "# 使用tqdm包装range对象，提供预计的迭代次数\n",
    "for _ in tqdm(range(estimated_steps), desc=\"Generating points\"):\n",
    "    if current_point[0] <= p_max:\n",
    "        points.append(current_point)\n",
    "        current_point = current_point + direction_normalized * distance\n",
    "    else:\n",
    "        break  # 如果当前点超过了最大值，则停止循环"
   ]
  },
  {
   "cell_type": "code",
   "execution_count": 112,
   "metadata": {},
   "outputs": [
    {
     "data": {
      "text/plain": [
       "True"
      ]
     },
     "execution_count": 112,
     "metadata": {},
     "output_type": "execute_result"
    }
   ],
   "source": [
    "points_array = np.array(points)\n",
    "#print(points)\n",
    "\n",
    "# 创建点云对象\n",
    "point_cloud = o3d.geometry.PointCloud()\n",
    "\n",
    "# 将NumPy数组中的点添加到点云中\n",
    "point_cloud.points = o3d.utility.Vector3dVector(points_array)\n",
    "\n",
    "output_path = \"./data/extra_data\"\n",
    "os.makedirs(output_path, exist_ok=True)\n",
    "# 保存点云到PCD文件\n",
    "o3d.io.write_point_cloud(output_path + f\"/extra_plane{a}_plane{b}.pcd\", point_cloud, write_ascii=False)"
   ]
  },
  {
   "cell_type": "code",
   "execution_count": 115,
   "metadata": {},
   "outputs": [],
   "source": [
    "visualize_pcds([f'data/extra_data/extra_plane{a}_plane{b}.pcd'\n",
    "                ,f'./data/centroid_data/plane{a}_centroids.pcd'\n",
    "                ,f'./data/centroid_data/plane{b}_centroids.pcd'])"
   ]
  },
  {
   "cell_type": "markdown",
   "metadata": {},
   "source": [
    "- 如果与实际情况不相符，请尝试调转面a,b的赋值\n",
    "- 若想求指定x数值的在交线上的起始点，请尝试调用find_point_on_line函数\n",
    "- 若要求多组平面的相交线，请更改a,b值进行并重新运行本模块的代码"
   ]
  },
  {
   "cell_type": "markdown",
   "metadata": {},
   "source": [
    "- 2.4.2 合并上述点云数据"
   ]
  },
  {
   "cell_type": "code",
   "execution_count": 2,
   "metadata": {},
   "outputs": [],
   "source": [
    "from data_processing.extract_key_point.merge_pcd import merge_pcd_files"
   ]
  },
  {
   "cell_type": "code",
   "execution_count": 4,
   "metadata": {},
   "outputs": [
    {
     "name": "stdout",
     "output_type": "stream",
     "text": [
      "Saved merged point cloud to ./data/centroid_data/merged_centroid.pcd\n"
     ]
    }
   ],
   "source": [
    "#merged centroid points\n",
    "pcd_file_dir = \"./data/centroid_data\"\n",
    "output_pcd_file = './data/centroid_data/merged_centroid.pcd'\n",
    "\n",
    "merge_pcd_files(pcd_file_dir, output_pcd_file)"
   ]
  },
  {
   "cell_type": "code",
   "execution_count": 7,
   "metadata": {},
   "outputs": [
    {
     "name": "stdout",
     "output_type": "stream",
     "text": [
      "Saved merged point cloud to ./data/extra_data/merged_extra.pcd\n"
     ]
    }
   ],
   "source": [
    "#merged extra generated data (lines)\n",
    "pcd_file_dir = \"./data/extra_data\"\n",
    "output_pcd_file = './data/extra_data/merged_extra.pcd'\n",
    "\n",
    "merge_pcd_files(pcd_file_dir, output_pcd_file)"
   ]
  },
  {
   "cell_type": "code",
   "execution_count": 8,
   "metadata": {},
   "outputs": [],
   "source": [
    "merged_pcd = o3d.geometry.PointCloud()\n",
    "\n",
    "pcd_1 = o3d.io.read_point_cloud(\"./data/centroid_data/merged_centroid.pcd\")\n",
    "pcd_2 = o3d.io.read_point_cloud(\"./data/extra_data/merged_extra.pcd\")\n",
    "\n",
    "output_path = \"./data/final_data\"\n",
    "file_name = \"/final_point_cloud.pcd\"\n",
    "output_file = output_path + file_name\n",
    "\n",
    "os.makedirs(output_path, exist_ok=True)"
   ]
  },
  {
   "cell_type": "code",
   "execution_count": 9,
   "metadata": {},
   "outputs": [
    {
     "name": "stdout",
     "output_type": "stream",
     "text": [
      "Saved merged point cloud to ./data/final_data/final_point_cloud.pcd\n"
     ]
    }
   ],
   "source": [
    "merged_pcd = pcd_1 + pcd_2\n",
    "\n",
    "o3d.io.write_point_cloud(output_file, merged_pcd)\n",
    "print(f\"Saved merged point cloud to {output_file}\")"
   ]
  },
  {
   "cell_type": "code",
   "execution_count": 10,
   "metadata": {},
   "outputs": [
    {
     "name": "stdout",
     "output_type": "stream",
     "text": [
      "Saved merged point cloud to ./data/final_data/final_point_cloud_p0.pcd\n"
     ]
    }
   ],
   "source": [
    "#分平面的点云数据\n",
    "merged_pcd = o3d.geometry.PointCloud()\n",
    "\n",
    "pcd_1 = o3d.io.read_point_cloud(\"./data/centroid_data/plane0_centroids.pcd\")\n",
    "pcd_2 = o3d.io.read_point_cloud(\"./data/extra_data/extra_plane1_plane0.pcd\")\n",
    "\n",
    "merged_pcd = pcd_1 + pcd_2\n",
    "\n",
    "output_path = \"./data/final_data\"\n",
    "file_name = \"/final_point_cloud_p0.pcd\"\n",
    "output_file = output_path + file_name\n",
    "\n",
    "o3d.io.write_point_cloud(output_file, merged_pcd)\n",
    "print(f\"Saved merged point cloud to {output_file}\")"
   ]
  },
  {
   "cell_type": "code",
   "execution_count": 11,
   "metadata": {},
   "outputs": [
    {
     "name": "stdout",
     "output_type": "stream",
     "text": [
      "Saved merged point cloud to ./data/final_data/final_point_cloud_p1.pcd\n"
     ]
    }
   ],
   "source": [
    "merged_pcd = o3d.geometry.PointCloud()\n",
    "\n",
    "pcd_1 = o3d.io.read_point_cloud(\"./data/centroid_data/plane1_centroids.pcd\")\n",
    "pcd_2 = o3d.io.read_point_cloud(\"./data/extra_data/extra_plane1_plane0.pcd\")\n",
    "pcd_3 = o3d.io.read_point_cloud(\"./data/extra_data/extra_plane1_plane2.pcd\")\n",
    "\n",
    "merged_pcd = pcd_1 + pcd_2 + pcd_3\n",
    "\n",
    "output_path = \"./data/final_data\"\n",
    "file_name = \"/final_point_cloud_p1.pcd\"\n",
    "output_file = output_path + file_name\n",
    "\n",
    "o3d.io.write_point_cloud(output_file, merged_pcd)\n",
    "print(f\"Saved merged point cloud to {output_file}\")"
   ]
  },
  {
   "cell_type": "code",
   "execution_count": 12,
   "metadata": {},
   "outputs": [
    {
     "name": "stdout",
     "output_type": "stream",
     "text": [
      "Saved merged point cloud to ./data/final_data/final_point_cloud_p2.pcd\n"
     ]
    }
   ],
   "source": [
    "merged_pcd = o3d.geometry.PointCloud()\n",
    "\n",
    "pcd_1 = o3d.io.read_point_cloud(\"./data/centroid_data/plane2_centroids.pcd\")\n",
    "pcd_2 = o3d.io.read_point_cloud(\"./data/extra_data/extra_plane1_plane2.pcd\")\n",
    "\n",
    "merged_pcd = pcd_1 + pcd_2\n",
    "\n",
    "output_path = \"./data/final_data\"\n",
    "file_name = \"/final_point_cloud_p2.pcd\"\n",
    "output_file = output_path + file_name\n",
    "\n",
    "o3d.io.write_point_cloud(output_file, merged_pcd)\n",
    "print(f\"Saved merged point cloud to {output_file}\")"
   ]
  },
  {
   "cell_type": "markdown",
   "metadata": {},
   "source": [
    "- 2.4.3 Format Transformation"
   ]
  },
  {
   "cell_type": "code",
   "execution_count": 12,
   "metadata": {},
   "outputs": [],
   "source": [
    "flag = 2 #处理哪个面"
   ]
  },
  {
   "cell_type": "code",
   "execution_count": 13,
   "metadata": {},
   "outputs": [],
   "source": [
    "from format_transformation.binary_to_ascii import binary_to_ascii"
   ]
  },
  {
   "cell_type": "code",
   "execution_count": 14,
   "metadata": {},
   "outputs": [
    {
     "name": "stdout",
     "output_type": "stream",
     "text": [
      "Hello, world!\n",
      "PointCloud_source has: 323 data points.\n"
     ]
    }
   ],
   "source": [
    "#.pcd ----> .csv\n",
    "filename = f\"./data/final_data/final_point_cloud_p{flag}.pcd\"\n",
    "output_filename = f\"./data/final_data/final_point_cloud_p{flag}_ascii.pcd\"\n",
    "\n",
    "binary_to_ascii(filename, output_filename)"
   ]
  },
  {
   "cell_type": "code",
   "execution_count": 15,
   "metadata": {},
   "outputs": [],
   "source": [
    "from format_transformation.pcd2txt import pcd_to_txt"
   ]
  },
  {
   "cell_type": "code",
   "execution_count": 16,
   "metadata": {},
   "outputs": [],
   "source": [
    "pcd_file = f\"./data/final_data/final_point_cloud_p{flag}_ascii.pcd\"\n",
    "txt_file = f\"./data/final_data/final_point_cloud_p{flag}_txt.txt\"\n",
    "pcd_to_txt(pcd_file, txt_file)"
   ]
  },
  {
   "cell_type": "code",
   "execution_count": 17,
   "metadata": {},
   "outputs": [],
   "source": [
    "from format_transformation.txt_2_csv import txt_to_csv_with_columns"
   ]
  },
  {
   "cell_type": "code",
   "execution_count": 18,
   "metadata": {},
   "outputs": [],
   "source": [
    "txt_file = f\"./data/final_data/final_point_cloud_p{flag}_txt.txt\"\n",
    "csv_file = f\"./data/final_data/final_point_cloud_p{flag}_csv.csv\"\n",
    "\n",
    "txt_to_csv_with_columns(txt_file, csv_file)"
   ]
  },
  {
   "cell_type": "markdown",
   "metadata": {},
   "source": [
    "- For now, we finished the data processing part!"
   ]
  },
  {
   "cell_type": "markdown",
   "metadata": {},
   "source": [
    "## PART 3 : 3D Reconstruction "
   ]
  },
  {
   "cell_type": "code",
   "execution_count": null,
   "metadata": {},
   "outputs": [],
   "source": []
  },
  {
   "cell_type": "code",
   "execution_count": null,
   "metadata": {},
   "outputs": [],
   "source": []
  },
  {
   "cell_type": "markdown",
   "metadata": {},
   "source": [
    "## PART 4 : Convert into ANSYS APDL"
   ]
  },
  {
   "cell_type": "code",
   "execution_count": null,
   "metadata": {},
   "outputs": [],
   "source": []
  }
 ],
 "metadata": {
  "kernelspec": {
   "display_name": "pointcloud",
   "language": "python",
   "name": "python3"
  },
  "language_info": {
   "codemirror_mode": {
    "name": "ipython",
    "version": 3
   },
   "file_extension": ".py",
   "mimetype": "text/x-python",
   "name": "python",
   "nbconvert_exporter": "python",
   "pygments_lexer": "ipython3",
   "version": "3.6.15"
  }
 },
 "nbformat": 4,
 "nbformat_minor": 2
}
